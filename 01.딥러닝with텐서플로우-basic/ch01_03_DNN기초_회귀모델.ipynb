{
  "nbformat": 4,
  "nbformat_minor": 0,
  "metadata": {
    "colab": {
      "name": "ch01_03_DNN기초-회귀모델.ipynb",
      "provenance": [],
      "collapsed_sections": [],
      "toc_visible": true,
      "include_colab_link": true
    },
    "kernelspec": {
      "name": "python3",
      "display_name": "Python 3"
    },
    "language_info": {
      "name": "python"
    }
  },
  "cells": [
    {
      "cell_type": "markdown",
      "metadata": {
        "id": "view-in-github",
        "colab_type": "text"
      },
      "source": [
        "<a href=\"https://colab.research.google.com/github/hiyeontae/SkillTreePython-DeepLearning/blob/main/01.%EB%94%A5%EB%9F%AC%EB%8B%9Dwith%ED%85%90%EC%84%9C%ED%94%8C%EB%A1%9C%EC%9A%B0-basic/ch01_03_DNN%EA%B8%B0%EC%B4%88_%ED%9A%8C%EA%B7%80%EB%AA%A8%EB%8D%B8.ipynb\" target=\"_parent\"><img src=\"https://colab.research.google.com/assets/colab-badge.svg\" alt=\"Open In Colab\"/></a>"
      ]
    },
    {
      "cell_type": "markdown",
      "source": [
        "# ch01.03 DNN기초-회귀 모델\n",
        "\n",
        "---\n",
        "* 날짜:\n",
        "* 이름:\n",
        "\n",
        "## 학습내용\n",
        "    - 딥러닝을 이용한 회귀 모델 구현\n",
        "    - 적절한 손실함수와 최적화 함수 정의\n",
        "    - 평가 및 예측\n",
        "\n",
        "## 학습자료\n",
        "\n",
        "* 모두의딥러닝 15장\n",
        "* 데이터\n",
        "  * 보스턴 집값 (boston houosing)\n",
        "  * 캘리포티아 집값 (california housing) \n",
        "\n",
        "```\n",
        "import numpy as np\n",
        "import pandas as pd\n",
        "import tensorflow as tf\n",
        "import matplotlib.pyplot as plt\n",
        "import seaborn as sns\n",
        "seed=1\n",
        "np.random.seed(seed)\n",
        "tf.random.set_seed(seed)\n",
        "```\n",
        "\n",
        "```\n",
        "https://github.com/yebiny/SkillTreePython-DeepLearning.git\n",
        "```"
      ],
      "metadata": {
        "id": "sWs2kEC1_b-P"
      }
    },
    {
      "cell_type": "code",
      "source": [
        "import numpy as np\n",
        "import pandas as pd\n",
        "import tensorflow as tf\n",
        "import matplotlib.pyplot as plt\n",
        "import seaborn as sns\n",
        "seed=1\n",
        "np.random.seed(seed)\n",
        "tf.random.set_seed(seed)"
      ],
      "metadata": {
        "id": "7vXrksNr0m1v"
      },
      "execution_count": 1,
      "outputs": []
    },
    {
      "cell_type": "code",
      "source": [
        "! git clone https://github.com/yebiny/SkillTreePython-DeepLearning.git"
      ],
      "metadata": {
        "id": "d2yn5OtsFL0C",
        "outputId": "5b0787e0-0850-4003-89bd-a859f3dee872",
        "colab": {
          "base_uri": "https://localhost:8080/"
        }
      },
      "execution_count": 2,
      "outputs": [
        {
          "output_type": "stream",
          "name": "stdout",
          "text": [
            "Cloning into 'SkillTreePython-DeepLearning'...\n",
            "remote: Enumerating objects: 322, done.\u001b[K\n",
            "remote: Counting objects: 100% (144/144), done.\u001b[K\n",
            "remote: Compressing objects: 100% (80/80), done.\u001b[K\n",
            "remote: Total 322 (delta 94), reused 88 (delta 64), pack-reused 178\u001b[K\n",
            "Receiving objects: 100% (322/322), 22.21 MiB | 25.13 MiB/s, done.\n",
            "Resolving deltas: 100% (129/129), done.\n"
          ]
        }
      ]
    },
    {
      "cell_type": "markdown",
      "source": [
        "## 보스턴 집값 (boston houosing) 예측하기\n",
        "---\n",
        "\n",
        "> 1978년 집값에 가장 큰 영향을 미치는 것이 '깨끗한 공기' 라는 연구 겨로가가 하버드 대학교 도시개발학과에서 발표되었습니다. 이들은 자신의 주장을 뒷받침하기 위해 집값의 변동에 영향을 미치는 여러가지 요인을 모아서 환경과 집값의 변동을 보여주는 데이터셋을 만들었습니다. [ 모두의 딥러닝 중]\n",
        "\n",
        "\n",
        "```\n",
        "- 0 CRIM: 인구 1인당 범죄 발생 수\n",
        "- 1 ZN: 25,000평방 피트 이상의 주거 구역 비중\n",
        "- 2 INDUS: 소매업 외 상업이 차지하는 면적 비율\n",
        "- 3 CHAS: 찰스강 위치 변수(1:강 주변, 0: 이외)\n",
        "- 4 NOX: 일산화질소 농도\n",
        "- 5 RM: 집의 평균 방 수\n",
        "- 6 AGE: 1940년 이전에 지어진 비율\n",
        "- 7 DIS: 5가지 보스턴 시 고용 시설까지의 거리\n",
        "- 8 RAD: 순환고속도로의 접근 용이성\n",
        "- 9 TAX: 10,000달러당 부동산 세율 총계\n",
        "- 10 PTRATIO: 지역별 학생과 교사 비율\n",
        "- 11 B: 지역별 흑인비율\n",
        "- 12 LSTAT: 급여가 낮은 직업에 종사하는 인구 비율\n",
        "- 13 가격 (단위 $1,000)\n",
        "```\n",
        "\n",
        "<p align='center'>\n",
        "<img src=https://github.com/yebiny/SkillTreePython-DeepLearning/blob/main/imgs/ch0103-02.PNG?raw=true\n",
        " width=450>\n",
        "</p>"
      ],
      "metadata": {
        "id": "KOmt3w8_rVe2"
      }
    },
    {
      "cell_type": "markdown",
      "source": [
        "### | 데이터 준비"
      ],
      "metadata": {
        "id": "TmgkVAdIfngb"
      }
    },
    {
      "cell_type": "markdown",
      "source": [
        "#### **데이터 로드**\n",
        "* `housing.csv`"
      ],
      "metadata": {
        "id": "23GhZQAhrD22"
      }
    },
    {
      "cell_type": "code",
      "execution_count": 59,
      "metadata": {
        "id": "68PCrczmzdId",
        "outputId": "1dfbe2e2-519e-4862-a3dc-2c2fcde42f3b",
        "colab": {
          "base_uri": "https://localhost:8080/",
          "height": 468
        }
      },
      "outputs": [
        {
          "output_type": "execute_result",
          "data": {
            "text/plain": [
              "          0     1      2   3      4      5     6       7   8      9     10  \\\n",
              "0    0.00632  18.0   2.31   0  0.538  6.575  65.2  4.0900   1  296.0  15.3   \n",
              "1    0.02731   0.0   7.07   0  0.469  6.421  78.9  4.9671   2  242.0  17.8   \n",
              "2    0.02729   0.0   7.07   0  0.469  7.185  61.1  4.9671   2  242.0  17.8   \n",
              "3    0.03237   0.0   2.18   0  0.458  6.998  45.8  6.0622   3  222.0  18.7   \n",
              "4    0.06905   0.0   2.18   0  0.458  7.147  54.2  6.0622   3  222.0  18.7   \n",
              "..       ...   ...    ...  ..    ...    ...   ...     ...  ..    ...   ...   \n",
              "501  0.06263   0.0  11.93   0  0.573  6.593  69.1  2.4786   1  273.0  21.0   \n",
              "502  0.04527   0.0  11.93   0  0.573  6.120  76.7  2.2875   1  273.0  21.0   \n",
              "503  0.06076   0.0  11.93   0  0.573  6.976  91.0  2.1675   1  273.0  21.0   \n",
              "504  0.10959   0.0  11.93   0  0.573  6.794  89.3  2.3889   1  273.0  21.0   \n",
              "505  0.04741   0.0  11.93   0  0.573  6.030  80.8  2.5050   1  273.0  21.0   \n",
              "\n",
              "         11    12    13  \n",
              "0    396.90  4.98  24.0  \n",
              "1    396.90  9.14  21.6  \n",
              "2    392.83  4.03  34.7  \n",
              "3    394.63  2.94  33.4  \n",
              "4    396.90  5.33  36.2  \n",
              "..      ...   ...   ...  \n",
              "501  391.99  9.67  22.4  \n",
              "502  396.90  9.08  20.6  \n",
              "503  396.90  5.64  23.9  \n",
              "504  393.45  6.48  22.0  \n",
              "505  396.90  7.88  11.9  \n",
              "\n",
              "[506 rows x 14 columns]"
            ],
            "text/html": [
              "\n",
              "  <div id=\"df-b44471c2-0837-4204-85c6-99d951d6d1e1\">\n",
              "    <div class=\"colab-df-container\">\n",
              "      <div>\n",
              "<style scoped>\n",
              "    .dataframe tbody tr th:only-of-type {\n",
              "        vertical-align: middle;\n",
              "    }\n",
              "\n",
              "    .dataframe tbody tr th {\n",
              "        vertical-align: top;\n",
              "    }\n",
              "\n",
              "    .dataframe thead th {\n",
              "        text-align: right;\n",
              "    }\n",
              "</style>\n",
              "<table border=\"1\" class=\"dataframe\">\n",
              "  <thead>\n",
              "    <tr style=\"text-align: right;\">\n",
              "      <th></th>\n",
              "      <th>0</th>\n",
              "      <th>1</th>\n",
              "      <th>2</th>\n",
              "      <th>3</th>\n",
              "      <th>4</th>\n",
              "      <th>5</th>\n",
              "      <th>6</th>\n",
              "      <th>7</th>\n",
              "      <th>8</th>\n",
              "      <th>9</th>\n",
              "      <th>10</th>\n",
              "      <th>11</th>\n",
              "      <th>12</th>\n",
              "      <th>13</th>\n",
              "    </tr>\n",
              "  </thead>\n",
              "  <tbody>\n",
              "    <tr>\n",
              "      <th>0</th>\n",
              "      <td>0.00632</td>\n",
              "      <td>18.0</td>\n",
              "      <td>2.31</td>\n",
              "      <td>0</td>\n",
              "      <td>0.538</td>\n",
              "      <td>6.575</td>\n",
              "      <td>65.2</td>\n",
              "      <td>4.0900</td>\n",
              "      <td>1</td>\n",
              "      <td>296.0</td>\n",
              "      <td>15.3</td>\n",
              "      <td>396.90</td>\n",
              "      <td>4.98</td>\n",
              "      <td>24.0</td>\n",
              "    </tr>\n",
              "    <tr>\n",
              "      <th>1</th>\n",
              "      <td>0.02731</td>\n",
              "      <td>0.0</td>\n",
              "      <td>7.07</td>\n",
              "      <td>0</td>\n",
              "      <td>0.469</td>\n",
              "      <td>6.421</td>\n",
              "      <td>78.9</td>\n",
              "      <td>4.9671</td>\n",
              "      <td>2</td>\n",
              "      <td>242.0</td>\n",
              "      <td>17.8</td>\n",
              "      <td>396.90</td>\n",
              "      <td>9.14</td>\n",
              "      <td>21.6</td>\n",
              "    </tr>\n",
              "    <tr>\n",
              "      <th>2</th>\n",
              "      <td>0.02729</td>\n",
              "      <td>0.0</td>\n",
              "      <td>7.07</td>\n",
              "      <td>0</td>\n",
              "      <td>0.469</td>\n",
              "      <td>7.185</td>\n",
              "      <td>61.1</td>\n",
              "      <td>4.9671</td>\n",
              "      <td>2</td>\n",
              "      <td>242.0</td>\n",
              "      <td>17.8</td>\n",
              "      <td>392.83</td>\n",
              "      <td>4.03</td>\n",
              "      <td>34.7</td>\n",
              "    </tr>\n",
              "    <tr>\n",
              "      <th>3</th>\n",
              "      <td>0.03237</td>\n",
              "      <td>0.0</td>\n",
              "      <td>2.18</td>\n",
              "      <td>0</td>\n",
              "      <td>0.458</td>\n",
              "      <td>6.998</td>\n",
              "      <td>45.8</td>\n",
              "      <td>6.0622</td>\n",
              "      <td>3</td>\n",
              "      <td>222.0</td>\n",
              "      <td>18.7</td>\n",
              "      <td>394.63</td>\n",
              "      <td>2.94</td>\n",
              "      <td>33.4</td>\n",
              "    </tr>\n",
              "    <tr>\n",
              "      <th>4</th>\n",
              "      <td>0.06905</td>\n",
              "      <td>0.0</td>\n",
              "      <td>2.18</td>\n",
              "      <td>0</td>\n",
              "      <td>0.458</td>\n",
              "      <td>7.147</td>\n",
              "      <td>54.2</td>\n",
              "      <td>6.0622</td>\n",
              "      <td>3</td>\n",
              "      <td>222.0</td>\n",
              "      <td>18.7</td>\n",
              "      <td>396.90</td>\n",
              "      <td>5.33</td>\n",
              "      <td>36.2</td>\n",
              "    </tr>\n",
              "    <tr>\n",
              "      <th>...</th>\n",
              "      <td>...</td>\n",
              "      <td>...</td>\n",
              "      <td>...</td>\n",
              "      <td>...</td>\n",
              "      <td>...</td>\n",
              "      <td>...</td>\n",
              "      <td>...</td>\n",
              "      <td>...</td>\n",
              "      <td>...</td>\n",
              "      <td>...</td>\n",
              "      <td>...</td>\n",
              "      <td>...</td>\n",
              "      <td>...</td>\n",
              "      <td>...</td>\n",
              "    </tr>\n",
              "    <tr>\n",
              "      <th>501</th>\n",
              "      <td>0.06263</td>\n",
              "      <td>0.0</td>\n",
              "      <td>11.93</td>\n",
              "      <td>0</td>\n",
              "      <td>0.573</td>\n",
              "      <td>6.593</td>\n",
              "      <td>69.1</td>\n",
              "      <td>2.4786</td>\n",
              "      <td>1</td>\n",
              "      <td>273.0</td>\n",
              "      <td>21.0</td>\n",
              "      <td>391.99</td>\n",
              "      <td>9.67</td>\n",
              "      <td>22.4</td>\n",
              "    </tr>\n",
              "    <tr>\n",
              "      <th>502</th>\n",
              "      <td>0.04527</td>\n",
              "      <td>0.0</td>\n",
              "      <td>11.93</td>\n",
              "      <td>0</td>\n",
              "      <td>0.573</td>\n",
              "      <td>6.120</td>\n",
              "      <td>76.7</td>\n",
              "      <td>2.2875</td>\n",
              "      <td>1</td>\n",
              "      <td>273.0</td>\n",
              "      <td>21.0</td>\n",
              "      <td>396.90</td>\n",
              "      <td>9.08</td>\n",
              "      <td>20.6</td>\n",
              "    </tr>\n",
              "    <tr>\n",
              "      <th>503</th>\n",
              "      <td>0.06076</td>\n",
              "      <td>0.0</td>\n",
              "      <td>11.93</td>\n",
              "      <td>0</td>\n",
              "      <td>0.573</td>\n",
              "      <td>6.976</td>\n",
              "      <td>91.0</td>\n",
              "      <td>2.1675</td>\n",
              "      <td>1</td>\n",
              "      <td>273.0</td>\n",
              "      <td>21.0</td>\n",
              "      <td>396.90</td>\n",
              "      <td>5.64</td>\n",
              "      <td>23.9</td>\n",
              "    </tr>\n",
              "    <tr>\n",
              "      <th>504</th>\n",
              "      <td>0.10959</td>\n",
              "      <td>0.0</td>\n",
              "      <td>11.93</td>\n",
              "      <td>0</td>\n",
              "      <td>0.573</td>\n",
              "      <td>6.794</td>\n",
              "      <td>89.3</td>\n",
              "      <td>2.3889</td>\n",
              "      <td>1</td>\n",
              "      <td>273.0</td>\n",
              "      <td>21.0</td>\n",
              "      <td>393.45</td>\n",
              "      <td>6.48</td>\n",
              "      <td>22.0</td>\n",
              "    </tr>\n",
              "    <tr>\n",
              "      <th>505</th>\n",
              "      <td>0.04741</td>\n",
              "      <td>0.0</td>\n",
              "      <td>11.93</td>\n",
              "      <td>0</td>\n",
              "      <td>0.573</td>\n",
              "      <td>6.030</td>\n",
              "      <td>80.8</td>\n",
              "      <td>2.5050</td>\n",
              "      <td>1</td>\n",
              "      <td>273.0</td>\n",
              "      <td>21.0</td>\n",
              "      <td>396.90</td>\n",
              "      <td>7.88</td>\n",
              "      <td>11.9</td>\n",
              "    </tr>\n",
              "  </tbody>\n",
              "</table>\n",
              "<p>506 rows × 14 columns</p>\n",
              "</div>\n",
              "      <button class=\"colab-df-convert\" onclick=\"convertToInteractive('df-b44471c2-0837-4204-85c6-99d951d6d1e1')\"\n",
              "              title=\"Convert this dataframe to an interactive table.\"\n",
              "              style=\"display:none;\">\n",
              "        \n",
              "  <svg xmlns=\"http://www.w3.org/2000/svg\" height=\"24px\"viewBox=\"0 0 24 24\"\n",
              "       width=\"24px\">\n",
              "    <path d=\"M0 0h24v24H0V0z\" fill=\"none\"/>\n",
              "    <path d=\"M18.56 5.44l.94 2.06.94-2.06 2.06-.94-2.06-.94-.94-2.06-.94 2.06-2.06.94zm-11 1L8.5 8.5l.94-2.06 2.06-.94-2.06-.94L8.5 2.5l-.94 2.06-2.06.94zm10 10l.94 2.06.94-2.06 2.06-.94-2.06-.94-.94-2.06-.94 2.06-2.06.94z\"/><path d=\"M17.41 7.96l-1.37-1.37c-.4-.4-.92-.59-1.43-.59-.52 0-1.04.2-1.43.59L10.3 9.45l-7.72 7.72c-.78.78-.78 2.05 0 2.83L4 21.41c.39.39.9.59 1.41.59.51 0 1.02-.2 1.41-.59l7.78-7.78 2.81-2.81c.8-.78.8-2.07 0-2.86zM5.41 20L4 18.59l7.72-7.72 1.47 1.35L5.41 20z\"/>\n",
              "  </svg>\n",
              "      </button>\n",
              "      \n",
              "  <style>\n",
              "    .colab-df-container {\n",
              "      display:flex;\n",
              "      flex-wrap:wrap;\n",
              "      gap: 12px;\n",
              "    }\n",
              "\n",
              "    .colab-df-convert {\n",
              "      background-color: #E8F0FE;\n",
              "      border: none;\n",
              "      border-radius: 50%;\n",
              "      cursor: pointer;\n",
              "      display: none;\n",
              "      fill: #1967D2;\n",
              "      height: 32px;\n",
              "      padding: 0 0 0 0;\n",
              "      width: 32px;\n",
              "    }\n",
              "\n",
              "    .colab-df-convert:hover {\n",
              "      background-color: #E2EBFA;\n",
              "      box-shadow: 0px 1px 2px rgba(60, 64, 67, 0.3), 0px 1px 3px 1px rgba(60, 64, 67, 0.15);\n",
              "      fill: #174EA6;\n",
              "    }\n",
              "\n",
              "    [theme=dark] .colab-df-convert {\n",
              "      background-color: #3B4455;\n",
              "      fill: #D2E3FC;\n",
              "    }\n",
              "\n",
              "    [theme=dark] .colab-df-convert:hover {\n",
              "      background-color: #434B5C;\n",
              "      box-shadow: 0px 1px 3px 1px rgba(0, 0, 0, 0.15);\n",
              "      filter: drop-shadow(0px 1px 2px rgba(0, 0, 0, 0.3));\n",
              "      fill: #FFFFFF;\n",
              "    }\n",
              "  </style>\n",
              "\n",
              "      <script>\n",
              "        const buttonEl =\n",
              "          document.querySelector('#df-b44471c2-0837-4204-85c6-99d951d6d1e1 button.colab-df-convert');\n",
              "        buttonEl.style.display =\n",
              "          google.colab.kernel.accessAllowed ? 'block' : 'none';\n",
              "\n",
              "        async function convertToInteractive(key) {\n",
              "          const element = document.querySelector('#df-b44471c2-0837-4204-85c6-99d951d6d1e1');\n",
              "          const dataTable =\n",
              "            await google.colab.kernel.invokeFunction('convertToInteractive',\n",
              "                                                     [key], {});\n",
              "          if (!dataTable) return;\n",
              "\n",
              "          const docLinkHtml = 'Like what you see? Visit the ' +\n",
              "            '<a target=\"_blank\" href=https://colab.research.google.com/notebooks/data_table.ipynb>data table notebook</a>'\n",
              "            + ' to learn more about interactive tables.';\n",
              "          element.innerHTML = '';\n",
              "          dataTable['output_type'] = 'display_data';\n",
              "          await google.colab.output.renderOutput(dataTable, element);\n",
              "          const docLink = document.createElement('div');\n",
              "          docLink.innerHTML = docLinkHtml;\n",
              "          element.appendChild(docLink);\n",
              "        }\n",
              "      </script>\n",
              "    </div>\n",
              "  </div>\n",
              "  "
            ]
          },
          "metadata": {},
          "execution_count": 59
        }
      ],
      "source": [
        "data_path = '/content/SkillTreePython-DeepLearning/dataset/housing.csv'\n",
        "dataset = pd.read_csv(data_path,             #엑셀 csv 등 정형 데이터 불러오기\n",
        "                      header=None,           #첫번째 샘플이 헤더로 읽히지 않도록 설정\n",
        "                      delim_whitespace = True) # 스페이스바 기준으로 데이터를 나눠도록 설정\n",
        "#print(dataset.shape)                      \n",
        "dataset"
      ]
    },
    {
      "cell_type": "markdown",
      "source": [
        "#### **데이터 전처리**"
      ],
      "metadata": {
        "id": "794TIO4Rfru5"
      }
    },
    {
      "cell_type": "code",
      "source": [
        "from sklearn.preprocessing import StandardScaler  #머신러닝 라이브러리\n",
        "from sklearn.model_selection import train_test_split\n",
        "\n",
        "def path2dataset_housing(path):\n",
        "  \n",
        "  #불러오기\n",
        "  \n",
        "  dataset = pd.read_csv(data_path,             #엑셀 csv 등 정형 데이터 불러오기\n",
        "                        header=None,           #첫번째 샘플이 헤더로 읽히지 않도록 설정\n",
        "                        delim_whitespace = True # 스페이스바 기준으로 데이터를 나눠도록 설정\n",
        "                        )  \n",
        "  print(dataset.shape) #데이터형식 : 판다스 데이터프레임\n",
        "\n",
        "  #정규화(속성별로 데이터의 스케일을 조정)\n",
        "  scaler = StandardScaler()\n",
        "  dataset = scaler.fit_transform(dataset)\n",
        "  #print(dataset.shape, dataset.dtype) #데이터형식 : 넘파이 배열\n",
        "\n",
        "  #x-y분할\n",
        "  x = dataset[:, 0:-1] #  (: 모든행 .  첫번쨰부터 마지막 전까지의 열) 첫번쨰부터 마지막전까지\n",
        "  y = dataset[:, -1] # (: 모든행 , 마지막열)\n",
        "  #print(x.shape, y.shape)\n",
        "\n",
        "\n",
        "  #train-test 분할\n",
        "  x_train, x_test, y_train, y_test = train_test_split(x, y, test_size = 0.3)\n",
        "\n",
        "\n",
        "\n",
        "  return x_train, x_test, y_train, y_test\n",
        "\n",
        "x_train, x_test, y_train, y_test = path2dataset_housing(data_path)\n",
        "print(x_train.shape, x_test.shape, y_train.shape, y_test.shape )"
      ],
      "metadata": {
        "id": "D1U-aFW96391",
        "outputId": "8c43abd0-b489-4009-e25f-d91508be6d35",
        "colab": {
          "base_uri": "https://localhost:8080/"
        }
      },
      "execution_count": 14,
      "outputs": [
        {
          "output_type": "stream",
          "name": "stdout",
          "text": [
            "(506, 14)\n",
            "(354, 13) (152, 13) (354,) (152,)\n"
          ]
        }
      ]
    },
    {
      "cell_type": "markdown",
      "source": [
        "* 예측값 분포 확인"
      ],
      "metadata": {
        "id": "Y548LRfsrYV9"
      }
    },
    {
      "cell_type": "code",
      "source": [
        "plt.subplot(121);sns.histplot(x=y_train);plt.title('Price(train')\n",
        "plt.subplot(122);sns.histplot(x=y_train);plt.title('Price(test')"
      ],
      "metadata": {
        "id": "6VCNr946fcA5",
        "outputId": "68347e7d-a318-4835-a0ec-621d364e7d7a",
        "colab": {
          "base_uri": "https://localhost:8080/",
          "height": 299
        }
      },
      "execution_count": 16,
      "outputs": [
        {
          "output_type": "execute_result",
          "data": {
            "text/plain": [
              "Text(0.5, 1.0, 'Price(test')"
            ]
          },
          "metadata": {},
          "execution_count": 16
        },
        {
          "output_type": "display_data",
          "data": {
            "text/plain": [
              "<Figure size 432x288 with 2 Axes>"
            ],
            "image/png": "[encoded data removed]"
          },
          "metadata": {
            "needs_background": "light"
          }
        }
      ]
    },
    {
      "cell_type": "markdown",
      "source": [
        "### | 모델\n",
        "\n",
        "\n",
        "<p align='center'>\n",
        "<img src=https://github.com/yebiny/SkillTreePython-DeepLearning/blob/main/imgs/ch0103-01.PNG?raw=true width=600>\n",
        "</p>"
      ],
      "metadata": {
        "id": "DHshtWB9r0be"
      }
    },
    {
      "cell_type": "markdown",
      "source": [
        "#### **모델 생성**"
      ],
      "metadata": {
        "id": "J94jFpWyr2k9"
      }
    },
    {
      "cell_type": "code",
      "source": [
        "from tensorflow.keras import models, layers, utils\n",
        "\n",
        "def bulid_models():\n",
        "  x = layers.Input(shape=(13))\n",
        "  y = layers.Dense(15, activation= 'relu')(x)\n",
        "  y = layers.Dense(6, activation= 'relu')(y)\n",
        "  y = layers.Dense(1)(y)   #회귀 문제 경우, 마지막 레이어의 activation을 사용하지 않는다.\n",
        "  model = models.Model(x,y)\n",
        "\n",
        "\n",
        "  return model"
      ],
      "metadata": {
        "id": "5BZG1z90rsGc"
      },
      "execution_count": 29,
      "outputs": []
    },
    {
      "cell_type": "markdown",
      "source": [
        "#### **모델 시각화**\n",
        "\n",
        "* `model.summary()`\n",
        "* `utils.plot_model()`"
      ],
      "metadata": {
        "id": "1yqXLbEyx5QK"
      }
    },
    {
      "cell_type": "code",
      "source": [
        "model = bulid_models()\n",
        "model.summary()\n",
        "utils.plot_model(model)"
      ],
      "metadata": {
        "id": "dKCT38Fsr6dF",
        "outputId": "c4c0722a-a8bf-4499-ebbe-8daa8cfcaec3",
        "colab": {
          "base_uri": "https://localhost:8080/",
          "height": 678
        }
      },
      "execution_count": 31,
      "outputs": [
        {
          "output_type": "stream",
          "name": "stdout",
          "text": [
            "Model: \"model_1\"\n",
            "_________________________________________________________________\n",
            " Layer (type)                Output Shape              Param #   \n",
            "=================================================================\n",
            " input_2 (InputLayer)        [(None, 13)]              0         \n",
            "                                                                 \n",
            " dense_3 (Dense)             (None, 15)                210       \n",
            "                                                                 \n",
            " dense_4 (Dense)             (None, 6)                 96        \n",
            "                                                                 \n",
            " dense_5 (Dense)             (None, 1)                 7         \n",
            "                                                                 \n",
            "=================================================================\n",
            "Total params: 313\n",
            "Trainable params: 313\n",
            "Non-trainable params: 0\n",
            "_________________________________________________________________\n"
          ]
        },
        {
          "output_type": "execute_result",
          "data": {
            "text/plain": [
              "<IPython.core.display.Image object>"
            ],
            "image/png": "[encoded data removed]"
          },
          "metadata": {},
          "execution_count": 31
        }
      ]
    },
    {
      "cell_type": "markdown",
      "source": [
        "### | 학습"
      ],
      "metadata": {
        "id": "gLuvsUFmwzPa"
      }
    },
    {
      "cell_type": "markdown",
      "source": [
        "#### **모델 컴파일**\n",
        "\n",
        "```\n",
        "model.compile(loss, optimizer) \n",
        "```\n",
        "* `loss` : 손실함수, 회귀ans제에서는 MSE\n",
        "* `optimizer` : 문제에 따라 달라지지 않아요\n",
        "  * sqd : 경사하강법\n",
        "  * adam : sgd에서 파생된 함수"
      ],
      "metadata": {
        "id": "fwQboNHp3EHe"
      }
    },
    {
      "cell_type": "code",
      "source": [
        "model.compile(loss = 'mean_squared_error',\n",
        "              optimizer = 'adam')"
      ],
      "metadata": {
        "id": "oZsx_wHcsQRk"
      },
      "execution_count": 35,
      "outputs": []
    },
    {
      "cell_type": "markdown",
      "source": [
        "#### **학습**\n",
        "\n",
        "```\n",
        "model.fit(x_train, y_train, epochs, batch_size)\n",
        "```\n",
        "* `x_train` : 넘파이 혹은 텐서 형식의 인풋 데이터\n",
        "* `y_train` : 넘파이 혹은 텐서 형식의 아웃풋 데이터\n",
        "* `epochs` : 학습 횟수\n",
        "* `batch_size` : 배치 사이즈 ((업데이트 한번에 사용될 샘플 개수)"
      ],
      "metadata": {
        "id": "_d8jc6rx3FUn"
      }
    },
    {
      "cell_type": "code",
      "source": [
        "model.fit(x_train, y_train, epochs=100, batch_size = 10)"
      ],
      "metadata": {
        "id": "WxZ052VJ3FpG",
        "outputId": "d568617e-14f4-49a8-b825-9d79f30b096f",
        "colab": {
          "base_uri": "https://localhost:8080/"
        }
      },
      "execution_count": 36,
      "outputs": [
        {
          "output_type": "stream",
          "name": "stdout",
          "text": [
            "Epoch 1/100\n",
            "36/36 [==============================] - 1s 2ms/step - loss: 1.0945\n",
            "Epoch 2/100\n",
            "36/36 [==============================] - 0s 2ms/step - loss: 0.8305\n",
            "Epoch 3/100\n",
            "36/36 [==============================] - 0s 2ms/step - loss: 0.7246\n",
            "Epoch 4/100\n",
            "36/36 [==============================] - 0s 2ms/step - loss: 0.6456\n",
            "Epoch 5/100\n",
            "36/36 [==============================] - 0s 2ms/step - loss: 0.5465\n",
            "Epoch 6/100\n",
            "36/36 [==============================] - 0s 2ms/step - loss: 0.4461\n",
            "Epoch 7/100\n",
            "36/36 [==============================] - 0s 2ms/step - loss: 0.3668\n",
            "Epoch 8/100\n",
            "36/36 [==============================] - 0s 2ms/step - loss: 0.3149\n",
            "Epoch 9/100\n",
            "36/36 [==============================] - 0s 2ms/step - loss: 0.2804\n",
            "Epoch 10/100\n",
            "36/36 [==============================] - 0s 2ms/step - loss: 0.2551\n",
            "Epoch 11/100\n",
            "36/36 [==============================] - 0s 2ms/step - loss: 0.2397\n",
            "Epoch 12/100\n",
            "36/36 [==============================] - 0s 2ms/step - loss: 0.2301\n",
            "Epoch 13/100\n",
            "36/36 [==============================] - 0s 2ms/step - loss: 0.2244\n",
            "Epoch 14/100\n",
            "36/36 [==============================] - 0s 2ms/step - loss: 0.2165\n",
            "Epoch 15/100\n",
            "36/36 [==============================] - 0s 2ms/step - loss: 0.2106\n",
            "Epoch 16/100\n",
            "36/36 [==============================] - 0s 2ms/step - loss: 0.2057\n",
            "Epoch 17/100\n",
            "36/36 [==============================] - 0s 2ms/step - loss: 0.2017\n",
            "Epoch 18/100\n",
            "36/36 [==============================] - 0s 2ms/step - loss: 0.1988\n",
            "Epoch 19/100\n",
            "36/36 [==============================] - 0s 2ms/step - loss: 0.1958\n",
            "Epoch 20/100\n",
            "36/36 [==============================] - 0s 2ms/step - loss: 0.1908\n",
            "Epoch 21/100\n",
            "36/36 [==============================] - 0s 2ms/step - loss: 0.1879\n",
            "Epoch 22/100\n",
            "36/36 [==============================] - 0s 2ms/step - loss: 0.1874\n",
            "Epoch 23/100\n",
            "36/36 [==============================] - 0s 2ms/step - loss: 0.1832\n",
            "Epoch 24/100\n",
            "36/36 [==============================] - 0s 2ms/step - loss: 0.1804\n",
            "Epoch 25/100\n",
            "36/36 [==============================] - 0s 2ms/step - loss: 0.1785\n",
            "Epoch 26/100\n",
            "36/36 [==============================] - 0s 2ms/step - loss: 0.1782\n",
            "Epoch 27/100\n",
            "36/36 [==============================] - 0s 2ms/step - loss: 0.1733\n",
            "Epoch 28/100\n",
            "36/36 [==============================] - 0s 2ms/step - loss: 0.1705\n",
            "Epoch 29/100\n",
            "36/36 [==============================] - 0s 2ms/step - loss: 0.1691\n",
            "Epoch 30/100\n",
            "36/36 [==============================] - 0s 2ms/step - loss: 0.1659\n",
            "Epoch 31/100\n",
            "36/36 [==============================] - 0s 2ms/step - loss: 0.1636\n",
            "Epoch 32/100\n",
            "36/36 [==============================] - 0s 2ms/step - loss: 0.1623\n",
            "Epoch 33/100\n",
            "36/36 [==============================] - 0s 2ms/step - loss: 0.1613\n",
            "Epoch 34/100\n",
            "36/36 [==============================] - 0s 2ms/step - loss: 0.1574\n",
            "Epoch 35/100\n",
            "36/36 [==============================] - 0s 2ms/step - loss: 0.1568\n",
            "Epoch 36/100\n",
            "36/36 [==============================] - 0s 2ms/step - loss: 0.1546\n",
            "Epoch 37/100\n",
            "36/36 [==============================] - 0s 2ms/step - loss: 0.1521\n",
            "Epoch 38/100\n",
            "36/36 [==============================] - 0s 2ms/step - loss: 0.1524\n",
            "Epoch 39/100\n",
            "36/36 [==============================] - 0s 2ms/step - loss: 0.1521\n",
            "Epoch 40/100\n",
            "36/36 [==============================] - 0s 2ms/step - loss: 0.1494\n",
            "Epoch 41/100\n",
            "36/36 [==============================] - 0s 2ms/step - loss: 0.1470\n",
            "Epoch 42/100\n",
            "36/36 [==============================] - 0s 2ms/step - loss: 0.1465\n",
            "Epoch 43/100\n",
            "36/36 [==============================] - 0s 2ms/step - loss: 0.1462\n",
            "Epoch 44/100\n",
            "36/36 [==============================] - 0s 2ms/step - loss: 0.1446\n",
            "Epoch 45/100\n",
            "36/36 [==============================] - 0s 2ms/step - loss: 0.1435\n",
            "Epoch 46/100\n",
            "36/36 [==============================] - 0s 2ms/step - loss: 0.1410\n",
            "Epoch 47/100\n",
            "36/36 [==============================] - 0s 2ms/step - loss: 0.1410\n",
            "Epoch 48/100\n",
            "36/36 [==============================] - 0s 3ms/step - loss: 0.1412\n",
            "Epoch 49/100\n",
            "36/36 [==============================] - 0s 2ms/step - loss: 0.1388\n",
            "Epoch 50/100\n",
            "36/36 [==============================] - 0s 2ms/step - loss: 0.1368\n",
            "Epoch 51/100\n",
            "36/36 [==============================] - 0s 2ms/step - loss: 0.1372\n",
            "Epoch 52/100\n",
            "36/36 [==============================] - 0s 2ms/step - loss: 0.1367\n",
            "Epoch 53/100\n",
            "36/36 [==============================] - 0s 2ms/step - loss: 0.1350\n",
            "Epoch 54/100\n",
            "36/36 [==============================] - 0s 2ms/step - loss: 0.1333\n",
            "Epoch 55/100\n",
            "36/36 [==============================] - 0s 2ms/step - loss: 0.1330\n",
            "Epoch 56/100\n",
            "36/36 [==============================] - 0s 2ms/step - loss: 0.1347\n",
            "Epoch 57/100\n",
            "36/36 [==============================] - 0s 2ms/step - loss: 0.1312\n",
            "Epoch 58/100\n",
            "36/36 [==============================] - 0s 2ms/step - loss: 0.1294\n",
            "Epoch 59/100\n",
            "36/36 [==============================] - 0s 2ms/step - loss: 0.1289\n",
            "Epoch 60/100\n",
            "36/36 [==============================] - 0s 2ms/step - loss: 0.1287\n",
            "Epoch 61/100\n",
            "36/36 [==============================] - 0s 2ms/step - loss: 0.1287\n",
            "Epoch 62/100\n",
            "36/36 [==============================] - 0s 2ms/step - loss: 0.1259\n",
            "Epoch 63/100\n",
            "36/36 [==============================] - 0s 2ms/step - loss: 0.1258\n",
            "Epoch 64/100\n",
            "36/36 [==============================] - 0s 2ms/step - loss: 0.1248\n",
            "Epoch 65/100\n",
            "36/36 [==============================] - 0s 2ms/step - loss: 0.1254\n",
            "Epoch 66/100\n",
            "36/36 [==============================] - 0s 2ms/step - loss: 0.1235\n",
            "Epoch 67/100\n",
            "36/36 [==============================] - 0s 2ms/step - loss: 0.1227\n",
            "Epoch 68/100\n",
            "36/36 [==============================] - 0s 2ms/step - loss: 0.1227\n",
            "Epoch 69/100\n",
            "36/36 [==============================] - 0s 2ms/step - loss: 0.1212\n",
            "Epoch 70/100\n",
            "36/36 [==============================] - 0s 2ms/step - loss: 0.1208\n",
            "Epoch 71/100\n",
            "36/36 [==============================] - 0s 2ms/step - loss: 0.1178\n",
            "Epoch 72/100\n",
            "36/36 [==============================] - 0s 2ms/step - loss: 0.1187\n",
            "Epoch 73/100\n",
            "36/36 [==============================] - 0s 2ms/step - loss: 0.1180\n",
            "Epoch 74/100\n",
            "36/36 [==============================] - 0s 2ms/step - loss: 0.1157\n",
            "Epoch 75/100\n",
            "36/36 [==============================] - 0s 2ms/step - loss: 0.1162\n",
            "Epoch 76/100\n",
            "36/36 [==============================] - 0s 2ms/step - loss: 0.1138\n",
            "Epoch 77/100\n",
            "36/36 [==============================] - 0s 2ms/step - loss: 0.1127\n",
            "Epoch 78/100\n",
            "36/36 [==============================] - 0s 2ms/step - loss: 0.1116\n",
            "Epoch 79/100\n",
            "36/36 [==============================] - 0s 2ms/step - loss: 0.1109\n",
            "Epoch 80/100\n",
            "36/36 [==============================] - 0s 2ms/step - loss: 0.1104\n",
            "Epoch 81/100\n",
            "36/36 [==============================] - 0s 2ms/step - loss: 0.1088\n",
            "Epoch 82/100\n",
            "36/36 [==============================] - 0s 2ms/step - loss: 0.1090\n",
            "Epoch 83/100\n",
            "36/36 [==============================] - 0s 2ms/step - loss: 0.1081\n",
            "Epoch 84/100\n",
            "36/36 [==============================] - 0s 2ms/step - loss: 0.1061\n",
            "Epoch 85/100\n",
            "36/36 [==============================] - 0s 2ms/step - loss: 0.1056\n",
            "Epoch 86/100\n",
            "36/36 [==============================] - 0s 2ms/step - loss: 0.1063\n",
            "Epoch 87/100\n",
            "36/36 [==============================] - 0s 2ms/step - loss: 0.1033\n",
            "Epoch 88/100\n",
            "36/36 [==============================] - 0s 2ms/step - loss: 0.1043\n",
            "Epoch 89/100\n",
            "36/36 [==============================] - 0s 2ms/step - loss: 0.1028\n",
            "Epoch 90/100\n",
            "36/36 [==============================] - 0s 2ms/step - loss: 0.1018\n",
            "Epoch 91/100\n",
            "36/36 [==============================] - 0s 2ms/step - loss: 0.1012\n",
            "Epoch 92/100\n",
            "36/36 [==============================] - 0s 2ms/step - loss: 0.1016\n",
            "Epoch 93/100\n",
            "36/36 [==============================] - 0s 2ms/step - loss: 0.0997\n",
            "Epoch 94/100\n",
            "36/36 [==============================] - 0s 2ms/step - loss: 0.0996\n",
            "Epoch 95/100\n",
            "36/36 [==============================] - 0s 2ms/step - loss: 0.0976\n",
            "Epoch 96/100\n",
            "36/36 [==============================] - 0s 2ms/step - loss: 0.0974\n",
            "Epoch 97/100\n",
            "36/36 [==============================] - 0s 2ms/step - loss: 0.0978\n",
            "Epoch 98/100\n",
            "36/36 [==============================] - 0s 2ms/step - loss: 0.0964\n",
            "Epoch 99/100\n",
            "36/36 [==============================] - 0s 2ms/step - loss: 0.0961\n",
            "Epoch 100/100\n",
            "36/36 [==============================] - 0s 2ms/step - loss: 0.0947\n"
          ]
        },
        {
          "output_type": "execute_result",
          "data": {
            "text/plain": [
              "<keras.callbacks.History at 0x7f8594c9cc10>"
            ]
          },
          "metadata": {},
          "execution_count": 36
        }
      ]
    },
    {
      "cell_type": "markdown",
      "source": [
        "### | 검증 및 예측\n"
      ],
      "metadata": {
        "id": "DyFOnqyNw5_q"
      }
    },
    {
      "cell_type": "markdown",
      "source": [
        "#### **검증**\n",
        "\n",
        "```\n",
        "model.evaluate(x_test, y_test)\n",
        "```\n",
        "* `x_test` : 넘파이 혹은 텐서 형식의 인풋 테스트 데이터\n",
        "* `y_test` : 넘파이 혹은 텐서 형식의 아웃풋 테스트 데이터"
      ],
      "metadata": {
        "id": "qlalKZ-a04c3"
      }
    },
    {
      "cell_type": "code",
      "source": [
        "model.evaluate(x_test, y_test)"
      ],
      "metadata": {
        "id": "uHGyMlf60zng",
        "outputId": "03513a83-ea77-4954-ca02-273e9692c47b",
        "colab": {
          "base_uri": "https://localhost:8080/"
        }
      },
      "execution_count": 38,
      "outputs": [
        {
          "output_type": "stream",
          "name": "stdout",
          "text": [
            "5/5 [==============================] - 0s 3ms/step - loss: 0.1109\n"
          ]
        },
        {
          "output_type": "execute_result",
          "data": {
            "text/plain": [
              "0.11091375350952148"
            ]
          },
          "metadata": {},
          "execution_count": 38
        }
      ]
    },
    {
      "cell_type": "markdown",
      "source": [
        "#### **예측**\n",
        "\n",
        "```\n",
        "model.predict(x_test)\n",
        "```\n",
        "* `x_test` : 넘파이 혹은 텐서 형식의 인풋 테스트 데이터\n",
        "* `y_test` : 넘파이 혹은 텐서 형식의 아웃풋 테스트 데이터"
      ],
      "metadata": {
        "id": "BITPUIOj07Uv"
      }
    },
    {
      "cell_type": "code",
      "source": [
        "y_pred = model.predict(x_test)\n",
        "y_pred = y_pred.flatten() #2차 행렬 -> 1차 벡터\n",
        "print(y_test.shape, y_pred.shape)\n",
        "for i in range(10):\n",
        "  print(f'* 집값 : {y_test[i]}, 예측한 집값: {y_pred[i]}')"
      ],
      "metadata": {
        "id": "KfDHL4PRv8YD",
        "outputId": "eebb5a9a-6ee9-40ed-9952-92b8d6d7f15b",
        "colab": {
          "base_uri": "https://localhost:8080/"
        }
      },
      "execution_count": 41,
      "outputs": [
        {
          "output_type": "stream",
          "name": "stdout",
          "text": [
            "(152,) (152,)\n",
            "* 집값 : 0.09438317220388996, 예측한 집값: -0.3723407983779907\n",
            "* 집값 : -0.37361798112615824, 예측한 집값: -0.17408958077430725\n",
            "* 집값 : 0.26852313623367563, 예측한 집값: 0.11708800494670868\n",
            "* 집값 : -0.00357055756286422, 예측한 집값: 0.09957808256149292\n",
            "* 집값 : 0.6494543075488314, 예측한 집값: 1.1209672689437866\n",
            "* 집값 : -0.8851541254636532, 예측한 집값: -0.6176576614379883\n",
            "* 집값 : -0.41715297213360486, 예측한 집값: -0.43869656324386597\n",
            "* 집값 : 1.4657353889384508, 예측한 집값: 1.516387701034546\n",
            "* 집값 : -0.330082990118712, 예측한 집값: -0.4567524194717407\n",
            "* 집값 : 2.989460074199074, 예측한 집값: 3.0694353580474854\n"
          ]
        }
      ]
    },
    {
      "cell_type": "markdown",
      "source": [
        "* 예측 시각화"
      ],
      "metadata": {
        "id": "gThN4RCR0_HI"
      }
    },
    {
      "cell_type": "code",
      "source": [
        "plt.figure(figsize=(18,4))\n",
        "plt.plot(y_test, marker='o', linestyle = ':', label='y true')\n",
        "plt.plot(y_pred, marker='o', linestyle = ':', label='y true')\n",
        "plt.legend()\n",
        "plt.xlabel('nth sample')\n",
        "plt.ylabel('Price')\n",
        "\n"
      ],
      "metadata": {
        "id": "TG533VyLwDaK",
        "outputId": "27c7ade1-601b-4c0e-e187-723bc4ca0e64",
        "colab": {
          "base_uri": "https://localhost:8080/",
          "height": 202
        }
      },
      "execution_count": 45,
      "outputs": [
        {
          "output_type": "execute_result",
          "data": {
            "text/plain": [
              "Text(0, 0.5, 'Price')"
            ]
          },
          "metadata": {},
          "execution_count": 45
        },
        {
          "output_type": "display_data",
          "data": {
            "text/plain": [
              "<Figure size 1296x288 with 1 Axes>"
            ],
            "image/png": "[encoded data removed]"
          },
          "metadata": {
            "needs_background": "light"
          }
        }
      ]
    },
    {
      "cell_type": "markdown",
      "source": [
        "## 과제\n",
        "---"
      ],
      "metadata": {
        "id": "ZFrRTgcyipYg"
      }
    },
    {
      "cell_type": "markdown",
      "source": [
        "### | 과제1. 회귀 문제 정리\n",
        "\n",
        "* 예측값의 범위 : 연속형, 무한, 보통은 정규화\n",
        "* 예측값의 shape : (샘플수, 1)\n",
        "* 아웃풋 레이어의 노드 개수 : 1  \n",
        "* 아웃풋 레이어의 activation : 회귀문제에서는 마지막레이어에 활성화함수 쓰지않는다\n",
        "* 손실함수 (loss) : 회귀문제 : MSE\n",
        "* 평가함수 (metrics) : 회귀에서는 사용하지 않음"
      ],
      "metadata": {
        "id": "xjnJSLgXK_Pp"
      }
    },
    {
      "cell_type": "markdown",
      "source": [
        "### | 과제2. 한 셀에 코드 정리하기\n",
        "\n",
        "* 추가 연습\n",
        "  * 모델의 깊이(depth)를 늘려가며 학습해 보세요.\n",
        "  * 모델의 너비(width)를 늘려가며 학습해 보세요."
      ],
      "metadata": {
        "id": "ZvFAB78P1B_Q"
      }
    },
    {
      "cell_type": "code",
      "source": [
        "from sklearn.preprocessing import StandardScaler  #머신러닝 라이브러리\n",
        "from sklearn.model_selection import train_test_split\n",
        "from tensorflow.keras import models, layers, utils\n",
        "\n",
        "#데이터 로드\n",
        "data_path = '/content/SkillTreePython-DeepLearning/dataset/housing.csv'\n",
        "dataset = pd.read_csv(data_path,             #엑셀 csv 등 정형 데이터 불러오기\n",
        "                      header=None,           #첫번째 샘플이 헤더로 읽히지 않도록 설정\n",
        "                      delim_whitespace = True) # 스페이스바 기준으로 데이터를 나눠도록 설정\n",
        "#print(dataset.shape)                      \n",
        "dataset\n",
        "#데이터 전처리\n",
        "def path2dataset_housing(path):\n",
        "  \n",
        "  #불러오기\n",
        "  \n",
        "  dataset = pd.read_csv(data_path,             #엑셀 csv 등 정형 데이터 불러오기\n",
        "                        header=None,           #첫번째 샘플이 헤더로 읽히지 않도록 설정\n",
        "                        delim_whitespace = True # 스페이스바 기준으로 데이터를 나눠도록 설정\n",
        "                        )  \n",
        "  print(dataset.shape) #데이터형식 : 판다스 데이터프레임\n",
        "\n",
        "  #정규화(속성별로 데이터의 스케일을 조정)\n",
        "  scaler = StandardScaler()\n",
        "  dataset = scaler.fit_transform(dataset)\n",
        "  #print(dataset.shape, dataset.dtype) #데이터형식 : 넘파이 배열\n",
        "\n",
        "  #x-y분할\n",
        "  x = dataset[:, 0:-1] #  (: 모든행 .  첫번쨰부터 마지막 전까지의 열) 첫번쨰부터 마지막전까지\n",
        "  y = dataset[:, -1] # (: 모든행 , 마지막열)\n",
        "  #print(x.shape, y.shape)\n",
        "\n",
        "\n",
        "  #train-test 분할\n",
        "  x_train, x_test, y_train, y_test = train_test_split(x, y, test_size = 0.3)\n",
        "\n",
        "\n",
        "\n",
        "  return x_train, x_test, y_train, y_test\n",
        "\n",
        "\n",
        "#모델생성\n",
        "def bulid_models():\n",
        "  x = layers.Input(shape=(13))\n",
        "  y = layers.Dense(15, activation= 'relu')(x)\n",
        "  y = layers.Dense(6, activation= 'relu')(y)\n",
        "  y = layers.Dense(1)(y)   #회귀 문제 경우, 마지막 레이어의 activation을 사용하지 않는다.\n",
        "  model = models.Model(x,y)\n",
        "\n",
        "\n",
        "  return model\n",
        "\n",
        "\n",
        "\n",
        "x_train, x_test, y_train, y_test = path2dataset_housing(data_path)\n",
        "print(x_train.shape, x_test.shape, y_train.shape, y_test.shape )\n",
        "\n",
        "\n",
        "#시각화\n",
        "model = bulid_models()\n",
        "model.summary()\n",
        "utils.plot_model(model)\n",
        "\n",
        "#모델 컴파일\n",
        "model.compile(loss = 'mean_squared_error',\n",
        "              optimizer = 'adam')\n",
        "#학습\n",
        "model.fit(x_train, y_train, epochs=100, batch_size = 10)\n",
        "\n",
        "#예측\n",
        "y_pred = model.predict(x_test)\n",
        "y_pred = y_pred.flatten() #2차 행렬 -> 1차 벡터\n",
        "print(y_test.shape, y_pred.shape)\n",
        "for i in range(10):\n",
        "  print(f'* 집값 : {y_test[i]}, 예측한 집값: {y_pred[i]}')\n"
      ],
      "metadata": {
        "id": "v5WYSd9a1Cz4",
        "outputId": "5c0b4a89-a66b-4717-e2b0-f6cb8fc3c069",
        "colab": {
          "base_uri": "https://localhost:8080/"
        }
      },
      "execution_count": 73,
      "outputs": [
        {
          "output_type": "stream",
          "name": "stdout",
          "text": [
            "(506, 14)\n",
            "(354, 13) (152, 13) (354,) (152,)\n",
            "Model: \"model_5\"\n",
            "_________________________________________________________________\n",
            " Layer (type)                Output Shape              Param #   \n",
            "=================================================================\n",
            " input_6 (InputLayer)        [(None, 13)]              0         \n",
            "                                                                 \n",
            " dense_15 (Dense)            (None, 15)                210       \n",
            "                                                                 \n",
            " dense_16 (Dense)            (None, 6)                 96        \n",
            "                                                                 \n",
            " dense_17 (Dense)            (None, 1)                 7         \n",
            "                                                                 \n",
            "=================================================================\n",
            "Total params: 313\n",
            "Trainable params: 313\n",
            "Non-trainable params: 0\n",
            "_________________________________________________________________\n",
            "Epoch 1/100\n",
            "36/36 [==============================] - 0s 2ms/step - loss: 0.9398\n",
            "Epoch 2/100\n",
            "36/36 [==============================] - 0s 2ms/step - loss: 0.7655\n",
            "Epoch 3/100\n",
            "36/36 [==============================] - 0s 2ms/step - loss: 0.5958\n",
            "Epoch 4/100\n",
            "36/36 [==============================] - 0s 2ms/step - loss: 0.4564\n",
            "Epoch 5/100\n",
            "36/36 [==============================] - 0s 3ms/step - loss: 0.3766\n",
            "Epoch 6/100\n",
            "36/36 [==============================] - 0s 2ms/step - loss: 0.3201\n",
            "Epoch 7/100\n",
            "36/36 [==============================] - 0s 2ms/step - loss: 0.2769\n",
            "Epoch 8/100\n",
            "36/36 [==============================] - 0s 2ms/step - loss: 0.2490\n",
            "Epoch 9/100\n",
            "36/36 [==============================] - 0s 2ms/step - loss: 0.2284\n",
            "Epoch 10/100\n",
            "36/36 [==============================] - 0s 2ms/step - loss: 0.2141\n",
            "Epoch 11/100\n",
            "36/36 [==============================] - 0s 2ms/step - loss: 0.2014\n",
            "Epoch 12/100\n",
            "36/36 [==============================] - 0s 3ms/step - loss: 0.1929\n",
            "Epoch 13/100\n",
            "36/36 [==============================] - 0s 3ms/step - loss: 0.1834\n",
            "Epoch 14/100\n",
            "36/36 [==============================] - 0s 2ms/step - loss: 0.1737\n",
            "Epoch 15/100\n",
            "36/36 [==============================] - 0s 2ms/step - loss: 0.1652\n",
            "Epoch 16/100\n",
            "36/36 [==============================] - 0s 2ms/step - loss: 0.1629\n",
            "Epoch 17/100\n",
            "36/36 [==============================] - 0s 2ms/step - loss: 0.1569\n",
            "Epoch 18/100\n",
            "36/36 [==============================] - 0s 2ms/step - loss: 0.1500\n",
            "Epoch 19/100\n",
            "36/36 [==============================] - 0s 2ms/step - loss: 0.1472\n",
            "Epoch 20/100\n",
            "36/36 [==============================] - 0s 2ms/step - loss: 0.1419\n",
            "Epoch 21/100\n",
            "36/36 [==============================] - 0s 2ms/step - loss: 0.1382\n",
            "Epoch 22/100\n",
            "36/36 [==============================] - 0s 3ms/step - loss: 0.1359\n",
            "Epoch 23/100\n",
            "36/36 [==============================] - 0s 2ms/step - loss: 0.1328\n",
            "Epoch 24/100\n",
            "36/36 [==============================] - 0s 3ms/step - loss: 0.1299\n",
            "Epoch 25/100\n",
            "36/36 [==============================] - 0s 2ms/step - loss: 0.1270\n",
            "Epoch 26/100\n",
            "36/36 [==============================] - 0s 3ms/step - loss: 0.1252\n",
            "Epoch 27/100\n",
            "36/36 [==============================] - 0s 2ms/step - loss: 0.1227\n",
            "Epoch 28/100\n",
            "36/36 [==============================] - 0s 2ms/step - loss: 0.1196\n",
            "Epoch 29/100\n",
            "36/36 [==============================] - 0s 2ms/step - loss: 0.1175\n",
            "Epoch 30/100\n",
            "36/36 [==============================] - 0s 2ms/step - loss: 0.1184\n",
            "Epoch 31/100\n",
            "36/36 [==============================] - 0s 2ms/step - loss: 0.1141\n",
            "Epoch 32/100\n",
            "36/36 [==============================] - 0s 2ms/step - loss: 0.1127\n",
            "Epoch 33/100\n",
            "36/36 [==============================] - 0s 3ms/step - loss: 0.1109\n",
            "Epoch 34/100\n",
            "36/36 [==============================] - 0s 2ms/step - loss: 0.1101\n",
            "Epoch 35/100\n",
            "36/36 [==============================] - 0s 2ms/step - loss: 0.1068\n",
            "Epoch 36/100\n",
            "36/36 [==============================] - 0s 2ms/step - loss: 0.1044\n",
            "Epoch 37/100\n",
            "36/36 [==============================] - 0s 2ms/step - loss: 0.1046\n",
            "Epoch 38/100\n",
            "36/36 [==============================] - 0s 2ms/step - loss: 0.1014\n",
            "Epoch 39/100\n",
            "36/36 [==============================] - 0s 2ms/step - loss: 0.1000\n",
            "Epoch 40/100\n",
            "36/36 [==============================] - 0s 2ms/step - loss: 0.0989\n",
            "Epoch 41/100\n",
            "36/36 [==============================] - 0s 2ms/step - loss: 0.0979\n",
            "Epoch 42/100\n",
            "36/36 [==============================] - 0s 2ms/step - loss: 0.0968\n",
            "Epoch 43/100\n",
            "36/36 [==============================] - 0s 2ms/step - loss: 0.0962\n",
            "Epoch 44/100\n",
            "36/36 [==============================] - 0s 2ms/step - loss: 0.0941\n",
            "Epoch 45/100\n",
            "36/36 [==============================] - 0s 2ms/step - loss: 0.0923\n",
            "Epoch 46/100\n",
            "36/36 [==============================] - 0s 2ms/step - loss: 0.0936\n",
            "Epoch 47/100\n",
            "36/36 [==============================] - 0s 2ms/step - loss: 0.0909\n",
            "Epoch 48/100\n",
            "36/36 [==============================] - 0s 3ms/step - loss: 0.0896\n",
            "Epoch 49/100\n",
            "36/36 [==============================] - 0s 2ms/step - loss: 0.0876\n",
            "Epoch 50/100\n",
            "36/36 [==============================] - 0s 2ms/step - loss: 0.0890\n",
            "Epoch 51/100\n",
            "36/36 [==============================] - 0s 2ms/step - loss: 0.0853\n",
            "Epoch 52/100\n",
            "36/36 [==============================] - 0s 2ms/step - loss: 0.0870\n",
            "Epoch 53/100\n",
            "36/36 [==============================] - 0s 4ms/step - loss: 0.0840\n",
            "Epoch 54/100\n",
            "36/36 [==============================] - 0s 7ms/step - loss: 0.0822\n",
            "Epoch 55/100\n",
            "36/36 [==============================] - 0s 4ms/step - loss: 0.0816\n",
            "Epoch 56/100\n",
            "36/36 [==============================] - 0s 7ms/step - loss: 0.0813\n",
            "Epoch 57/100\n",
            "36/36 [==============================] - 0s 7ms/step - loss: 0.0799\n",
            "Epoch 58/100\n",
            "36/36 [==============================] - 0s 8ms/step - loss: 0.0791\n",
            "Epoch 59/100\n",
            "36/36 [==============================] - 0s 10ms/step - loss: 0.0771\n",
            "Epoch 60/100\n",
            "36/36 [==============================] - 0s 7ms/step - loss: 0.0764\n",
            "Epoch 61/100\n",
            "36/36 [==============================] - 0s 6ms/step - loss: 0.0744\n",
            "Epoch 62/100\n",
            "36/36 [==============================] - 0s 7ms/step - loss: 0.0757\n",
            "Epoch 63/100\n",
            "36/36 [==============================] - 0s 8ms/step - loss: 0.0748\n",
            "Epoch 64/100\n",
            "36/36 [==============================] - 0s 10ms/step - loss: 0.0738\n",
            "Epoch 65/100\n",
            "36/36 [==============================] - 0s 6ms/step - loss: 0.0731\n",
            "Epoch 66/100\n",
            "36/36 [==============================] - 0s 6ms/step - loss: 0.0727\n",
            "Epoch 67/100\n",
            "36/36 [==============================] - 0s 6ms/step - loss: 0.0737\n",
            "Epoch 68/100\n",
            "36/36 [==============================] - 0s 6ms/step - loss: 0.0727\n",
            "Epoch 69/100\n",
            "36/36 [==============================] - 0s 5ms/step - loss: 0.0702\n",
            "Epoch 70/100\n",
            "36/36 [==============================] - 0s 5ms/step - loss: 0.0699\n",
            "Epoch 71/100\n",
            "36/36 [==============================] - 0s 8ms/step - loss: 0.0708\n",
            "Epoch 72/100\n",
            "36/36 [==============================] - 0s 4ms/step - loss: 0.0681\n",
            "Epoch 73/100\n",
            "36/36 [==============================] - 0s 5ms/step - loss: 0.0687\n",
            "Epoch 74/100\n",
            "36/36 [==============================] - 0s 5ms/step - loss: 0.0673\n",
            "Epoch 75/100\n",
            "36/36 [==============================] - 0s 7ms/step - loss: 0.0660\n",
            "Epoch 76/100\n",
            "36/36 [==============================] - 0s 4ms/step - loss: 0.0671\n",
            "Epoch 77/100\n",
            "36/36 [==============================] - 0s 4ms/step - loss: 0.0662\n",
            "Epoch 78/100\n",
            "36/36 [==============================] - 0s 6ms/step - loss: 0.0665\n",
            "Epoch 79/100\n",
            "36/36 [==============================] - 0s 4ms/step - loss: 0.0643\n",
            "Epoch 80/100\n",
            "36/36 [==============================] - 0s 5ms/step - loss: 0.0645\n",
            "Epoch 81/100\n",
            "36/36 [==============================] - 0s 6ms/step - loss: 0.0643\n",
            "Epoch 82/100\n",
            "36/36 [==============================] - 0s 4ms/step - loss: 0.0647\n",
            "Epoch 83/100\n",
            "36/36 [==============================] - 0s 4ms/step - loss: 0.0625\n",
            "Epoch 84/100\n",
            "36/36 [==============================] - 0s 4ms/step - loss: 0.0637\n",
            "Epoch 85/100\n",
            "36/36 [==============================] - 0s 3ms/step - loss: 0.0628\n",
            "Epoch 86/100\n",
            "36/36 [==============================] - 0s 5ms/step - loss: 0.0620\n",
            "Epoch 87/100\n",
            "36/36 [==============================] - 0s 4ms/step - loss: 0.0614\n",
            "Epoch 88/100\n",
            "36/36 [==============================] - 0s 4ms/step - loss: 0.0619\n",
            "Epoch 89/100\n",
            "36/36 [==============================] - 0s 3ms/step - loss: 0.0610\n",
            "Epoch 90/100\n",
            "36/36 [==============================] - 0s 3ms/step - loss: 0.0606\n",
            "Epoch 91/100\n",
            "36/36 [==============================] - 0s 4ms/step - loss: 0.0597\n",
            "Epoch 92/100\n",
            "36/36 [==============================] - 0s 4ms/step - loss: 0.0598\n",
            "Epoch 93/100\n",
            "36/36 [==============================] - 0s 4ms/step - loss: 0.0632\n",
            "Epoch 94/100\n",
            "36/36 [==============================] - 0s 5ms/step - loss: 0.0606\n",
            "Epoch 95/100\n",
            "36/36 [==============================] - 0s 4ms/step - loss: 0.0595\n",
            "Epoch 96/100\n",
            "36/36 [==============================] - 0s 4ms/step - loss: 0.0584\n",
            "Epoch 97/100\n",
            "36/36 [==============================] - 0s 4ms/step - loss: 0.0584\n",
            "Epoch 98/100\n",
            "36/36 [==============================] - 0s 6ms/step - loss: 0.0593\n",
            "Epoch 99/100\n",
            "36/36 [==============================] - 0s 5ms/step - loss: 0.0570\n",
            "Epoch 100/100\n",
            "36/36 [==============================] - 0s 5ms/step - loss: 0.0575\n",
            "(152,) (152,)\n",
            "* 집값 : 0.6494543075488314, 예측한 집값: 0.962756872177124\n",
            "* 집값 : -0.43892046763732795, 예측한 집값: -0.5528954267501831\n",
            "* 집값 : 1.1283392086307413, 예측한 집값: 1.1480739116668701\n",
            "* 집값 : 2.8588551011767347, 예측한 집값: 2.723503589630127\n",
            "* 집값 : -1.6905514591014112, 예측한 집값: -1.5729671716690063\n",
            "* 집값 : -0.09064053957775704, 예측한 집값: -0.24510546028614044\n",
            "* 집값 : -0.35185048562243515, 예측한 집값: -0.09428401291370392\n",
            "* 집값 : -0.41715297213360486, 예측한 집값: -0.46159377694129944\n",
            "* 집값 : 0.26852313623367563, 예측한 집값: 0.2812509536743164\n",
            "* 집값 : 0.12703441545947483, 예측한 집값: 0.939727783203125\n"
          ]
        }
      ]
    },
    {
      "cell_type": "markdown",
      "source": [
        "### | 과제 3. 캘리포니아 집값 예측\n",
        "\n",
        "---\n",
        "\n",
        "> 1990년 캘리포니아 인구조사 데이터인 캘리포니아 주택 가격(California Housing Prices) 데이터를 사용하며 학습을 통해 주택 가격을 예측하는 문제입니다.\n",
        "\n",
        "\n",
        "```\n",
        "- 0 longitude: 경도\n",
        "- 1 latitude: 위도\n",
        "- 2 housing_median_age: 주택나이 (중앙값)\n",
        "- 3 total_rooms: 전체 방 수\n",
        "- 4 total_bedrooms: 전체 침실 수\n",
        "- 5 population: 인구\n",
        "- 6 households: 세대\n",
        "- 7 median_income: 소득(중앙값)\n",
        "- 8 median_house_value: 주택 가치(중앙값)\n",
        "```\n",
        "\n",
        "* `/content/sample_data/california_housing_train.csv` "
      ],
      "metadata": {
        "id": "FvTdcVFC5LMt"
      }
    },
    {
      "cell_type": "code",
      "source": [
        "from sklearn.preprocessing import StandardScaler  #머신러닝 라이브러리\n",
        "from sklearn.model_selection import train_test_split\n",
        "from tensorflow.keras import models, layers, utils\n",
        "\n",
        "#데이터 로드\n",
        "data_path = '/content/sample_data/california_housing_train.csv'\n",
        "dataset = pd.read_csv(data_path,             #엑셀 csv 등 정형 데이터 불러오기\n",
        "                      header=None,           #첫번째 샘플이 헤더로 읽히지 않도록 설정\n",
        "                      delim_whitespace = True) # 스페이스바 기준으로 데이터를 나눠도록 설정\n",
        "#print(dataset.shape)                      \n",
        "dataset\n",
        "\n",
        "\n",
        "#데이터 전처리\n",
        "def path2dataset_housing(path):\n",
        "  \n",
        "  #불러오기\n",
        "  \n",
        "  dataset = pd.read_csv(data_path,             #엑셀 csv 등 정형 데이터 불러오기\n",
        "                       # header=None,           #첫번째 샘플이 헤더로 읽히지 않도록 설정\n",
        "                       # delim_whitespace = True # 스페이스바 기준으로 데이터를 나눠도록 설정\n",
        "                        )  \n",
        "  print(dataset.shape) #데이터형식 : 판다스 데이터프레임\n",
        "\n",
        "  #정규화(속성별로 데이터의 스케일을 조정)\n",
        "  scaler = StandardScaler()\n",
        "  dataset = scaler.fit_transform(dataset)\n",
        "  #print(dataset.shape, dataset.dtype) #데이터형식 : 넘파이 배열\n",
        "\n",
        "  #x-y분할\n",
        "  x = dataset[:, 0:-1] #  (: 모든행 .  첫번쨰부터 마지막 전까지의 열) 첫번쨰부터 마지막전까지\n",
        "  y = dataset[:, -1] # (: 모든행 , 마지막열)\n",
        "  #print(x.shape, y.shape)\n",
        "\n",
        "\n",
        "  #train-test 분할\n",
        "  x_train, x_test, y_train, y_test = train_test_split(x, y, test_size = 0.3)\n",
        "\n",
        "\n",
        "\n",
        "  return x_train, x_test, y_train, y_test\n",
        "\n"
      ],
      "metadata": {
        "id": "2EuSlVjcnkHS"
      },
      "execution_count": 75,
      "outputs": []
    },
    {
      "cell_type": "code",
      "source": [
        "\n",
        "#모델생성\n",
        "def bulid_models():\n",
        "  x = layers.Input(shape=(8))\n",
        "  y = layers.Dense(15, activation= 'relu')(x)\n",
        "  y = layers.Dense(6, activation= 'relu')(y)\n",
        "  y = layers.Dense(1)(y)   #회귀 문제 경우, 마지막 레이어의 activation을 사용하지 않는다.\n",
        "  model = models.Model(x,y)\n",
        "\n",
        "\n",
        "  return model\n",
        "\n",
        "\n",
        "\n",
        "x_train, x_test, y_train, y_test = path2dataset_housing(data_path)\n",
        "\n",
        "print(x_train.shape, x_test.shape, y_train.shape, y_test.shape )\n",
        "\n",
        "\n"
      ],
      "metadata": {
        "id": "3DwOC15O87E0",
        "outputId": "6d744b23-0d06-4e81-f3c1-9d2bff49455c",
        "colab": {
          "base_uri": "https://localhost:8080/"
        }
      },
      "execution_count": 76,
      "outputs": [
        {
          "output_type": "stream",
          "name": "stdout",
          "text": [
            "(17000, 9)\n",
            "(11900, 8) (5100, 8) (11900,) (5100,)\n"
          ]
        }
      ]
    },
    {
      "cell_type": "code",
      "source": [
        "\n",
        "#시각화\n",
        "model = bulid_models()\n",
        "model.summary()\n",
        "utils.plot_model(model)\n",
        "\n",
        "#모델 컴파일\n",
        "model.compile(loss = 'mean_squared_error',\n",
        "              optimizer = 'adam')\n",
        "#학습\n",
        "model.fit(x_train, y_train, epochs=100, batch_size = 10)\n",
        "\n",
        "\n"
      ],
      "metadata": {
        "id": "Seml9MudkIke",
        "outputId": "b61e4193-f38e-4cc2-94d8-feeb35b0674e",
        "colab": {
          "base_uri": "https://localhost:8080/"
        }
      },
      "execution_count": 77,
      "outputs": [
        {
          "output_type": "stream",
          "name": "stdout",
          "text": [
            "Model: \"model_6\"\n",
            "_________________________________________________________________\n",
            " Layer (type)                Output Shape              Param #   \n",
            "=================================================================\n",
            " input_7 (InputLayer)        [(None, 8)]               0         \n",
            "                                                                 \n",
            " dense_18 (Dense)            (None, 15)                135       \n",
            "                                                                 \n",
            " dense_19 (Dense)            (None, 6)                 96        \n",
            "                                                                 \n",
            " dense_20 (Dense)            (None, 1)                 7         \n",
            "                                                                 \n",
            "=================================================================\n",
            "Total params: 238\n",
            "Trainable params: 238\n",
            "Non-trainable params: 0\n",
            "_________________________________________________________________\n",
            "Epoch 1/100\n",
            "1190/1190 [==============================] - 2s 2ms/step - loss: 0.5815\n",
            "Epoch 2/100\n",
            "1190/1190 [==============================] - 2s 2ms/step - loss: 0.3128\n",
            "Epoch 3/100\n",
            "1190/1190 [==============================] - 2s 2ms/step - loss: 0.2867\n",
            "Epoch 4/100\n",
            "1190/1190 [==============================] - 2s 2ms/step - loss: 0.2766\n",
            "Epoch 5/100\n",
            "1190/1190 [==============================] - 2s 2ms/step - loss: 0.2698\n",
            "Epoch 6/100\n",
            "1190/1190 [==============================] - 2s 2ms/step - loss: 0.2650\n",
            "Epoch 7/100\n",
            "1190/1190 [==============================] - 2s 2ms/step - loss: 0.2610\n",
            "Epoch 8/100\n",
            "1190/1190 [==============================] - 2s 2ms/step - loss: 0.2572\n",
            "Epoch 9/100\n",
            "1190/1190 [==============================] - 2s 2ms/step - loss: 0.2550\n",
            "Epoch 10/100\n",
            "1190/1190 [==============================] - 2s 2ms/step - loss: 0.2514\n",
            "Epoch 11/100\n",
            "1190/1190 [==============================] - 2s 2ms/step - loss: 0.2512\n",
            "Epoch 12/100\n",
            "1190/1190 [==============================] - 2s 2ms/step - loss: 0.2473\n",
            "Epoch 13/100\n",
            "1190/1190 [==============================] - 2s 2ms/step - loss: 0.2465\n",
            "Epoch 14/100\n",
            "1190/1190 [==============================] - 2s 2ms/step - loss: 0.2449\n",
            "Epoch 15/100\n",
            "1190/1190 [==============================] - 2s 2ms/step - loss: 0.2431\n",
            "Epoch 16/100\n",
            "1190/1190 [==============================] - 2s 2ms/step - loss: 0.2418\n",
            "Epoch 17/100\n",
            "1190/1190 [==============================] - 2s 2ms/step - loss: 0.2402\n",
            "Epoch 18/100\n",
            "1190/1190 [==============================] - 2s 2ms/step - loss: 0.2398\n",
            "Epoch 19/100\n",
            "1190/1190 [==============================] - 2s 2ms/step - loss: 0.2377\n",
            "Epoch 20/100\n",
            "1190/1190 [==============================] - 2s 2ms/step - loss: 0.2369\n",
            "Epoch 21/100\n",
            "1190/1190 [==============================] - 2s 2ms/step - loss: 0.2359\n",
            "Epoch 22/100\n",
            "1190/1190 [==============================] - 2s 2ms/step - loss: 0.2346\n",
            "Epoch 23/100\n",
            "1190/1190 [==============================] - 2s 2ms/step - loss: 0.2335\n",
            "Epoch 24/100\n",
            "1190/1190 [==============================] - 2s 2ms/step - loss: 0.2323\n",
            "Epoch 25/100\n",
            "1190/1190 [==============================] - 2s 2ms/step - loss: 0.2327\n",
            "Epoch 26/100\n",
            "1190/1190 [==============================] - 2s 2ms/step - loss: 0.2313\n",
            "Epoch 27/100\n",
            "1190/1190 [==============================] - 2s 2ms/step - loss: 0.2297\n",
            "Epoch 28/100\n",
            "1190/1190 [==============================] - 2s 2ms/step - loss: 0.2296\n",
            "Epoch 29/100\n",
            "1190/1190 [==============================] - 2s 2ms/step - loss: 0.2293\n",
            "Epoch 30/100\n",
            "1190/1190 [==============================] - 2s 2ms/step - loss: 0.2287\n",
            "Epoch 31/100\n",
            "1190/1190 [==============================] - 2s 2ms/step - loss: 0.2267\n",
            "Epoch 32/100\n",
            "1190/1190 [==============================] - 2s 2ms/step - loss: 0.2275\n",
            "Epoch 33/100\n",
            "1190/1190 [==============================] - 2s 2ms/step - loss: 0.2269\n",
            "Epoch 34/100\n",
            "1190/1190 [==============================] - 2s 2ms/step - loss: 0.2252\n",
            "Epoch 35/100\n",
            "1190/1190 [==============================] - 2s 2ms/step - loss: 0.2269\n",
            "Epoch 36/100\n",
            "1190/1190 [==============================] - 2s 2ms/step - loss: 0.2261\n",
            "Epoch 37/100\n",
            "1190/1190 [==============================] - 2s 2ms/step - loss: 0.2248\n",
            "Epoch 38/100\n",
            "1190/1190 [==============================] - 2s 2ms/step - loss: 0.2237\n",
            "Epoch 39/100\n",
            "1190/1190 [==============================] - 2s 2ms/step - loss: 0.2247\n",
            "Epoch 40/100\n",
            "1190/1190 [==============================] - 2s 2ms/step - loss: 0.2243\n",
            "Epoch 41/100\n",
            "1190/1190 [==============================] - 2s 2ms/step - loss: 0.2238\n",
            "Epoch 42/100\n",
            "1190/1190 [==============================] - 2s 2ms/step - loss: 0.2246\n",
            "Epoch 43/100\n",
            "1190/1190 [==============================] - 2s 2ms/step - loss: 0.2229\n",
            "Epoch 44/100\n",
            "1190/1190 [==============================] - 2s 2ms/step - loss: 0.2235\n",
            "Epoch 45/100\n",
            "1190/1190 [==============================] - 2s 2ms/step - loss: 0.2231\n",
            "Epoch 46/100\n",
            "1190/1190 [==============================] - 2s 2ms/step - loss: 0.2230\n",
            "Epoch 47/100\n",
            "1190/1190 [==============================] - 2s 2ms/step - loss: 0.2222\n",
            "Epoch 48/100\n",
            "1190/1190 [==============================] - 2s 2ms/step - loss: 0.2222\n",
            "Epoch 49/100\n",
            "1190/1190 [==============================] - 2s 2ms/step - loss: 0.2218\n",
            "Epoch 50/100\n",
            "1190/1190 [==============================] - 2s 2ms/step - loss: 0.2219\n",
            "Epoch 51/100\n",
            "1190/1190 [==============================] - 2s 2ms/step - loss: 0.2214\n",
            "Epoch 52/100\n",
            "1190/1190 [==============================] - 2s 2ms/step - loss: 0.2205\n",
            "Epoch 53/100\n",
            "1190/1190 [==============================] - 3s 2ms/step - loss: 0.2222\n",
            "Epoch 54/100\n",
            "1190/1190 [==============================] - 2s 2ms/step - loss: 0.2203\n",
            "Epoch 55/100\n",
            "1190/1190 [==============================] - 2s 2ms/step - loss: 0.2201\n",
            "Epoch 56/100\n",
            "1190/1190 [==============================] - 2s 2ms/step - loss: 0.2200\n",
            "Epoch 57/100\n",
            "1190/1190 [==============================] - 2s 2ms/step - loss: 0.2197\n",
            "Epoch 58/100\n",
            "1190/1190 [==============================] - 2s 2ms/step - loss: 0.2195\n",
            "Epoch 59/100\n",
            "1190/1190 [==============================] - 2s 2ms/step - loss: 0.2187\n",
            "Epoch 60/100\n",
            "1190/1190 [==============================] - 2s 2ms/step - loss: 0.2186\n",
            "Epoch 61/100\n",
            "1190/1190 [==============================] - 2s 2ms/step - loss: 0.2182\n",
            "Epoch 62/100\n",
            "1190/1190 [==============================] - 2s 1ms/step - loss: 0.2182\n",
            "Epoch 63/100\n",
            "1190/1190 [==============================] - 2s 2ms/step - loss: 0.2174\n",
            "Epoch 64/100\n",
            "1190/1190 [==============================] - 2s 2ms/step - loss: 0.2172\n",
            "Epoch 65/100\n",
            "1190/1190 [==============================] - 2s 2ms/step - loss: 0.2182\n",
            "Epoch 66/100\n",
            "1190/1190 [==============================] - 2s 2ms/step - loss: 0.2177\n",
            "Epoch 67/100\n",
            "1190/1190 [==============================] - 2s 2ms/step - loss: 0.2164\n",
            "Epoch 68/100\n",
            "1190/1190 [==============================] - 2s 2ms/step - loss: 0.2155\n",
            "Epoch 69/100\n",
            "1190/1190 [==============================] - 3s 2ms/step - loss: 0.2157\n",
            "Epoch 70/100\n",
            "1190/1190 [==============================] - 2s 2ms/step - loss: 0.2168\n",
            "Epoch 71/100\n",
            "1190/1190 [==============================] - 3s 2ms/step - loss: 0.2160\n",
            "Epoch 72/100\n",
            "1190/1190 [==============================] - 2s 1ms/step - loss: 0.2152\n",
            "Epoch 73/100\n",
            "1190/1190 [==============================] - 2s 2ms/step - loss: 0.2154\n",
            "Epoch 74/100\n",
            "1190/1190 [==============================] - 2s 2ms/step - loss: 0.2154\n",
            "Epoch 75/100\n",
            "1190/1190 [==============================] - 2s 2ms/step - loss: 0.2150\n",
            "Epoch 76/100\n",
            "1190/1190 [==============================] - 2s 2ms/step - loss: 0.2153\n",
            "Epoch 77/100\n",
            "1190/1190 [==============================] - 2s 2ms/step - loss: 0.2148\n",
            "Epoch 78/100\n",
            "1190/1190 [==============================] - 2s 2ms/step - loss: 0.2142\n",
            "Epoch 79/100\n",
            "1190/1190 [==============================] - 2s 2ms/step - loss: 0.2140\n",
            "Epoch 80/100\n",
            "1190/1190 [==============================] - 2s 2ms/step - loss: 0.2143\n",
            "Epoch 81/100\n",
            "1190/1190 [==============================] - 2s 2ms/step - loss: 0.2145\n",
            "Epoch 82/100\n",
            "1190/1190 [==============================] - 2s 2ms/step - loss: 0.2129\n",
            "Epoch 83/100\n",
            "1190/1190 [==============================] - 2s 2ms/step - loss: 0.2139\n",
            "Epoch 84/100\n",
            "1190/1190 [==============================] - 2s 2ms/step - loss: 0.2144\n",
            "Epoch 85/100\n",
            "1190/1190 [==============================] - 2s 2ms/step - loss: 0.2138\n",
            "Epoch 86/100\n",
            "1190/1190 [==============================] - 2s 2ms/step - loss: 0.2141\n",
            "Epoch 87/100\n",
            "1190/1190 [==============================] - 2s 2ms/step - loss: 0.2125\n",
            "Epoch 88/100\n",
            "1190/1190 [==============================] - 2s 2ms/step - loss: 0.2135\n",
            "Epoch 89/100\n",
            "1190/1190 [==============================] - 2s 2ms/step - loss: 0.2136\n",
            "Epoch 90/100\n",
            "1190/1190 [==============================] - 2s 2ms/step - loss: 0.2124\n",
            "Epoch 91/100\n",
            "1190/1190 [==============================] - 2s 2ms/step - loss: 0.2125\n",
            "Epoch 92/100\n",
            "1190/1190 [==============================] - 2s 2ms/step - loss: 0.2133\n",
            "Epoch 93/100\n",
            "1190/1190 [==============================] - 2s 2ms/step - loss: 0.2125\n",
            "Epoch 94/100\n",
            "1190/1190 [==============================] - 2s 2ms/step - loss: 0.2117\n",
            "Epoch 95/100\n",
            "1190/1190 [==============================] - 2s 2ms/step - loss: 0.2125\n",
            "Epoch 96/100\n",
            "1190/1190 [==============================] - 2s 2ms/step - loss: 0.2119\n",
            "Epoch 97/100\n",
            "1190/1190 [==============================] - 2s 2ms/step - loss: 0.2118\n",
            "Epoch 98/100\n",
            "1190/1190 [==============================] - 2s 2ms/step - loss: 0.2118\n",
            "Epoch 99/100\n",
            "1190/1190 [==============================] - 2s 2ms/step - loss: 0.2120\n",
            "Epoch 100/100\n",
            "1190/1190 [==============================] - 2s 2ms/step - loss: 0.2118\n",
            "(5100,) (5100,)\n",
            "* 집값 : 0.30176738323959623, 예측한 집값: 0.42151933908462524\n",
            "* 집값 : -0.4604306759610145, 예측한 집값: -0.21632587909698486\n",
            "* 집값 : 0.08190255847018929, 예측한 집값: 0.1879746913909912\n",
            "* 집값 : -0.389729046035166, 예측한 집값: -0.6724461317062378\n",
            "* 집값 : -1.1760691252104567, 예측한 집값: -0.7712517976760864\n",
            "* 집값 : 2.523704058059241, 예측한 집값: 2.463961124420166\n",
            "* 집값 : -1.3390277600395466, 예측한 집값: -0.999984860420227\n",
            "* 집값 : 1.057929937446537, 예측한 집값: -0.007843315601348877\n",
            "* 집값 : -1.0329414353605681, 예측한 집값: -0.4813065528869629\n",
            "* 집값 : -0.9906929004048782, 예측한 집값: -0.43618643283843994\n"
          ]
        }
      ]
    },
    {
      "cell_type": "code",
      "source": [
        "#예측\n",
        "y_pred = model.predict(x_test)\n",
        "y_pred = y_pred.flatten() #2차 행렬 -> 1차 벡터\n",
        "print(y_test.shape, y_pred.shape)\n",
        "for i in range(10):\n",
        "  print(f'* 집값 : {y_test[i]}, 예측한 집값: {y_pred[i]}')\n",
        "\n",
        "plt.figure(figsize=(18,4))\n",
        "plt.plot(y_test[:100], marker='o', linestyle = ':', label='y true')\n",
        "plt.plot(y_pred[:100], marker='o', linestyle = ':', label='y true')\n",
        "plt.legend()\n",
        "plt.xlabel('nth sample')\n",
        "plt.ylabel('Price')\n"
      ],
      "metadata": {
        "id": "wnuDLwT5prhG",
        "outputId": "17769e1d-049c-4ed2-dc67-14cf59fbfd9e",
        "colab": {
          "base_uri": "https://localhost:8080/",
          "height": 401
        }
      },
      "execution_count": 79,
      "outputs": [
        {
          "output_type": "stream",
          "name": "stdout",
          "text": [
            "(5100,) (5100,)\n",
            "* 집값 : 0.30176738323959623, 예측한 집값: 0.42151933908462524\n",
            "* 집값 : -0.4604306759610145, 예측한 집값: -0.21632587909698486\n",
            "* 집값 : 0.08190255847018929, 예측한 집값: 0.1879746913909912\n",
            "* 집값 : -0.389729046035166, 예측한 집값: -0.6724461317062378\n",
            "* 집값 : -1.1760691252104567, 예측한 집값: -0.7712517976760864\n",
            "* 집값 : 2.523704058059241, 예측한 집값: 2.463961124420166\n",
            "* 집값 : -1.3390277600395466, 예측한 집값: -0.999984860420227\n",
            "* 집값 : 1.057929937446537, 예측한 집값: -0.007843315601348877\n",
            "* 집값 : -1.0329414353605681, 예측한 집값: -0.4813065528869629\n",
            "* 집값 : -0.9906929004048782, 예측한 집값: -0.43618643283843994\n"
          ]
        },
        {
          "output_type": "execute_result",
          "data": {
            "text/plain": [
              "Text(0, 0.5, 'Price')"
            ]
          },
          "metadata": {},
          "execution_count": 79
        },
        {
          "output_type": "display_data",
          "data": {
            "text/plain": [
              "<Figure size 1296x288 with 1 Axes>"
            ],
            "image/png": "[encoded data removed]"
          },
          "metadata": {
            "needs_background": "light"
          }
        }
      ]
    },
    {
      "cell_type": "code",
      "source": [
        ""
      ],
      "metadata": {
        "id": "J7POHjnYrQLI"
      },
      "execution_count": null,
      "outputs": []
    }
  ]
}
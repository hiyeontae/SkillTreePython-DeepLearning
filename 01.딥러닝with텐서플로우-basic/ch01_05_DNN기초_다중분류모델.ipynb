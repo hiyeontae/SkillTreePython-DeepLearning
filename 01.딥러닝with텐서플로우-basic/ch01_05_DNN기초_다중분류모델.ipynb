{
  "nbformat": 4,
  "nbformat_minor": 0,
  "metadata": {
    "colab": {
      "name": "ch01_05_DNN기초-다중분류모델.ipynb",
      "provenance": [],
      "collapsed_sections": [],
      "machine_shape": "hm",
      "toc_visible": true,
      "include_colab_link": true
    },
    "kernelspec": {
      "name": "python3",
      "display_name": "Python 3"
    },
    "language_info": {
      "name": "python"
    },
    "accelerator": "GPU",
    "gpuClass": "standard"
  },
  "cells": [
    {
      "cell_type": "markdown",
      "metadata": {
        "id": "view-in-github",
        "colab_type": "text"
      },
      "source": [
        "<a href=\"https://colab.research.google.com/github/hiyeontae/SkillTreePython-DeepLearning/blob/main/01.%EB%94%A5%EB%9F%AC%EB%8B%9Dwith%ED%85%90%EC%84%9C%ED%94%8C%EB%A1%9C%EC%9A%B0-basic/ch01_05_DNN%EA%B8%B0%EC%B4%88_%EB%8B%A4%EC%A4%91%EB%B6%84%EB%A5%98%EB%AA%A8%EB%8D%B8.ipynb\" target=\"_parent\"><img src=\"https://colab.research.google.com/assets/colab-badge.svg\" alt=\"Open In Colab\"/></a>"
      ]
    },
    {
      "cell_type": "markdown",
      "source": [
        "# ch01.05. 딥러닝 다중 분류 모델\n",
        "---\n",
        "* 날짜:\n",
        "* 이름:\n",
        "\n",
        "## 학습내용\n",
        "    - 딥러닝을 이용한 멀티클래스 분류 진행\n",
        "    - 적절한 손실함수와 최적화 함수 정의\n",
        "    - 평가 및 예측\n",
        "    \n",
        "## 학습자료\n",
        "\n",
        "* 모두의딥러닝\n",
        "* 데이터\n",
        "  * `iris.csv`\n",
        "  * MNIST 데이터셋\n",
        "\n",
        "\n",
        "```\n",
        "import numpy as np\n",
        "import pandas as pd\n",
        "import tensorflow as tf\n",
        "import matplotlib.pyplot as plt\n",
        "import seaborn as sns\n",
        "seed=1\n",
        "np.random.seed(seed)\n",
        "tf.random.set_seed(seed)\n",
        "```\n",
        "\n",
        "```\n",
        "https://github.com/yebiny/SkillTreePython-DeepLearning.git\n",
        "```"
      ],
      "metadata": {
        "id": "sWs2kEC1_b-P"
      }
    },
    {
      "cell_type": "code",
      "source": [
        "import numpy as np\n",
        "import pandas as pd\n",
        "import tensorflow as tf\n",
        "import matplotlib.pyplot as plt\n",
        "import seaborn as sns\n",
        "seed=1\n",
        "np.random.seed(seed)\n",
        "tf.random.set_seed(seed)"
      ],
      "metadata": {
        "id": "HJqjPthwgTg-"
      },
      "execution_count": 1,
      "outputs": []
    },
    {
      "cell_type": "code",
      "source": [
        "! git clone https://github.com/yebiny/SkillTreePython-DeepLearning.git"
      ],
      "metadata": {
        "id": "XiKfkQgYfoIE",
        "outputId": "7b65a542-7b6b-45c6-f290-e121458a4818",
        "colab": {
          "base_uri": "https://localhost:8080/"
        }
      },
      "execution_count": 2,
      "outputs": [
        {
          "output_type": "stream",
          "name": "stdout",
          "text": [
            "Cloning into 'SkillTreePython-DeepLearning'...\n",
            "remote: Enumerating objects: 322, done.\u001b[K\n",
            "remote: Counting objects: 100% (144/144), done.\u001b[K\n",
            "remote: Compressing objects: 100% (80/80), done.\u001b[K\n",
            "remote: Total 322 (delta 94), reused 88 (delta 64), pack-reused 178\u001b[K\n",
            "Receiving objects: 100% (322/322), 22.21 MiB | 14.21 MiB/s, done.\n",
            "Resolving deltas: 100% (129/129), done.\n"
          ]
        }
      ]
    },
    {
      "cell_type": "markdown",
      "source": [
        "## 아이리스 꽃 종류 예측\n",
        "---\n",
        "\n",
        "\n",
        "```\n",
        "- 0 sepal_length  꽃받침 길이\n",
        "- 1 sepal_width 꽃받침 너비\n",
        "- 2 petal_length 꽃임 길이\n",
        "- 3 petal_width 꽃잎 너비\n",
        "- 4 species 꽃의 종류 {setosa, versicolor virginica}\n",
        "```\n",
        "<p align='center'>\n",
        "<img src=https://github.com/yebiny/SkillTreePython-DeepLearning/blob/main/imgs/ch0105-01.PNG?raw=true width=550>\n",
        "</p>\n"
      ],
      "metadata": {
        "id": "4wsuH8GzftqZ"
      }
    },
    {
      "cell_type": "markdown",
      "source": [
        ""
      ],
      "metadata": {
        "id": "LJ_HHgxecOKj"
      }
    },
    {
      "cell_type": "code",
      "execution_count": 17,
      "metadata": {
        "id": "68PCrczmzdId",
        "outputId": "aba095f6-f498-47f7-deb7-ee0b6c6eb651",
        "colab": {
          "base_uri": "https://localhost:8080/",
          "height": 424
        }
      },
      "outputs": [
        {
          "output_type": "execute_result",
          "data": {
            "text/plain": [
              "       0    1    2    3               4\n",
              "0    5.1  3.5  1.4  0.2     Iris-setosa\n",
              "1    4.9  3.0  1.4  0.2     Iris-setosa\n",
              "2    4.7  3.2  1.3  0.2     Iris-setosa\n",
              "3    4.6  3.1  1.5  0.2     Iris-setosa\n",
              "4    5.0  3.6  1.4  0.2     Iris-setosa\n",
              "..   ...  ...  ...  ...             ...\n",
              "145  6.7  3.0  5.2  2.3  Iris-virginica\n",
              "146  6.3  2.5  5.0  1.9  Iris-virginica\n",
              "147  6.5  3.0  5.2  2.0  Iris-virginica\n",
              "148  6.2  3.4  5.4  2.3  Iris-virginica\n",
              "149  5.9  3.0  5.1  1.8  Iris-virginica\n",
              "\n",
              "[150 rows x 5 columns]"
            ],
            "text/html": [
              "\n",
              "  <div id=\"df-c181e5f6-4993-491f-b9b6-92e5405497d3\">\n",
              "    <div class=\"colab-df-container\">\n",
              "      <div>\n",
              "<style scoped>\n",
              "    .dataframe tbody tr th:only-of-type {\n",
              "        vertical-align: middle;\n",
              "    }\n",
              "\n",
              "    .dataframe tbody tr th {\n",
              "        vertical-align: top;\n",
              "    }\n",
              "\n",
              "    .dataframe thead th {\n",
              "        text-align: right;\n",
              "    }\n",
              "</style>\n",
              "<table border=\"1\" class=\"dataframe\">\n",
              "  <thead>\n",
              "    <tr style=\"text-align: right;\">\n",
              "      <th></th>\n",
              "      <th>0</th>\n",
              "      <th>1</th>\n",
              "      <th>2</th>\n",
              "      <th>3</th>\n",
              "      <th>4</th>\n",
              "    </tr>\n",
              "  </thead>\n",
              "  <tbody>\n",
              "    <tr>\n",
              "      <th>0</th>\n",
              "      <td>5.1</td>\n",
              "      <td>3.5</td>\n",
              "      <td>1.4</td>\n",
              "      <td>0.2</td>\n",
              "      <td>Iris-setosa</td>\n",
              "    </tr>\n",
              "    <tr>\n",
              "      <th>1</th>\n",
              "      <td>4.9</td>\n",
              "      <td>3.0</td>\n",
              "      <td>1.4</td>\n",
              "      <td>0.2</td>\n",
              "      <td>Iris-setosa</td>\n",
              "    </tr>\n",
              "    <tr>\n",
              "      <th>2</th>\n",
              "      <td>4.7</td>\n",
              "      <td>3.2</td>\n",
              "      <td>1.3</td>\n",
              "      <td>0.2</td>\n",
              "      <td>Iris-setosa</td>\n",
              "    </tr>\n",
              "    <tr>\n",
              "      <th>3</th>\n",
              "      <td>4.6</td>\n",
              "      <td>3.1</td>\n",
              "      <td>1.5</td>\n",
              "      <td>0.2</td>\n",
              "      <td>Iris-setosa</td>\n",
              "    </tr>\n",
              "    <tr>\n",
              "      <th>4</th>\n",
              "      <td>5.0</td>\n",
              "      <td>3.6</td>\n",
              "      <td>1.4</td>\n",
              "      <td>0.2</td>\n",
              "      <td>Iris-setosa</td>\n",
              "    </tr>\n",
              "    <tr>\n",
              "      <th>...</th>\n",
              "      <td>...</td>\n",
              "      <td>...</td>\n",
              "      <td>...</td>\n",
              "      <td>...</td>\n",
              "      <td>...</td>\n",
              "    </tr>\n",
              "    <tr>\n",
              "      <th>145</th>\n",
              "      <td>6.7</td>\n",
              "      <td>3.0</td>\n",
              "      <td>5.2</td>\n",
              "      <td>2.3</td>\n",
              "      <td>Iris-virginica</td>\n",
              "    </tr>\n",
              "    <tr>\n",
              "      <th>146</th>\n",
              "      <td>6.3</td>\n",
              "      <td>2.5</td>\n",
              "      <td>5.0</td>\n",
              "      <td>1.9</td>\n",
              "      <td>Iris-virginica</td>\n",
              "    </tr>\n",
              "    <tr>\n",
              "      <th>147</th>\n",
              "      <td>6.5</td>\n",
              "      <td>3.0</td>\n",
              "      <td>5.2</td>\n",
              "      <td>2.0</td>\n",
              "      <td>Iris-virginica</td>\n",
              "    </tr>\n",
              "    <tr>\n",
              "      <th>148</th>\n",
              "      <td>6.2</td>\n",
              "      <td>3.4</td>\n",
              "      <td>5.4</td>\n",
              "      <td>2.3</td>\n",
              "      <td>Iris-virginica</td>\n",
              "    </tr>\n",
              "    <tr>\n",
              "      <th>149</th>\n",
              "      <td>5.9</td>\n",
              "      <td>3.0</td>\n",
              "      <td>5.1</td>\n",
              "      <td>1.8</td>\n",
              "      <td>Iris-virginica</td>\n",
              "    </tr>\n",
              "  </tbody>\n",
              "</table>\n",
              "<p>150 rows × 5 columns</p>\n",
              "</div>\n",
              "      <button class=\"colab-df-convert\" onclick=\"convertToInteractive('df-c181e5f6-4993-491f-b9b6-92e5405497d3')\"\n",
              "              title=\"Convert this dataframe to an interactive table.\"\n",
              "              style=\"display:none;\">\n",
              "        \n",
              "  <svg xmlns=\"http://www.w3.org/2000/svg\" height=\"24px\"viewBox=\"0 0 24 24\"\n",
              "       width=\"24px\">\n",
              "    <path d=\"M0 0h24v24H0V0z\" fill=\"none\"/>\n",
              "    <path d=\"M18.56 5.44l.94 2.06.94-2.06 2.06-.94-2.06-.94-.94-2.06-.94 2.06-2.06.94zm-11 1L8.5 8.5l.94-2.06 2.06-.94-2.06-.94L8.5 2.5l-.94 2.06-2.06.94zm10 10l.94 2.06.94-2.06 2.06-.94-2.06-.94-.94-2.06-.94 2.06-2.06.94z\"/><path d=\"M17.41 7.96l-1.37-1.37c-.4-.4-.92-.59-1.43-.59-.52 0-1.04.2-1.43.59L10.3 9.45l-7.72 7.72c-.78.78-.78 2.05 0 2.83L4 21.41c.39.39.9.59 1.41.59.51 0 1.02-.2 1.41-.59l7.78-7.78 2.81-2.81c.8-.78.8-2.07 0-2.86zM5.41 20L4 18.59l7.72-7.72 1.47 1.35L5.41 20z\"/>\n",
              "  </svg>\n",
              "      </button>\n",
              "      \n",
              "  <style>\n",
              "    .colab-df-container {\n",
              "      display:flex;\n",
              "      flex-wrap:wrap;\n",
              "      gap: 12px;\n",
              "    }\n",
              "\n",
              "    .colab-df-convert {\n",
              "      background-color: #E8F0FE;\n",
              "      border: none;\n",
              "      border-radius: 50%;\n",
              "      cursor: pointer;\n",
              "      display: none;\n",
              "      fill: #1967D2;\n",
              "      height: 32px;\n",
              "      padding: 0 0 0 0;\n",
              "      width: 32px;\n",
              "    }\n",
              "\n",
              "    .colab-df-convert:hover {\n",
              "      background-color: #E2EBFA;\n",
              "      box-shadow: 0px 1px 2px rgba(60, 64, 67, 0.3), 0px 1px 3px 1px rgba(60, 64, 67, 0.15);\n",
              "      fill: #174EA6;\n",
              "    }\n",
              "\n",
              "    [theme=dark] .colab-df-convert {\n",
              "      background-color: #3B4455;\n",
              "      fill: #D2E3FC;\n",
              "    }\n",
              "\n",
              "    [theme=dark] .colab-df-convert:hover {\n",
              "      background-color: #434B5C;\n",
              "      box-shadow: 0px 1px 3px 1px rgba(0, 0, 0, 0.15);\n",
              "      filter: drop-shadow(0px 1px 2px rgba(0, 0, 0, 0.3));\n",
              "      fill: #FFFFFF;\n",
              "    }\n",
              "  </style>\n",
              "\n",
              "      <script>\n",
              "        const buttonEl =\n",
              "          document.querySelector('#df-c181e5f6-4993-491f-b9b6-92e5405497d3 button.colab-df-convert');\n",
              "        buttonEl.style.display =\n",
              "          google.colab.kernel.accessAllowed ? 'block' : 'none';\n",
              "\n",
              "        async function convertToInteractive(key) {\n",
              "          const element = document.querySelector('#df-c181e5f6-4993-491f-b9b6-92e5405497d3');\n",
              "          const dataTable =\n",
              "            await google.colab.kernel.invokeFunction('convertToInteractive',\n",
              "                                                     [key], {});\n",
              "          if (!dataTable) return;\n",
              "\n",
              "          const docLinkHtml = 'Like what you see? Visit the ' +\n",
              "            '<a target=\"_blank\" href=https://colab.research.google.com/notebooks/data_table.ipynb>data table notebook</a>'\n",
              "            + ' to learn more about interactive tables.';\n",
              "          element.innerHTML = '';\n",
              "          dataTable['output_type'] = 'display_data';\n",
              "          await google.colab.output.renderOutput(dataTable, element);\n",
              "          const docLink = document.createElement('div');\n",
              "          docLink.innerHTML = docLinkHtml;\n",
              "          element.appendChild(docLink);\n",
              "        }\n",
              "      </script>\n",
              "    </div>\n",
              "  </div>\n",
              "  "
            ]
          },
          "metadata": {},
          "execution_count": 17
        }
      ],
      "source": [
        "path = '/content/SkillTreePython-DeepLearning/dataset/iris.csv'\n",
        "dataset = pd.read_csv(path, header=None)\n",
        "dataset"
      ]
    },
    {
      "cell_type": "markdown",
      "source": [
        ""
      ],
      "metadata": {
        "id": "exjNs1vScNw7"
      }
    },
    {
      "cell_type": "code",
      "source": [
        "from sklearn.preprocessing import StandardScaler, OneHotEncoder #머신러닝 라이브러리\n",
        "from sklearn.model_selection import train_test_split\n",
        "\n",
        "def path2dataset_iris(path):\n",
        "\n",
        "  # 불러오기\n",
        "  dataset =  pd.read_csv(path,  # 엑셀이나 csv 등 정현 데이터를 불러오기\n",
        "                       header=None, # 첫번째 샘플이 헤더로 읽히지 않도록 설정\n",
        "                       \n",
        "                       ) \n",
        "  #print(dataset.shape)  #데이터형식 : 판다스의 데이터프레임\n",
        "\n",
        "  dataset = dataset.values # 데이터 형식 : 넘파이 배열로 변환\n",
        "  # x-y 분할 -> 넘파이 배열을 슬라이싱하는 기법\n",
        "  x = dataset[:, 0:-1] # ( : 모든행, 첫번째부터 마지막 전까지의 열)\n",
        "  y = dataset[:, -1] # ( : 모든행, 마지막열)\n",
        "  #print(x.shape, y.shape)\n",
        "\n",
        "\n",
        "# 정규화(속셩별로 데이터의 스케일을 조정)- x데이터만 해준다\n",
        "  scaler = StandardScaler()\n",
        "  x = scaler.fit_transform(x)\n",
        "  #print(dataset.shape, dataset.dtype) # 데이터형식 : 넘파이 배열\n",
        "\n",
        "# 원핫 인코딩: y{[1,0,0], [0,1,0], [0,0,1]}\n",
        "  onehot = OneHotEncoder(sparse = False)\n",
        "  y = onehot.fit_transform(np.expand_dims(y,1)) # y(샘플개수, ) 행렬(샘플개수 ,1)\n",
        "  print(onehot.categories_)\n",
        " \n",
        "  # train-test 분할\n",
        "  x_train, x_test, y_train, y_test = train_test_split(x, y, test_size =  0.3)\n",
        "  \n",
        "  return x_train, x_test, y_train, y_test\n",
        "\n",
        "path = '/content/SkillTreePython-DeepLearning/dataset/iris.csv'\n",
        "x_train, x_test, y_train, y_test = path2dataset_iris(path)\n",
        "print(x_train.shape, x_test.shape, y_train.shape, y_test.shape)\n",
        "print(f'첫번째 샘플 x: {x_train[0]}')\n",
        "print(f'첫번째 샘플 y: {y_train[0]}')"
      ],
      "metadata": {
        "id": "PoXYFIE9_mTS",
        "outputId": "48687d7a-07b2-44b8-d9f8-1340d54c511d",
        "colab": {
          "base_uri": "https://localhost:8080/"
        }
      },
      "execution_count": 18,
      "outputs": [
        {
          "output_type": "stream",
          "name": "stdout",
          "text": [
            "[array(['Iris-setosa', 'Iris-versicolor', 'Iris-virginica'], dtype=object)]\n",
            "(105, 4) (45, 4) (105, 3) (45, 3)\n",
            "첫번째 샘플 x: [ 0.79566902 -0.1249576   0.81962435  1.05353673]\n",
            "첫번째 샘플 y: [0. 0. 1.]\n"
          ]
        }
      ]
    },
    {
      "cell_type": "code",
      "source": [
        "A,B,C 세개의 클래스를 구분하는 문제\n",
        "#라벨링\n",
        "A->0\n",
        "B->1\n",
        "C->2\n",
        "D->3\n",
        "\n",
        "#원-핫 인코딩\n",
        "A -> [1,0,0,0]\n",
        "B -> [0,1,0,0]\n",
        "C -> [0,0,1,0]\n",
        "C -> [0,0,0,1]"
      ],
      "metadata": {
        "id": "BkDCCMLBgawg"
      },
      "execution_count": null,
      "outputs": []
    },
    {
      "cell_type": "markdown",
      "source": [
        "* 예측값 분포 확인"
      ],
      "metadata": {
        "id": "87SJwUDWglBP"
      }
    },
    {
      "cell_type": "code",
      "source": [
        ""
      ],
      "metadata": {
        "id": "hLNYhitOgf0o"
      },
      "execution_count": 9,
      "outputs": []
    },
    {
      "cell_type": "markdown",
      "source": [
        "### | 모델\n",
        "\n",
        "\n",
        "<p align='center'>\n",
        "<img src=https://github.com/yebiny/SkillTreePython-DeepLearning/blob/main/imgs/ch0105-02.PNG?raw=true width=800>\n",
        "</p>\n"
      ],
      "metadata": {
        "id": "DHshtWB9r0be"
      }
    },
    {
      "cell_type": "markdown",
      "source": [
        "#### **모델 생성**"
      ],
      "metadata": {
        "id": "J94jFpWyr2k9"
      }
    },
    {
      "cell_type": "code",
      "source": [
        "from tensorflow.keras import models, layers, utils\n",
        "\n",
        "#60-> 30->1\n",
        "def bulid_model():\n",
        "  x = layers.Input(shape=(4))\n",
        "  y = layers.Dense(12, activation= 'relu')(x)\n",
        "  y = layers.Dense(8, activation= 'relu')(y)\n",
        "  y = layers.Dense(3, activation = 'softmax')(y)   #회귀 문제 경우, 마지막 레이어의 activation을 사용하지 않는다.\n",
        "  model = models.Model(x,y)\n",
        "\n",
        "\n",
        "  return model"
      ],
      "metadata": {
        "id": "5BZG1z90rsGc"
      },
      "execution_count": 21,
      "outputs": []
    },
    {
      "cell_type": "markdown",
      "source": [
        "#### **모델 시각화**\n",
        "\n",
        "* `model.summary()`\n",
        "* `utils.plot_model()`"
      ],
      "metadata": {
        "id": "1yqXLbEyx5QK"
      }
    },
    {
      "cell_type": "code",
      "source": [
        "model =bulid_model()\n",
        "model.summary()"
      ],
      "metadata": {
        "id": "dKCT38Fsr6dF",
        "outputId": "bdd680f0-10f3-474a-8baf-a0428e29ddf3",
        "colab": {
          "base_uri": "https://localhost:8080/"
        }
      },
      "execution_count": 22,
      "outputs": [
        {
          "output_type": "stream",
          "name": "stdout",
          "text": [
            "Model: \"model_3\"\n",
            "_________________________________________________________________\n",
            " Layer (type)                Output Shape              Param #   \n",
            "=================================================================\n",
            " input_4 (InputLayer)        [(None, 4)]               0         \n",
            "                                                                 \n",
            " dense_9 (Dense)             (None, 12)                60        \n",
            "                                                                 \n",
            " dense_10 (Dense)            (None, 8)                 104       \n",
            "                                                                 \n",
            " dense_11 (Dense)            (None, 3)                 27        \n",
            "                                                                 \n",
            "=================================================================\n",
            "Total params: 191\n",
            "Trainable params: 191\n",
            "Non-trainable params: 0\n",
            "_________________________________________________________________\n"
          ]
        }
      ]
    },
    {
      "cell_type": "markdown",
      "source": [
        "### | 학습"
      ],
      "metadata": {
        "id": "gLuvsUFmwzPa"
      }
    },
    {
      "cell_type": "markdown",
      "source": [
        "#### **모델 컴파일**\n",
        "\n",
        "```\n",
        "model.compile(loss, optimizer, metrics) \n",
        "```\n",
        "* `loss` : 분류문제는 기본적으로 crossentropy\n",
        "  * 이진분류 : binary_crossentropy\n",
        "  * 다준분류 : categorical_crossentropy\n",
        "\n",
        "* `optimizer:`\n",
        "* `metrics`: \n"
      ],
      "metadata": {
        "id": "fwQboNHp3EHe"
      }
    },
    {
      "cell_type": "code",
      "source": [
        "model.compile(loss = 'categorical_crossentropy', \n",
        "              optimizer = 'adam', \n",
        "              metrics = ['accuracy']) \n"
      ],
      "metadata": {
        "id": "SASPIskxgfRY"
      },
      "execution_count": 23,
      "outputs": []
    },
    {
      "cell_type": "markdown",
      "source": [
        "#### **학습**\n",
        "\n",
        "```\n",
        "model.fit(x_train, y_train, epochs, batch_size)\n",
        "```\n",
        "* `x_train` : 넘파이 혹은 텐서 형식의 인풋 데이터\n",
        "* `y_train` : 넘파이 혹은 텐서 형식의 아웃풋 데이터\n",
        "* `epochs` : 학습 횟수\n",
        "* `batch_size` : 배치 사이즈 ((업데이트 한번에 사용될 샘플 개수)"
      ],
      "metadata": {
        "id": "JukUpWB4gfRY"
      }
    },
    {
      "cell_type": "code",
      "source": [
        "model.fit(x_train, y_train, epochs=50, batch_size=10)"
      ],
      "metadata": {
        "id": "9bgbpUhogfRY",
        "outputId": "6edd81e9-e6c1-423e-fc5e-35bf70d4d0ea",
        "colab": {
          "base_uri": "https://localhost:8080/"
        }
      },
      "execution_count": 24,
      "outputs": [
        {
          "output_type": "stream",
          "name": "stdout",
          "text": [
            "Epoch 1/50\n",
            "11/11 [==============================] - 3s 3ms/step - loss: 1.1971 - accuracy: 0.6476\n",
            "Epoch 2/50\n",
            "11/11 [==============================] - 0s 3ms/step - loss: 1.1525 - accuracy: 0.6476\n",
            "Epoch 3/50\n",
            "11/11 [==============================] - 0s 3ms/step - loss: 1.1089 - accuracy: 0.6476\n",
            "Epoch 4/50\n",
            "11/11 [==============================] - 0s 3ms/step - loss: 1.0682 - accuracy: 0.6667\n",
            "Epoch 5/50\n",
            "11/11 [==============================] - 0s 3ms/step - loss: 1.0263 - accuracy: 0.6762\n",
            "Epoch 6/50\n",
            "11/11 [==============================] - 0s 3ms/step - loss: 0.9858 - accuracy: 0.6857\n",
            "Epoch 7/50\n",
            "11/11 [==============================] - 0s 3ms/step - loss: 0.9460 - accuracy: 0.6857\n",
            "Epoch 8/50\n",
            "11/11 [==============================] - 0s 3ms/step - loss: 0.9098 - accuracy: 0.6857\n",
            "Epoch 9/50\n",
            "11/11 [==============================] - 0s 3ms/step - loss: 0.8685 - accuracy: 0.6857\n",
            "Epoch 10/50\n",
            "11/11 [==============================] - 0s 3ms/step - loss: 0.8295 - accuracy: 0.6857\n",
            "Epoch 11/50\n",
            "11/11 [==============================] - 0s 3ms/step - loss: 0.7900 - accuracy: 0.6857\n",
            "Epoch 12/50\n",
            "11/11 [==============================] - 0s 3ms/step - loss: 0.7498 - accuracy: 0.7048\n",
            "Epoch 13/50\n",
            "11/11 [==============================] - 0s 3ms/step - loss: 0.7107 - accuracy: 0.7048\n",
            "Epoch 14/50\n",
            "11/11 [==============================] - 0s 3ms/step - loss: 0.6726 - accuracy: 0.7048\n",
            "Epoch 15/50\n",
            "11/11 [==============================] - 0s 3ms/step - loss: 0.6367 - accuracy: 0.7333\n",
            "Epoch 16/50\n",
            "11/11 [==============================] - 0s 3ms/step - loss: 0.6021 - accuracy: 0.7619\n",
            "Epoch 17/50\n",
            "11/11 [==============================] - 0s 3ms/step - loss: 0.5702 - accuracy: 0.7619\n",
            "Epoch 18/50\n",
            "11/11 [==============================] - 0s 3ms/step - loss: 0.5403 - accuracy: 0.7810\n",
            "Epoch 19/50\n",
            "11/11 [==============================] - 0s 3ms/step - loss: 0.5123 - accuracy: 0.7905\n",
            "Epoch 20/50\n",
            "11/11 [==============================] - 0s 3ms/step - loss: 0.4865 - accuracy: 0.8000\n",
            "Epoch 21/50\n",
            "11/11 [==============================] - 0s 3ms/step - loss: 0.4634 - accuracy: 0.8381\n",
            "Epoch 22/50\n",
            "11/11 [==============================] - 0s 3ms/step - loss: 0.4413 - accuracy: 0.8476\n",
            "Epoch 23/50\n",
            "11/11 [==============================] - 0s 3ms/step - loss: 0.4207 - accuracy: 0.8571\n",
            "Epoch 24/50\n",
            "11/11 [==============================] - 0s 3ms/step - loss: 0.4017 - accuracy: 0.8667\n",
            "Epoch 25/50\n",
            "11/11 [==============================] - 0s 3ms/step - loss: 0.3853 - accuracy: 0.8762\n",
            "Epoch 26/50\n",
            "11/11 [==============================] - 0s 4ms/step - loss: 0.3678 - accuracy: 0.8952\n",
            "Epoch 27/50\n",
            "11/11 [==============================] - 0s 3ms/step - loss: 0.3528 - accuracy: 0.9048\n",
            "Epoch 28/50\n",
            "11/11 [==============================] - 0s 3ms/step - loss: 0.3393 - accuracy: 0.9048\n",
            "Epoch 29/50\n",
            "11/11 [==============================] - 0s 3ms/step - loss: 0.3256 - accuracy: 0.9143\n",
            "Epoch 30/50\n",
            "11/11 [==============================] - 0s 3ms/step - loss: 0.3127 - accuracy: 0.9238\n",
            "Epoch 31/50\n",
            "11/11 [==============================] - 0s 3ms/step - loss: 0.3010 - accuracy: 0.9238\n",
            "Epoch 32/50\n",
            "11/11 [==============================] - 0s 3ms/step - loss: 0.2894 - accuracy: 0.9333\n",
            "Epoch 33/50\n",
            "11/11 [==============================] - 0s 3ms/step - loss: 0.2790 - accuracy: 0.9524\n",
            "Epoch 34/50\n",
            "11/11 [==============================] - 0s 3ms/step - loss: 0.2686 - accuracy: 0.9429\n",
            "Epoch 35/50\n",
            "11/11 [==============================] - 0s 2ms/step - loss: 0.2587 - accuracy: 0.9429\n",
            "Epoch 36/50\n",
            "11/11 [==============================] - 0s 3ms/step - loss: 0.2494 - accuracy: 0.9524\n",
            "Epoch 37/50\n",
            "11/11 [==============================] - 0s 3ms/step - loss: 0.2407 - accuracy: 0.9524\n",
            "Epoch 38/50\n",
            "11/11 [==============================] - 0s 3ms/step - loss: 0.2312 - accuracy: 0.9619\n",
            "Epoch 39/50\n",
            "11/11 [==============================] - 0s 3ms/step - loss: 0.2231 - accuracy: 0.9619\n",
            "Epoch 40/50\n",
            "11/11 [==============================] - 0s 5ms/step - loss: 0.2143 - accuracy: 0.9619\n",
            "Epoch 41/50\n",
            "11/11 [==============================] - 0s 4ms/step - loss: 0.2080 - accuracy: 0.9619\n",
            "Epoch 42/50\n",
            "11/11 [==============================] - 0s 4ms/step - loss: 0.1996 - accuracy: 0.9619\n",
            "Epoch 43/50\n",
            "11/11 [==============================] - 0s 4ms/step - loss: 0.1943 - accuracy: 0.9714\n",
            "Epoch 44/50\n",
            "11/11 [==============================] - 0s 4ms/step - loss: 0.1881 - accuracy: 0.9619\n",
            "Epoch 45/50\n",
            "11/11 [==============================] - 0s 4ms/step - loss: 0.1809 - accuracy: 0.9619\n",
            "Epoch 46/50\n",
            "11/11 [==============================] - 0s 4ms/step - loss: 0.1758 - accuracy: 0.9619\n",
            "Epoch 47/50\n",
            "11/11 [==============================] - 0s 7ms/step - loss: 0.1709 - accuracy: 0.9619\n",
            "Epoch 48/50\n",
            "11/11 [==============================] - 0s 4ms/step - loss: 0.1656 - accuracy: 0.9619\n",
            "Epoch 49/50\n",
            "11/11 [==============================] - 0s 4ms/step - loss: 0.1613 - accuracy: 0.9619\n",
            "Epoch 50/50\n",
            "11/11 [==============================] - 0s 8ms/step - loss: 0.1577 - accuracy: 0.9524\n"
          ]
        },
        {
          "output_type": "execute_result",
          "data": {
            "text/plain": [
              "<keras.callbacks.History at 0x7f3d10554450>"
            ]
          },
          "metadata": {},
          "execution_count": 24
        }
      ]
    },
    {
      "cell_type": "markdown",
      "source": [
        "### | 검증 및 예측\n"
      ],
      "metadata": {
        "id": "DyFOnqyNw5_q"
      }
    },
    {
      "cell_type": "markdown",
      "source": [
        "#### **검증**\n",
        "\n",
        "```\n",
        "model.evaluate(x_test, y_test)\n",
        "```\n",
        "* `x_test` : 넘파이 혹은 텐서 형식의 인풋 테스트 데이터\n",
        "* `y_test` : 넘파이 혹은 텐서 형식의 아웃풋 테스트 데이터"
      ],
      "metadata": {
        "id": "qlalKZ-a04c3"
      }
    },
    {
      "cell_type": "code",
      "source": [
        "model.evaluate(x_test, y_test)"
      ],
      "metadata": {
        "id": "uHGyMlf60zng",
        "outputId": "ad1bb464-d97e-4ff7-8396-5b1bfcbd5cc5",
        "colab": {
          "base_uri": "https://localhost:8080/"
        }
      },
      "execution_count": 25,
      "outputs": [
        {
          "output_type": "stream",
          "name": "stdout",
          "text": [
            "2/2 [==============================] - 0s 8ms/step - loss: 0.2102 - accuracy: 0.9333\n"
          ]
        },
        {
          "output_type": "execute_result",
          "data": {
            "text/plain": [
              "[0.21015404164791107, 0.9333333373069763]"
            ]
          },
          "metadata": {},
          "execution_count": 25
        }
      ]
    },
    {
      "cell_type": "markdown",
      "source": [
        "#### **예측**\n",
        "\n",
        "```\n",
        "model.predict(x_test)\n",
        "```\n",
        "* `x_test` : 넘파이 혹은 텐서 형식의 인풋 테스트 데이터\n",
        "* `y_test` : 넘파이 혹은 텐서 형식의 아웃풋 테스트 데이터"
      ],
      "metadata": {
        "id": "BITPUIOj07Uv"
      }
    },
    {
      "cell_type": "code",
      "source": [
        "y_pred = model.predict(x_test)\n",
        "print(y_test.shape, y_pred.shape)\n",
        "\n",
        "y_test_argmax = np.argmax(y_test, axis=1) #세개 클래스 중 가장 큰 값 인덱스\n",
        "y_pred_argmax =np.argmax(y_pred, axis=1)\n",
        "\n",
        "#for i in range(10):\n",
        "  #print('y true:' {y_test[i]}- {y_test_argmax[i]}, 'y_pred', {y_pred_argmax[i]})\n",
        " \n"
      ],
      "metadata": {
        "id": "KfDHL4PRv8YD",
        "outputId": "626f502f-2df9-4eb0-cf6e-77ea0986e3b5",
        "colab": {
          "base_uri": "https://localhost:8080/"
        }
      },
      "execution_count": 35,
      "outputs": [
        {
          "output_type": "stream",
          "name": "stdout",
          "text": [
            "(45, 3) (45, 3)\n"
          ]
        }
      ]
    },
    {
      "cell_type": "markdown",
      "source": [
        "* 예측 시각화"
      ],
      "metadata": {
        "id": "gThN4RCR0_HI"
      }
    },
    {
      "cell_type": "code",
      "source": [
        "from sklearn.metrics import confusion_matrix, ConfusionMatrixDisplay\n",
        "\n",
        "#혼돈행렬\n",
        "cm= confusion_matrix(y_test_argmax, y_pred_argmax)\n",
        "print(cm)\n",
        "ConfusionMatrixDisplay(cm).plot(cmap='PiYG')\n"
      ],
      "metadata": {
        "id": "TG533VyLwDaK",
        "outputId": "f4fa4b55-831d-4f7f-89bf-2de86bf288b5",
        "colab": {
          "base_uri": "https://localhost:8080/",
          "height": 352
        }
      },
      "execution_count": 37,
      "outputs": [
        {
          "output_type": "stream",
          "name": "stdout",
          "text": [
            "[[ 9  1  0]\n",
            " [ 0 16  1]\n",
            " [ 0  1 17]]\n"
          ]
        },
        {
          "output_type": "execute_result",
          "data": {
            "text/plain": [
              "<sklearn.metrics._plot.confusion_matrix.ConfusionMatrixDisplay at 0x7f3d101a44d0>"
            ]
          },
          "metadata": {},
          "execution_count": 37
        },
        {
          "output_type": "display_data",
          "data": {
            "text/plain": [
              "<Figure size 432x288 with 2 Axes>"
            ],
            "image/png": "[encoded data removed]"
          },
          "metadata": {
            "needs_background": "light"
          }
        }
      ]
    },
    {
      "cell_type": "markdown",
      "source": [
        "## 과제\n",
        "---"
      ],
      "metadata": {
        "id": "ZFrRTgcyipYg"
      }
    },
    {
      "cell_type": "markdown",
      "source": [
        "### | 과제1. 이진분류 문제 정리\n",
        "\n",
        "* 예측값의 범위 :\n",
        "* 예측값의 shape :\n",
        "* 아웃풋 레이어의 노드 개수 : \n",
        "* 아웃풋 레이어의 activation :\n",
        "* 손실함수 (loss) : \n",
        "* 평가함수 (metrics) : "
      ],
      "metadata": {
        "id": "xjnJSLgXK_Pp"
      }
    },
    {
      "cell_type": "markdown",
      "source": [
        "### | 과제2. 한 셀에 코드 정리하기\n",
        "\n",
        "* 추가 연습\n",
        "  * 모델의 깊이(depth)를 늘려가며 학습해 보세요.\n",
        "  * 모델의 너비(width)를 늘려가며 학습해 보세요."
      ],
      "metadata": {
        "id": "ZvFAB78P1B_Q"
      }
    },
    {
      "cell_type": "code",
      "source": [
        "import numpy as np\n",
        "import pandas as pd\n",
        "import tensorflow as tf\n",
        "import matplotlib.pyplot as plt\n",
        "import seaborn as sns\n",
        "seed=1\n",
        "np.random.seed(seed)\n",
        "tf.random.set_seed(seed)\n",
        "\n",
        "# 데이터 불러오기 및 전처리\n",
        "path = '/content/SkillTreePython-DeepLearning/dataset/iris.csv'\n",
        "dataset = pd.read_csv(path, header=None)\n",
        "\n",
        "\n",
        "from sklearn.preprocessing import StandardScaler, OneHotEncoder #머신러닝 라이브러리\n",
        "from sklearn.model_selection import train_test_split\n",
        "\n",
        "def path2dataset_iris(path):\n",
        "\n",
        "  # 불러오기\n",
        "  dataset =  pd.read_csv(path,  # 엑셀이나 csv 등 정현 데이터를 불러오기\n",
        "                       header=None, # 첫번째 샘플이 헤더로 읽히지 않도록 설정\n",
        "                       \n",
        "                       ) \n",
        "  #print(dataset.shape)  #데이터형식 : 판다스의 데이터프레임\n",
        "\n",
        "  dataset = dataset.values # 데이터 형식 : 넘파이 배열로 변환\n",
        "  # x-y 분할 -> 넘파이 배열을 슬라이싱하는 기법\n",
        "  x = dataset[:, 0:-1] # ( : 모든행, 첫번째부터 마지막 전까지의 열)\n",
        "  y = dataset[:, -1] # ( : 모든행, 마지막열)\n",
        "  #print(x.shape, y.shape)\n",
        "\n",
        "\n",
        "# 정규화(속셩별로 데이터의 스케일을 조정)- x데이터만 해준다\n",
        "  scaler = StandardScaler()\n",
        "  x = scaler.fit_transform(x)\n",
        "  #print(dataset.shape, dataset.dtype) # 데이터형식 : 넘파이 배열\n",
        "\n",
        "# 원핫 인코딩: y{[1,0,0], [0,1,0], [0,0,1]}\n",
        "  onehot = OneHotEncoder(sparse = False)\n",
        "  y = onehot.fit_transform(np.expand_dims(y,1)) # y(샘플개수, ) 행렬(샘플개수 ,1)\n",
        "  print(onehot.categories_)\n",
        " \n",
        "  # train-test 분할\n",
        "  x_train, x_test, y_train, y_test = train_test_split(x, y, test_size =  0.3)\n",
        "  \n",
        "  return x_train, x_test, y_train, y_test\n",
        "\n",
        "path = '/content/SkillTreePython-DeepLearning/dataset/iris.csv'\n",
        "x_train, x_test, y_train, y_test = path2dataset_iris(path)\n",
        "print(x_train.shape, x_test.shape, y_train.shape, y_test.shape)\n",
        "print(f'첫번째 샘플 x: {x_train[0]}')\n",
        "print(f'첫번째 샘플 y: {y_train[0]}')\n",
        "\n",
        "\n",
        "\n",
        "#모델 생성\n",
        "from tensorflow.keras import models, layers, utils\n",
        "\n",
        "#60-> 30->1\n",
        "def bulid_model():\n",
        "  x = layers.Input(shape=(4))\n",
        "  y = layers.Dense(12, activation= 'relu')(x)\n",
        "  y = layers.Dense(8, activation= 'relu')(y)\n",
        "  y = layers.Dense(3, activation = 'softmax')(y)   #회귀 문제 경우, 마지막 레이어의 activation을 사용하지 않는다.\n",
        "  model = models.Model(x,y)\n",
        "\n",
        "\n",
        "  return model\n",
        "\n",
        "#모델 시각화\n",
        "model =bulid_model()\n",
        "model.summary()\n",
        "\n",
        "#모델 컴파일\n",
        "model.compile(loss = 'categorical_crossentropy', \n",
        "              optimizer = 'adam', \n",
        "              metrics = ['accuracy']) \n",
        "\n",
        "\n",
        "#모델 학습\n",
        "model.fit(x_train, y_train, epochs=50, batch_size=10)\n",
        "\n",
        "\n",
        "#모델 예측\n",
        "y_pred = model.predict(x_test)\n",
        "print(y_test.shape, y_pred.shape)\n",
        "\n",
        "y_test_argmax = np.argmax(y_test, axis=1) #세개 클래스 중 가장 큰 값 인덱스\n",
        "y_pred_argmax =np.argmax(y_pred, axis=1)\n",
        "\n",
        "#for i in range(10):\n",
        "  #print('y true:' {y_test[i]}- {y_test_argmax[i]}, 'y_pred', {y_pred_argmax[i]})\n",
        " \n",
        "#예측시각화\n",
        "from sklearn.metrics import confusion_matrix, ConfusionMatrixDisplay\n",
        "\n",
        "#혼돈행렬\n",
        "cm= confusion_matrix(y_test_argmax, y_pred_argmax)\n",
        "print(cm)\n",
        "ConfusionMatrixDisplay(cm).plot(cmap='PiYG')\n"
      ],
      "metadata": {
        "id": "v5WYSd9a1Cz4",
        "outputId": "8a1141ff-ee38-4d60-c111-75a508bf0346",
        "colab": {
          "base_uri": "https://localhost:8080/",
          "height": 1000
        }
      },
      "execution_count": 38,
      "outputs": [
        {
          "output_type": "stream",
          "name": "stdout",
          "text": [
            "[array(['Iris-setosa', 'Iris-versicolor', 'Iris-virginica'], dtype=object)]\n",
            "(105, 4) (45, 4) (105, 3) (45, 3)\n",
            "첫번째 샘플 x: [ 2.24968346 -1.05056946  1.78634131  1.44795564]\n",
            "첫번째 샘플 y: [0. 0. 1.]\n",
            "Model: \"model_4\"\n",
            "_________________________________________________________________\n",
            " Layer (type)                Output Shape              Param #   \n",
            "=================================================================\n",
            " input_5 (InputLayer)        [(None, 4)]               0         \n",
            "                                                                 \n",
            " dense_12 (Dense)            (None, 12)                60        \n",
            "                                                                 \n",
            " dense_13 (Dense)            (None, 8)                 104       \n",
            "                                                                 \n",
            " dense_14 (Dense)            (None, 3)                 27        \n",
            "                                                                 \n",
            "=================================================================\n",
            "Total params: 191\n",
            "Trainable params: 191\n",
            "Non-trainable params: 0\n",
            "_________________________________________________________________\n",
            "Epoch 1/50\n",
            "11/11 [==============================] - 1s 4ms/step - loss: 1.1548 - accuracy: 0.2952\n",
            "Epoch 2/50\n",
            "11/11 [==============================] - 0s 4ms/step - loss: 1.1075 - accuracy: 0.2952\n",
            "Epoch 3/50\n",
            "11/11 [==============================] - 0s 4ms/step - loss: 1.0681 - accuracy: 0.2952\n",
            "Epoch 4/50\n",
            "11/11 [==============================] - 0s 4ms/step - loss: 1.0351 - accuracy: 0.3048\n",
            "Epoch 5/50\n",
            "11/11 [==============================] - 0s 4ms/step - loss: 1.0053 - accuracy: 0.3524\n",
            "Epoch 6/50\n",
            "11/11 [==============================] - 0s 4ms/step - loss: 0.9789 - accuracy: 0.6000\n",
            "Epoch 7/50\n",
            "11/11 [==============================] - 0s 4ms/step - loss: 0.9528 - accuracy: 0.6667\n",
            "Epoch 8/50\n",
            "11/11 [==============================] - 0s 4ms/step - loss: 0.9260 - accuracy: 0.7238\n",
            "Epoch 9/50\n",
            "11/11 [==============================] - 0s 4ms/step - loss: 0.8980 - accuracy: 0.7333\n",
            "Epoch 10/50\n",
            "11/11 [==============================] - 0s 4ms/step - loss: 0.8698 - accuracy: 0.7429\n",
            "Epoch 11/50\n",
            "11/11 [==============================] - 0s 4ms/step - loss: 0.8402 - accuracy: 0.7429\n",
            "Epoch 12/50\n",
            "11/11 [==============================] - 0s 4ms/step - loss: 0.8099 - accuracy: 0.7429\n",
            "Epoch 13/50\n",
            "11/11 [==============================] - 0s 3ms/step - loss: 0.7794 - accuracy: 0.7429\n",
            "Epoch 14/50\n",
            "11/11 [==============================] - 0s 3ms/step - loss: 0.7490 - accuracy: 0.7429\n",
            "Epoch 15/50\n",
            "11/11 [==============================] - 0s 3ms/step - loss: 0.7201 - accuracy: 0.7429\n",
            "Epoch 16/50\n",
            "11/11 [==============================] - 0s 3ms/step - loss: 0.6928 - accuracy: 0.7238\n",
            "Epoch 17/50\n",
            "11/11 [==============================] - 0s 3ms/step - loss: 0.6671 - accuracy: 0.7143\n",
            "Epoch 18/50\n",
            "11/11 [==============================] - 0s 3ms/step - loss: 0.6444 - accuracy: 0.7048\n",
            "Epoch 19/50\n",
            "11/11 [==============================] - 0s 3ms/step - loss: 0.6233 - accuracy: 0.7048\n",
            "Epoch 20/50\n",
            "11/11 [==============================] - 0s 3ms/step - loss: 0.6044 - accuracy: 0.7143\n",
            "Epoch 21/50\n",
            "11/11 [==============================] - 0s 3ms/step - loss: 0.5870 - accuracy: 0.7619\n",
            "Epoch 22/50\n",
            "11/11 [==============================] - 0s 3ms/step - loss: 0.5712 - accuracy: 0.7619\n",
            "Epoch 23/50\n",
            "11/11 [==============================] - 0s 3ms/step - loss: 0.5567 - accuracy: 0.7619\n",
            "Epoch 24/50\n",
            "11/11 [==============================] - 0s 3ms/step - loss: 0.5432 - accuracy: 0.7810\n",
            "Epoch 25/50\n",
            "11/11 [==============================] - 0s 3ms/step - loss: 0.5303 - accuracy: 0.7905\n",
            "Epoch 26/50\n",
            "11/11 [==============================] - 0s 3ms/step - loss: 0.5182 - accuracy: 0.7905\n",
            "Epoch 27/50\n",
            "11/11 [==============================] - 0s 3ms/step - loss: 0.5067 - accuracy: 0.8476\n",
            "Epoch 28/50\n",
            "11/11 [==============================] - 0s 3ms/step - loss: 0.4954 - accuracy: 0.8667\n",
            "Epoch 29/50\n",
            "11/11 [==============================] - 0s 3ms/step - loss: 0.4849 - accuracy: 0.8857\n",
            "Epoch 30/50\n",
            "11/11 [==============================] - 0s 3ms/step - loss: 0.4740 - accuracy: 0.8952\n",
            "Epoch 31/50\n",
            "11/11 [==============================] - 0s 3ms/step - loss: 0.4634 - accuracy: 0.9048\n",
            "Epoch 32/50\n",
            "11/11 [==============================] - 0s 3ms/step - loss: 0.4534 - accuracy: 0.9048\n",
            "Epoch 33/50\n",
            "11/11 [==============================] - 0s 3ms/step - loss: 0.4437 - accuracy: 0.9048\n",
            "Epoch 34/50\n",
            "11/11 [==============================] - 0s 3ms/step - loss: 0.4332 - accuracy: 0.8952\n",
            "Epoch 35/50\n",
            "11/11 [==============================] - 0s 3ms/step - loss: 0.4234 - accuracy: 0.8952\n",
            "Epoch 36/50\n",
            "11/11 [==============================] - 0s 3ms/step - loss: 0.4135 - accuracy: 0.8952\n",
            "Epoch 37/50\n",
            "11/11 [==============================] - 0s 3ms/step - loss: 0.4038 - accuracy: 0.8952\n",
            "Epoch 38/50\n",
            "11/11 [==============================] - 0s 3ms/step - loss: 0.3943 - accuracy: 0.9048\n",
            "Epoch 39/50\n",
            "11/11 [==============================] - 0s 3ms/step - loss: 0.3854 - accuracy: 0.9048\n",
            "Epoch 40/50\n",
            "11/11 [==============================] - 0s 3ms/step - loss: 0.3759 - accuracy: 0.8952\n",
            "Epoch 41/50\n",
            "11/11 [==============================] - 0s 3ms/step - loss: 0.3657 - accuracy: 0.8952\n",
            "Epoch 42/50\n",
            "11/11 [==============================] - 0s 4ms/step - loss: 0.3569 - accuracy: 0.8952\n",
            "Epoch 43/50\n",
            "11/11 [==============================] - 0s 3ms/step - loss: 0.3471 - accuracy: 0.8952\n",
            "Epoch 44/50\n",
            "11/11 [==============================] - 0s 3ms/step - loss: 0.3379 - accuracy: 0.9048\n",
            "Epoch 45/50\n",
            "11/11 [==============================] - 0s 3ms/step - loss: 0.3288 - accuracy: 0.8952\n",
            "Epoch 46/50\n",
            "11/11 [==============================] - 0s 3ms/step - loss: 0.3194 - accuracy: 0.8952\n",
            "Epoch 47/50\n",
            "11/11 [==============================] - 0s 3ms/step - loss: 0.3109 - accuracy: 0.9048\n",
            "Epoch 48/50\n",
            "11/11 [==============================] - 0s 3ms/step - loss: 0.3014 - accuracy: 0.9048\n",
            "Epoch 49/50\n",
            "11/11 [==============================] - 0s 3ms/step - loss: 0.2930 - accuracy: 0.9048\n",
            "Epoch 50/50\n",
            "11/11 [==============================] - 0s 3ms/step - loss: 0.2844 - accuracy: 0.9048\n",
            "(45, 3) (45, 3)\n",
            "[[14  0  0]\n",
            " [ 0 10  8]\n",
            " [ 0  1 12]]\n"
          ]
        },
        {
          "output_type": "execute_result",
          "data": {
            "text/plain": [
              "<sklearn.metrics._plot.confusion_matrix.ConfusionMatrixDisplay at 0x7f3c91b41990>"
            ]
          },
          "metadata": {},
          "execution_count": 38
        },
        {
          "output_type": "display_data",
          "data": {
            "text/plain": [
              "<Figure size 432x288 with 2 Axes>"
            ],
            "image/png": "[encoded data removed]"
          },
          "metadata": {
            "needs_background": "light"
          }
        }
      ]
    },
    {
      "cell_type": "markdown",
      "source": [
        "### | 과제 3. MNIST 숫자 데이터 분류\n",
        "\n",
        "```\n",
        "mnist = tf.keras.datasets.mnist\n",
        "(x_train, y_train), (x_test, y_test) = mnist.load_data()\n",
        "print(x_train.shape, y_train.shape, x_test.shape, y_test.shape)\n",
        "```"
      ],
      "metadata": {
        "id": "2K0mAdPzjOAf"
      }
    },
    {
      "cell_type": "code",
      "source": [
        ""
      ],
      "metadata": {
        "id": "aMfhH4ojun0G"
      },
      "execution_count": null,
      "outputs": []
    },
    {
      "cell_type": "markdown",
      "source": [
        "* 데이터 시각화"
      ],
      "metadata": {
        "id": "EOskN_eSMJNL"
      }
    },
    {
      "cell_type": "code",
      "source": [
        ""
      ],
      "metadata": {
        "id": "oYaA4aLuv7F4"
      },
      "execution_count": null,
      "outputs": []
    },
    {
      "cell_type": "markdown",
      "source": [
        "### | 모델\n",
        "\n",
        "\n",
        "<p align='center'>\n",
        "<img src=https://github.com/yebiny/SkillTreePython-DeepLearning/blob/main/imgs/ch0105-03.PNG?raw=true width=500>\n",
        "</p>\n"
      ],
      "metadata": {
        "id": "po1mICbWv48p"
      }
    },
    {
      "cell_type": "markdown",
      "source": [
        "#### **모델 생성**"
      ],
      "metadata": {
        "id": "C_gpuC1Ev48p"
      }
    },
    {
      "cell_type": "code",
      "source": [
        ""
      ],
      "metadata": {
        "id": "bDFZF-9Jv48q"
      },
      "execution_count": null,
      "outputs": []
    },
    {
      "cell_type": "markdown",
      "source": [
        "#### **모델 시각화**\n",
        "\n",
        "* `model.summary()`\n",
        "* `utils.plot_model()`"
      ],
      "metadata": {
        "id": "nopDIQEiv48q"
      }
    },
    {
      "cell_type": "code",
      "source": [
        ""
      ],
      "metadata": {
        "id": "rXzVjMLpv48q"
      },
      "execution_count": null,
      "outputs": []
    },
    {
      "cell_type": "markdown",
      "source": [
        "### | 학습"
      ],
      "metadata": {
        "id": "mwtIo0te0dvn"
      }
    },
    {
      "cell_type": "markdown",
      "source": [
        "#### **모델 컴파일**\n",
        "\n",
        "```\n",
        "model.compile(loss, optimizer, metrics) \n",
        "```\n",
        "* `loss` : \n",
        "* `optimizer` : \n",
        "* `metrics`: \n"
      ],
      "metadata": {
        "id": "BEN3BQFF0dvt"
      }
    },
    {
      "cell_type": "code",
      "source": [
        ""
      ],
      "metadata": {
        "id": "RhuM6-_f0dvt"
      },
      "execution_count": null,
      "outputs": []
    },
    {
      "cell_type": "markdown",
      "source": [
        "#### **학습**\n",
        "\n",
        "```\n",
        "model.fit(x_train, y_train, epochs, batch_size)\n",
        "```\n",
        "* `x_train` : 넘파이 혹은 텐서 형식의 인풋 데이터\n",
        "* `y_train` : 넘파이 혹은 텐서 형식의 아웃풋 데이터\n",
        "* `epochs` : 학습 횟수\n",
        "* `batch_size` : 배치 사이즈 ((업데이트 한번에 사용될 샘플 개수)"
      ],
      "metadata": {
        "id": "weF5ryop0dvt"
      }
    },
    {
      "cell_type": "code",
      "source": [
        ""
      ],
      "metadata": {
        "id": "URyV2ICw0dvt"
      },
      "execution_count": null,
      "outputs": []
    },
    {
      "cell_type": "markdown",
      "source": [
        "### | 검증 및 예측\n"
      ],
      "metadata": {
        "id": "4UIAL_HA0dvt"
      }
    },
    {
      "cell_type": "markdown",
      "source": [
        "#### **검증**\n",
        "\n",
        "```\n",
        "model.evaluate(x_test, y_test)\n",
        "```\n",
        "* `x_test` : 넘파이 혹은 텐서 형식의 인풋 테스트 데이터\n",
        "* `y_test` : 넘파이 혹은 텐서 형식의 아웃풋 테스트 데이터"
      ],
      "metadata": {
        "id": "JNcvTwyU0dvt"
      }
    },
    {
      "cell_type": "code",
      "source": [
        ""
      ],
      "metadata": {
        "id": "blrfzkKN0dvu"
      },
      "execution_count": null,
      "outputs": []
    },
    {
      "cell_type": "markdown",
      "source": [
        "#### **예측**\n",
        "\n",
        "```\n",
        "model.predict(x_test)\n",
        "```\n",
        "* `x_test` : 넘파이 혹은 텐서 형식의 인풋 테스트 데이터\n",
        "* `y_test` : 넘파이 혹은 텐서 형식의 아웃풋 테스트 데이터"
      ],
      "metadata": {
        "id": "4IHDLt-D0dvu"
      }
    },
    {
      "cell_type": "code",
      "source": [
        ""
      ],
      "metadata": {
        "id": "P2lPLl970dvu"
      },
      "execution_count": null,
      "outputs": []
    },
    {
      "cell_type": "markdown",
      "source": [
        "* 예측 시각화"
      ],
      "metadata": {
        "id": "xyDfuLj-0dvu"
      }
    },
    {
      "cell_type": "code",
      "source": [
        ""
      ],
      "metadata": {
        "id": "GrBlEHxm0dvu"
      },
      "execution_count": null,
      "outputs": []
    },
    {
      "cell_type": "markdown",
      "source": [
        "* 모델 활용"
      ],
      "metadata": {
        "id": "4-APLR7G2Dep"
      }
    },
    {
      "cell_type": "code",
      "source": [
        ""
      ],
      "metadata": {
        "id": "3e_9LSrE0wbl"
      },
      "execution_count": null,
      "outputs": []
    },
    {
      "cell_type": "code",
      "source": [
        ""
      ],
      "metadata": {
        "id": "sCp8tPhh2G14"
      },
      "execution_count": null,
      "outputs": []
    }
  ]
}
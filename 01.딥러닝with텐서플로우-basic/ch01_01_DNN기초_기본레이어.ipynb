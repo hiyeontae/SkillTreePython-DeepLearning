{
  "nbformat": 4,
  "nbformat_minor": 0,
  "metadata": {
    "colab": {
      "name": "ch01_01_DNN기초-기본레이어.ipynb",
      "provenance": [],
      "collapsed_sections": [],
      "toc_visible": true,
      "include_colab_link": true
    },
    "kernelspec": {
      "name": "python3",
      "display_name": "Python 3"
    },
    "language_info": {
      "name": "python"
    }
  },
  "cells": [
    {
      "cell_type": "markdown",
      "metadata": {
        "id": "view-in-github",
        "colab_type": "text"
      },
      "source": [
        "<a href=\"https://colab.research.google.com/github/hiyeontae/SkillTreePython-DeepLearning/blob/main/01.%EB%94%A5%EB%9F%AC%EB%8B%9Dwith%ED%85%90%EC%84%9C%ED%94%8C%EB%A1%9C%EC%9A%B0-basic/ch01_01_DNN%EA%B8%B0%EC%B4%88_%EA%B8%B0%EB%B3%B8%EB%A0%88%EC%9D%B4%EC%96%B4.ipynb\" target=\"_parent\"><img src=\"https://colab.research.google.com/assets/colab-badge.svg\" alt=\"Open In Colab\"/></a>"
      ]
    },
    {
      "cell_type": "markdown",
      "source": [
        "# 01. DNN기초 - 기본 레이어\n",
        "---\n",
        "* 날짜:\n",
        "* 이름:\n",
        "\n",
        "## 학습내용\n",
        "    - 딥러닝을 구성하는 레이어에 대해 이해한다.\n",
        "    - 활성화 함수 종류를 구현하고 특징을 정리한다.\n",
        "    - 그래디언트 소실에 대해 이해한다.\n",
        "\n",
        "## 학습자료\n",
        "\n",
        "\n",
        "- 케라스 창시자에게 배우는 딥러닝\n"
      ],
      "metadata": {
        "id": "9Q1yeunDnbDS"
      }
    },
    {
      "cell_type": "code",
      "source": [
        "import numpy as np\n",
        "import matplotlib.pyplot as plt"
      ],
      "metadata": {
        "id": "FH_uBeAD1qZ1"
      },
      "execution_count": 1,
      "outputs": []
    },
    {
      "cell_type": "markdown",
      "source": [
        "## 선형 함수 (Linear)\n",
        "---\n",
        "\n",
        "<p align='center'>\n",
        "<img src=https://github.com/yebiny/SkillTreePython-DeepLearning/blob/main/imgs/ch0101-07.png?raw=true width=700>\n",
        "\n"
      ],
      "metadata": {
        "id": "TE4OOCmn02qg"
      }
    },
    {
      "cell_type": "markdown",
      "source": [
        "### **| 모델 생성**"
      ],
      "metadata": {
        "id": "otUGNnfHAMHh"
      }
    },
    {
      "cell_type": "code",
      "source": [
        "class Linear():\n",
        "  def __init__(self, input_d, output_d):\n",
        "    W_shape = (input_d, output_d)\n",
        "    self.W = np.random.normal(size =W_shape)   #랜덤한 값을 가지고 쉐이프는 W쉐이프인 행렬\n",
        "    self.B = np.random.normal(size =output_d)\n",
        "  \n",
        "  # W를 곱하고 B를 더한다\n",
        "  def forward(self, X):\n",
        "    #X: (n_sample, input_d)\n",
        "    return X@self.W+self.B\n",
        "  #직접 파라미터 설정\n",
        "\n",
        "  def set_weights(self,param_list):\n",
        "    #param)list [W,B]\n",
        "    self.W = param_list[0]\n",
        "    self.B = param_list[1]\n",
        "\n",
        "linear1 = Linear(3, 3)\n",
        "print(linear1.W, linear1.B)\n",
        "\n",
        "linear2 = Linear(3, 2)\n",
        "print(linear2.W, linear1.B)\n",
        "\n",
        "X = np.array([[1,2,1]])\n",
        "print(X, X.shape)\n",
        "print(f'첫번쨰 레이어 계산결과 : {linear1.forward(X)}')\n",
        "print(f'두번쨰 레이어 계산결과 : {linear2.forward(linear1.forward(X))}')\n",
        "\n"
      ],
      "metadata": {
        "id": "nG4eK5_61AEy",
        "outputId": "8bd459e0-9750-4b0e-a440-0dd488ce08c4",
        "colab": {
          "base_uri": "https://localhost:8080/"
        }
      },
      "execution_count": 15,
      "outputs": [
        {
          "output_type": "stream",
          "name": "stdout",
          "text": [
            "[[-0.96729675  1.26793528  1.3407196 ]\n",
            " [ 2.65762138  1.57757329  1.07879957]\n",
            " [ 1.08389126  1.48118589  0.70279977]] [ 1.609303   -1.36535591  1.25722747]\n",
            "[[ 0.3609979  -0.73004736]\n",
            " [ 0.08301841 -0.84625052]\n",
            " [-0.69912039 -0.62635616]] [ 1.609303   -1.36535591  1.25722747]\n",
            "[[1 2 1]] (1, 3)\n",
            "첫번쨰 레이어 계산결과 : [[7.04114026 4.53891184 5.45834598]]\n",
            "두번쨰 레이어 계산결과 : [[ -2.08452534 -12.18836533]]\n"
          ]
        }
      ]
    },
    {
      "cell_type": "markdown",
      "source": [
        "* 모델 불러오기"
      ],
      "metadata": {
        "id": "NDY8-kbSCcGj"
      }
    },
    {
      "cell_type": "code",
      "source": [
        ""
      ],
      "metadata": {
        "id": "nwJeEInq6_P7"
      },
      "execution_count": null,
      "outputs": []
    },
    {
      "cell_type": "markdown",
      "source": [
        "### **| 순전파 계산**\n",
        "\n",
        "데이터와 학습파라미터의 값이 아래와 같을 때 Y값을 구하세요.\n",
        "\n",
        "<p align='center'>\n",
        "<img src=https://github.com/yebiny/SkillTreePython-DeepLearning/blob/main/imgs/ch0101-11.png?raw=true width=800>\n",
        "</p>"
      ],
      "metadata": {
        "id": "aQLEzz4e80It"
      }
    },
    {
      "cell_type": "markdown",
      "source": [
        "* 파라미터 정의"
      ],
      "metadata": {
        "id": "2jpPu_1ACdlt"
      }
    },
    {
      "cell_type": "code",
      "source": [
        "x =np.array([[1,2,1]])\n",
        "print(X, X.shape)\n",
        "W1= np.array([1,1,-1,1,0.5,-1,1,1,1]).reshape(3,3)\n",
        "B1= np.array([0,0,0]).reshape(1,3)\n",
        "W2= np.array([1,0.5,-1,0.5,0,1]).reshape(3,2)\n",
        "B2= np.array([1,-0.5]).reshape(1,2)\n",
        "\n",
        "print(W1)\n",
        "print(B1)\n",
        "print(W2)\n",
        "print(B2)"
      ],
      "metadata": {
        "id": "0aZbsZGP6XVH",
        "outputId": "3fedf665-42fd-42ec-ec92-bcfd61afa7a1",
        "colab": {
          "base_uri": "https://localhost:8080/"
        }
      },
      "execution_count": 20,
      "outputs": [
        {
          "output_type": "stream",
          "name": "stdout",
          "text": [
            "[[1 2 1]] (1, 3)\n",
            "[[ 1.   1.  -1. ]\n",
            " [ 1.   0.5 -1. ]\n",
            " [ 1.   1.   1. ]]\n",
            "[[0 0 0]]\n",
            "[[ 1.   0.5]\n",
            " [-1.   0.5]\n",
            " [ 0.   1. ]]\n",
            "[[ 1.  -0.5]]\n"
          ]
        }
      ]
    },
    {
      "cell_type": "markdown",
      "source": [
        "* 학습 파라미터 확인"
      ],
      "metadata": {
        "id": "Yj1j1WVlCfEL"
      }
    },
    {
      "cell_type": "code",
      "source": [
        "linear1 = Linear(3, 3)\n",
        "linear2 = Linear(3, 2)\n",
        "print(linear1.W, linear1.B)\n",
        "print(linear2.W, linear2.B)"
      ],
      "metadata": {
        "id": "-KS1Snwg60FH",
        "outputId": "41852539-2278-4da3-bb4f-d06320b89f28",
        "colab": {
          "base_uri": "https://localhost:8080/"
        }
      },
      "execution_count": 26,
      "outputs": [
        {
          "output_type": "stream",
          "name": "stdout",
          "text": [
            "[[-0.7453565  -0.82821892  2.86519278]\n",
            " [-1.19628    -0.31799327 -2.84650431]\n",
            " [-0.81503366 -1.96127399  0.49535532]] [ 0.34597347 -0.47853773 -0.46307377]\n",
            "[[-1.49309167  0.67248701]\n",
            " [-0.53091937 -0.20657848]\n",
            " [-1.36082269 -0.27842469]] [-1.47776634 -1.33811611]\n"
          ]
        }
      ]
    },
    {
      "cell_type": "markdown",
      "source": [
        "* 예측 (순전파)"
      ],
      "metadata": {
        "id": "V-dCS6zTCjD2"
      }
    },
    {
      "cell_type": "code",
      "source": [
        "\n",
        "\n",
        "print(f'첫번쨰 레이어 계산결과 : {linear1.forward(X)}')\n",
        "print(f'두번쨰 레이어 계산결과 : {linear2.forward(linear1.forward(X))}')\n"
      ],
      "metadata": {
        "id": "Ag3K-NO97FzD",
        "outputId": "d40afa5f-03e8-4938-fd03-eb7496b349f6",
        "colab": {
          "base_uri": "https://localhost:8080/"
        }
      },
      "execution_count": 31,
      "outputs": [
        {
          "output_type": "stream",
          "name": "stdout",
          "text": [
            "첫번쨰 레이어 계산결과 : [[ 4.  3. -2.]]\n",
            "두번쨰 레이어 계산결과 : [[2. 1.]]\n"
          ]
        }
      ]
    },
    {
      "cell_type": "markdown",
      "source": [
        "* 학습 파라미터 세팅"
      ],
      "metadata": {
        "id": "eUOF6xYgClzp"
      }
    },
    {
      "cell_type": "code",
      "source": [
        "linear1.set_weights([W1,B1])\n",
        "linear2.set_weights([W2,B2])\n",
        "\n",
        "\n",
        "print(linear1.W, linear1.B)\n",
        "print(linear2.W, linear2.B)"
      ],
      "metadata": {
        "id": "DvoBSK086gxm",
        "outputId": "868be232-c0e1-4b02-bef7-1e2644a00189",
        "colab": {
          "base_uri": "https://localhost:8080/"
        }
      },
      "execution_count": 30,
      "outputs": [
        {
          "output_type": "stream",
          "name": "stdout",
          "text": [
            "[[ 1.   1.  -1. ]\n",
            " [ 1.   0.5 -1. ]\n",
            " [ 1.   1.   1. ]] [[0 0 0]]\n",
            "[[ 1.   0.5]\n",
            " [-1.   0.5]\n",
            " [ 0.   1. ]] [[ 1.  -0.5]]\n"
          ]
        }
      ]
    },
    {
      "cell_type": "markdown",
      "source": [
        "## 활성 함수 (Activation)\n",
        "---\n",
        "\n",
        "<p align='center'>\n",
        "<img src=https://github.com/yebiny/SkillTreePython-DeepLearning/blob/main/imgs/ch0101-08.png?raw=true width=800>\n",
        "\n",
        "* 비선형 함수를 사용하는 이유\n",
        "\n",
        "> 선형함수인 $h(x)=cx$를 활성화함수로 사용한 3층 네트워크를 떠올려 보세요.\n",
        "이를 식으로 나타내면 $y(x)=h(h(h(x)))$가 됩니다. 이는 실은 $y(x)=ax$와 똑같은 식입니다.\n",
        "$a=c3$이라고만 하면 끝이죠. 즉, 은닉층이 없는 네트워크로 표현할 수 있습니다.\n",
        "뉴럴네트워크에서 층을 쌓는 혜택을 얻고 싶다면 활성화함수로는 반드시 비선형 함수를 사용해야 합니다. **출처: [밑바닥부터 시작하는 딥러닝]**\n",
        " \n",
        "* 어떤 활성화 함수를 써야할까\n",
        "\n",
        "> ELU → LeakyReLU → ReLU → tanh → sigmoid 순으로 사용하라는 얘기도 있고, cs231n 강의에서는 ReLU를 먼저 쓰고 , 그다음으로 LeakyReLU나 ELU 같은 ReLU Family를 쓰며, sigmoid는 사용하지 말라고 하고 있다.\n",
        "**출처: https://excelsior-cjh.tistory.com/177 [EXCELSIOR:티스토리]**\n",
        "\n",
        "* 딥러닝에서 사용되는 활성화 함수의 종류\n",
        "\n",
        "```\n",
        "- Step Function\n",
        "- Sigmoid\n",
        "- Softmax\n",
        "- Tanh\n",
        "- ReLU\n",
        "- Leaky ReLU\n",
        "- PReLU\n",
        "- ELU\n",
        "```\n"
      ],
      "metadata": {
        "id": "BARbnIMRzMRC"
      }
    },
    {
      "cell_type": "markdown",
      "source": [
        "* 시각화를 위한 플롯팅 함수"
      ],
      "metadata": {
        "id": "SFciXyKSJG9q"
      }
    },
    {
      "cell_type": "code",
      "source": [
        "plt.rcParams['figure.figsize'] = (8, 2)\n",
        "def plot_func(xs, ys, title=''):\n",
        "  plt.plot(xs, ys)\n",
        "  plt.title(title)\n",
        "  plt.ylim(-1, 2)\n",
        "  plt.hlines(xmin=-5, xmax=5, y=0, colors='r', linestyles=':')\n",
        "  plt.grid()"
      ],
      "metadata": {
        "id": "joqmI6sxJOIO"
      },
      "execution_count": 50,
      "outputs": []
    },
    {
      "cell_type": "markdown",
      "source": [
        "### **| Sigmoid**\n",
        "\n",
        "<p align='center'>\n",
        "<img src=https://github.com/yebiny/SkillTreePython-DeepLearning/blob/main/imgs/ch0101-15.png?raw=true width=500>\n",
        "\n",
        "\n",
        "\n"
      ],
      "metadata": {
        "id": "qCVwE0VGdEya"
      }
    },
    {
      "cell_type": "markdown",
      "source": [
        "* 구현\n",
        "\\begin{align}\n",
        "sigmoid(x) = \\frac{1}{1+e^{-x}}\n",
        "\\end{align}\n"
      ],
      "metadata": {
        "id": "lZ-BqoaMI_zr"
      }
    },
    {
      "cell_type": "code",
      "source": [
        "def sigmoid(x):\n",
        "  return 1/(1+np.exp(-x))"
      ],
      "metadata": {
        "id": "lykqtbIuzXlS"
      },
      "execution_count": 45,
      "outputs": []
    },
    {
      "cell_type": "markdown",
      "source": [
        "* 미분\n",
        "\\begin{align}\n",
        "\\frac{d}{dx} sigmoid(x) = sigmoid(x)(1-sigmoid(x))\n",
        "\\end{align}\n"
      ],
      "metadata": {
        "id": "RwWVqA0ddJvx"
      }
    },
    {
      "cell_type": "code",
      "source": [
        "def sigmoid_grad(x):\n",
        "  return sigmoid(x) * (1-sigmoid(x))"
      ],
      "metadata": {
        "id": "Oqb7TLZGzXnh"
      },
      "execution_count": 46,
      "outputs": []
    },
    {
      "cell_type": "markdown",
      "source": [
        "* 시각화"
      ],
      "metadata": {
        "id": "05K5suyKJhCH"
      }
    },
    {
      "cell_type": "code",
      "source": [
        "xs = np.linspace(-5,5,100) \n",
        "plt.subplot(121);plot_func(xs, sigmoid(xs))\n",
        "plt.subplot(122);plot_func(xs, sigmoid_grad(xs))"
      ],
      "metadata": {
        "id": "y_27bU8kJCdO",
        "outputId": "5e66f153-dc7e-4762-a912-f0637dfe76f5",
        "colab": {
          "base_uri": "https://localhost:8080/",
          "height": 161
        }
      },
      "execution_count": 52,
      "outputs": [
        {
          "output_type": "display_data",
          "data": {
            "text/plain": [
              "<Figure size 576x144 with 2 Axes>"
            ],
            "image/png": "[encoded data removed]"
          },
          "metadata": {
            "needs_background": "light"
          }
        }
      ]
    },
    {
      "cell_type": "markdown",
      "source": [
        "\n",
        "\n",
        "**Sigmoid 소개**\n",
        "\n",
        "```\n",
        "- # 나오게 된 배경\n",
        "- # 장단점\n",
        "- # 특징 정리 (출력 범위, 미분 값 등 )\n",
        "```\n"
      ],
      "metadata": {
        "id": "Oi2i3MEjIyhu"
      }
    },
    {
      "cell_type": "markdown",
      "source": [
        "### **| Softmax**\n",
        "\n",
        "<p align='center'>\n",
        "<img src=https://github.com/yebiny/SkillTreePython-DeepLearning/blob/main/imgs/ch0101-16.png?raw=true width=550>\n"
      ],
      "metadata": {
        "id": "oUb85RD1ds-H"
      }
    },
    {
      "cell_type": "markdown",
      "source": [
        "* 구현\n",
        "\n",
        "\\begin{align}\n",
        "softmax(x) = \\frac{e^{x_i}}{\\sum_je^{x_j}}\n",
        "\\end{align}"
      ],
      "metadata": {
        "id": "MAS3Q5qGkSnz"
      }
    },
    {
      "cell_type": "code",
      "source": [
        "def softmax(x_vec):\n",
        "  step1 = np.exp(x_vec)\n",
        "  step2 = np.sum(step1)\n",
        "  \n",
        "  return step1/step2\n",
        "\n",
        "x_vec = np.array([1,2,0])\n",
        "y_vec = softmax(x_vec)\n",
        "print(y_vec, np.sum(y_vec))"
      ],
      "metadata": {
        "id": "V9OtdSfPkSn0",
        "outputId": "7e1e7c88-20e8-4a12-bf5f-b13c4d0691f2",
        "colab": {
          "base_uri": "https://localhost:8080/"
        }
      },
      "execution_count": 57,
      "outputs": [
        {
          "output_type": "stream",
          "name": "stdout",
          "text": [
            "[0.24472847 0.66524096 0.09003057] 1.0\n"
          ]
        }
      ]
    },
    {
      "cell_type": "markdown",
      "source": [
        "* 미분\n",
        "\n",
        "\n",
        "\\begin{align}\n",
        "\\frac{x}{dx} Softmax(\\vec{x}) =  \n",
        "\\begin{cases}\n",
        "& Softmax(\\vec{x})(1-Softmax(\\vec{x})) \\;\\;\\;\\;\\;\\;\\; \\text{ if } i=j  \n",
        "\\\\ & 0 \\;\\;\\;\\;\\;\\;\\;\\;\\;\\;\\;\\;\\;\\;\\;\\;\\;\\;\\;\\;\\;\\;\\;\\;\\;\\;\\;\\;\\;\\;\\;\\;\\;\\;\\;\\;\\;\\;\\;\\;\\;\\;\\;\\;\\;\\;\\;\\;\\;\\;\\;\\;\\;\\;\\;\\; \\text{ if } i\\neq j \n",
        "\\end{cases}\n",
        "\\end{align}"
      ],
      "metadata": {
        "id": "DozuQe8ikSn0"
      }
    },
    {
      "cell_type": "code",
      "source": [
        ""
      ],
      "metadata": {
        "id": "RsLPlGPckSn0"
      },
      "execution_count": null,
      "outputs": []
    },
    {
      "cell_type": "markdown",
      "source": [
        "* 시각화\n"
      ],
      "metadata": {
        "id": "z2ak5_tNQmu9"
      }
    },
    {
      "cell_type": "code",
      "source": [
        "import pandas as pd\n",
        "pd.DataFrame(y_vec).plot(kind ='bar')"
      ],
      "metadata": {
        "id": "s_LJOuOJQmu9",
        "outputId": "0db13b76-275c-4c4c-de16-d7e9fdad4949",
        "colab": {
          "base_uri": "https://localhost:8080/",
          "height": 171
        }
      },
      "execution_count": 59,
      "outputs": [
        {
          "output_type": "execute_result",
          "data": {
            "text/plain": [
              "<matplotlib.axes._subplots.AxesSubplot at 0x7f3f1f4adcd0>"
            ]
          },
          "metadata": {},
          "execution_count": 59
        },
        {
          "output_type": "display_data",
          "data": {
            "text/plain": [
              "<Figure size 576x144 with 1 Axes>"
            ],
            "image/png": "[encoded data removed]"
          },
          "metadata": {
            "needs_background": "light"
          }
        }
      ]
    },
    {
      "cell_type": "markdown",
      "source": [
        "\n",
        "**Softmax 소개**\n",
        "\n",
        "```\n",
        "- # 나오게 된 배경\n",
        "- # 장단점\n",
        "- # 특징 정리 (출력 범위, 미분 값 등 )\n",
        "```\n"
      ],
      "metadata": {
        "id": "ejR0PQYZtLSg"
      }
    },
    {
      "cell_type": "markdown",
      "source": [
        "### **| Tanh**\n",
        "\n"
      ],
      "metadata": {
        "id": "W78hLTGxdtK3"
      }
    },
    {
      "cell_type": "markdown",
      "source": [
        "* 구현\n",
        "\n",
        "\\begin{align}\n",
        "tanh(x) = \\frac{e^x - e^{-x}}{e^{x}+e^{-x}}\n",
        "\\end{align}"
      ],
      "metadata": {
        "id": "eBD4SPRLkTMl"
      }
    },
    {
      "cell_type": "code",
      "source": [
        "def tanh(x):\n",
        "  a= np.exp(x)-np.exp(-x)\n",
        "  b= np.exp(x)+np.exp(-x)\n",
        "  return a/b\n",
        "\n",
        "  "
      ],
      "metadata": {
        "id": "SHdGQkAhkTMl"
      },
      "execution_count": 61,
      "outputs": []
    },
    {
      "cell_type": "markdown",
      "source": [
        "* 미분\n",
        "\n",
        "\n",
        "\\begin{align}\n",
        "\\frac{d}{dx} tanh(x) = (1-tanh(x))(1+tanh(x))) = 1-tanh(x)^2\n",
        "\\end{align}"
      ],
      "metadata": {
        "id": "nqlW5Q_7kTMl"
      }
    },
    {
      "cell_type": "code",
      "source": [
        "def tanh_grad(x):\n",
        "  a= np.exp(x)-np.exp(-x)\n",
        "  b= np.exp(x)+np.exp(-x)\n",
        "  c = a/b\n",
        "  return 1-c**2"
      ],
      "metadata": {
        "id": "NKy-cXGAkTMl"
      },
      "execution_count": 62,
      "outputs": []
    },
    {
      "cell_type": "markdown",
      "source": [
        "* 시각화"
      ],
      "metadata": {
        "id": "wXi8E2T_INh4"
      }
    },
    {
      "cell_type": "code",
      "source": [
        "xs = np.linspace(-5,5,100) \n",
        "plt.subplot(121);plot_func(xs, tanh(xs))\n",
        "plt.subplot(122);plot_func(xs, tanh_grad(xs))"
      ],
      "metadata": {
        "id": "zli5iL01INh5",
        "outputId": "132289a5-fbcd-4529-f8c7-63826fa1f936",
        "colab": {
          "base_uri": "https://localhost:8080/",
          "height": 161
        }
      },
      "execution_count": 63,
      "outputs": [
        {
          "output_type": "display_data",
          "data": {
            "text/plain": [
              "<Figure size 576x144 with 2 Axes>"
            ],
            "image/png": "[encoded data removed]"
          },
          "metadata": {
            "needs_background": "light"
          }
        }
      ]
    },
    {
      "cell_type": "markdown",
      "source": [
        "\n",
        "**Tanh 소개**\n",
        "\n",
        "```\n",
        "- # 나오게 된 배경\n",
        "- # 장단점\n",
        "- # 특징 정리 (출력 범위, 미분 값 등 )\n",
        "```\n",
        "\n"
      ],
      "metadata": {
        "id": "aeS5x6QJINh5"
      }
    },
    {
      "cell_type": "markdown",
      "source": [
        "### **| ReLU**\n"
      ],
      "metadata": {
        "id": "3pvnp63ydtbv"
      }
    },
    {
      "cell_type": "markdown",
      "source": [
        "* 구현\n",
        "\n",
        "\\begin{align}\n",
        "ReLU(x) = max(0, x)\n",
        "\\end{align}\n",
        "\n",
        "\n",
        "\n",
        "\n",
        "\\begin{align}\n",
        "ReLU(x) =  \n",
        "\\begin{cases}\n",
        "& x \\;\\; \\text{ if } x \\geq 0  \n",
        "\\\\ & 0 \\;\\; \\text{ if } x <0  \n",
        "\\end{cases}\n",
        "\\end{align}"
      ],
      "metadata": {
        "id": "CoX6MmkZkU2s"
      }
    },
    {
      "cell_type": "code",
      "source": [
        "def ReLU(x):\n",
        "  #return np.maximum(0,x)\n",
        "  return np.where( x>=0, x, 0)"
      ],
      "metadata": {
        "id": "pHdYyZY0kU2s"
      },
      "execution_count": 64,
      "outputs": []
    },
    {
      "cell_type": "markdown",
      "source": [
        "* 미분\n",
        "\n",
        "\n",
        "\\begin{align}\n",
        "\\frac{x}{dx} ReLU(x) =  \n",
        "\\begin{cases}\n",
        "& 1 \\;\\; \\text{ if } x \\geq 0  \n",
        "\\\\ & 0 \\;\\; \\text{ if } x <0  \n",
        "\\end{cases}\n",
        "\\end{align}\n"
      ],
      "metadata": {
        "id": "i02vlzpOkU2s"
      }
    },
    {
      "cell_type": "code",
      "source": [
        "def ReLU_grad(x):\n",
        "  return np.where( x>=0, 1, 0)"
      ],
      "metadata": {
        "id": "VVvwQ-LkkU2s"
      },
      "execution_count": 65,
      "outputs": []
    },
    {
      "cell_type": "markdown",
      "source": [
        "* 시각화"
      ],
      "metadata": {
        "id": "kyDgaTsnImBJ"
      }
    },
    {
      "cell_type": "code",
      "source": [
        "xs = np.linspace(-5,5,100) \n",
        "plt.subplot(121);plot_func(xs, ReLU(xs))\n",
        "plt.subplot(122);plot_func(xs, ReLU_grad(xs))"
      ],
      "metadata": {
        "id": "Gus2PThvImBJ",
        "outputId": "abeb1099-ce77-4920-aa54-335e02ac43b4",
        "colab": {
          "base_uri": "https://localhost:8080/",
          "height": 161
        }
      },
      "execution_count": 66,
      "outputs": [
        {
          "output_type": "display_data",
          "data": {
            "text/plain": [
              "<Figure size 576x144 with 2 Axes>"
            ],
            "image/png": "[encoded data removed]"
          },
          "metadata": {
            "needs_background": "light"
          }
        }
      ]
    },
    {
      "cell_type": "markdown",
      "source": [
        "\n",
        "\n",
        "**ReLU 소개**\n",
        "\n",
        "```\n",
        "- # 나오게 된 배경\n",
        "- # 장단점\n",
        "- # 특징 정리 (출력 범위, 미분 값 등 )\n",
        "```\n",
        "\n"
      ],
      "metadata": {
        "id": "W7iYiMomImBJ"
      }
    },
    {
      "cell_type": "markdown",
      "source": [
        "### **| LeackyReLU & PReLU**\n",
        "\n"
      ],
      "metadata": {
        "id": "giYriuzFd2Y5"
      }
    },
    {
      "cell_type": "markdown",
      "source": [
        "* 구현\n",
        "\n",
        "\\begin{align}\n",
        "LeackyReLU(x) = max(0.01  x, x)\n",
        "\\\\\n",
        "\\\\\n",
        "\\end{align}\n",
        "\n",
        "\n",
        "\n",
        "\\begin{align}\n",
        "PReLU(x;\\alpha) = max(\\alpha  x, x)\n",
        "\\end{align}\n",
        "\n",
        "\n",
        "\\begin{align}\n",
        "PReLU(x) =  \n",
        "\\begin{cases}\n",
        "& x \\;\\; \\text{ if } x \\geq 0  \n",
        "\\\\ & \\alpha x \\;\\; \\text{ if } x <0  \n",
        "\\end{cases}\n",
        "\\end{align}"
      ],
      "metadata": {
        "id": "0J0EQQr6kVyU"
      }
    },
    {
      "cell_type": "code",
      "source": [
        "def PReLU(x, alpha=0.01):\n",
        "  return np.where ( x>=0, x , alpha*x)"
      ],
      "metadata": {
        "id": "ZPn3pdYRkVyU"
      },
      "execution_count": 70,
      "outputs": []
    },
    {
      "cell_type": "markdown",
      "source": [
        "* 미분\n",
        "\n",
        "\\begin{align}\n",
        "\\frac{x}{dx} PReLU(x;\\alpha) =  \n",
        "\\begin{cases}\n",
        "& 1 \\;\\; \\text{ if } x \\geq 0  \n",
        "\\\\ & \\alpha \\;\\; \\text{ if } x <0  \n",
        "\\end{cases}\n",
        "\\end{align}"
      ],
      "metadata": {
        "id": "GgkyM8S9kVyU"
      }
    },
    {
      "cell_type": "code",
      "source": [
        "def PReLU_grad(x, alpha=0.01):\n",
        "  return np.where( x>=0, 1, alpha)"
      ],
      "metadata": {
        "id": "SbkBD0IkkVyU"
      },
      "execution_count": 67,
      "outputs": []
    },
    {
      "cell_type": "markdown",
      "source": [
        "* 시각화\n",
        "  * $\\alpha$ 값이 각각 0.01, 0.1, 0.2 일때 플롯을 그리세요."
      ],
      "metadata": {
        "id": "hEw-vFRiK_LP"
      }
    },
    {
      "cell_type": "code",
      "source": [
        "xs = np.linspace(-5,5,100) \n",
        "for a in [0, 0.01,0.1,0.2]:\n",
        "  plt.subplot(121);plot_func(xs, PReLU(xs, alpha=a))\n",
        "  plt.subplot(122);plot_func(xs, PReLU_grad(xs, alpha=a))\n",
        "  plt.show()"
      ],
      "metadata": {
        "id": "NnSDkIONK_LP",
        "outputId": "631e94ab-5a6d-472c-c8f6-9b6501b69bfe",
        "colab": {
          "base_uri": "https://localhost:8080/",
          "height": 593
        }
      },
      "execution_count": 75,
      "outputs": [
        {
          "output_type": "display_data",
          "data": {
            "text/plain": [
              "<Figure size 576x144 with 2 Axes>"
            ],
            "image/png": "[encoded data removed]"
          },
          "metadata": {
            "needs_background": "light"
          }
        },
        {
          "output_type": "display_data",
          "data": {
            "text/plain": [
              "<Figure size 576x144 with 2 Axes>"
            ],
            "image/png": "[encoded data removed]"
          },
          "metadata": {
            "needs_background": "light"
          }
        },
        {
          "output_type": "display_data",
          "data": {
            "text/plain": [
              "<Figure size 576x144 with 2 Axes>"
            ],
            "image/png": "[encoded data removed]"
          },
          "metadata": {
            "needs_background": "light"
          }
        },
        {
          "output_type": "display_data",
          "data": {
            "text/plain": [
              "<Figure size 576x144 with 2 Axes>"
            ],
            "image/png": "[encoded data removed]"
          },
          "metadata": {
            "needs_background": "light"
          }
        }
      ]
    },
    {
      "cell_type": "markdown",
      "source": [
        "\n",
        "\n",
        "**LeackReLU및 PReLU 소개**\n",
        "\n",
        "```\n",
        "- # 나오게 된 배경\n",
        "- # 장단점\n",
        "- # 특징 정리 (출력 범위, 미분 값 등 )\n",
        "- # 알파 값은 보통 어떻게 정해지는가?\n",
        "```\n",
        "\n"
      ],
      "metadata": {
        "id": "iBA1WZWSK_LQ"
      }
    },
    {
      "cell_type": "markdown",
      "source": [
        "### **| ELU & SELU**\n",
        "\n",
        "\n",
        "\\begin{align}\n",
        "ELU(x) =\n",
        "\\begin{cases}\n",
        "& x \\;\\;\\;\\;\\;\\;\\;\\;\\;\\;\\;\\;\\;\\;\\;\\;\\; \\text{ if } x \\geq 0  \n",
        "\\\\ & (e^x-1) \\;\\;\\;\\;\\;\\; \\text{ if } x <0  \n",
        "\\end{cases}\n",
        "\\\\\n",
        "\\\\\n",
        "\\end{align}\n",
        "\n",
        "\n",
        "\n",
        "\\begin{align}\n",
        "SELU(x;\\alpha) =\n",
        "\\begin{cases}\n",
        "& x \\;\\;\\;\\;\\;\\;\\;\\;\\;\\;\\;\\;\\;\\;\\; \\text{ if } x \\geq 0  \n",
        "\\\\ & \\alpha(e^x-1) \\;\\; \\text{ if } x <0  \n",
        "\\end{cases}\n",
        "\\end{align}"
      ],
      "metadata": {
        "id": "IuUR73Ytd-E3"
      }
    },
    {
      "cell_type": "markdown",
      "source": [
        "* 구현"
      ],
      "metadata": {
        "id": "gllJdWbrkYEn"
      }
    },
    {
      "cell_type": "code",
      "source": [
        "def SeLU(x, alpha=0.01):\n",
        "  return np.where ( x>=0, x , alpha*(np.exp(x)-1))"
      ],
      "metadata": {
        "id": "bgm1hZG0kYEo"
      },
      "execution_count": 82,
      "outputs": []
    },
    {
      "cell_type": "markdown",
      "source": [
        "* 미분\n",
        "\n",
        "\\begin{align}\n",
        "\\frac{x}{dx} ELU(x;\\alpha) =  \n",
        "\\begin{cases}\n",
        "& 1 \\;\\;\\;\\;\\;\\; \\text{ if } x \\geq 0  \n",
        "\\\\ & \\alpha e^{x} \\;\\; \\text{ if } x <0  \n",
        "\\end{cases}\n",
        "\\end{align}"
      ],
      "metadata": {
        "id": "w-f6CI2PkYEo"
      }
    },
    {
      "cell_type": "code",
      "source": [
        "def SeLU_grad(x, alpha=0.01):\n",
        "  return np.where ( x>=0, 1 , alpha*(np.exp(x)))"
      ],
      "metadata": {
        "id": "5DlHTv-VkYEo"
      },
      "execution_count": 83,
      "outputs": []
    },
    {
      "cell_type": "markdown",
      "source": [
        "* 시각화\n",
        "  * $\\alpha$ 값이 각각 0.1, 1, 2 일때 플롯을 그리세요."
      ],
      "metadata": {
        "id": "9fQgzGW7MGXO"
      }
    },
    {
      "cell_type": "code",
      "source": [
        "xs = np.linspace(-5,5,100) \n",
        "for a in [ 0.1,1,2]:\n",
        "  plt.subplot(121);plot_func(xs, SeLU(xs, alpha=a))\n",
        "  plt.subplot(122);plot_func(xs, SeLU_grad(xs, alpha=a))\n",
        "  plt.show()"
      ],
      "metadata": {
        "id": "PQsWOKX8MGXO",
        "outputId": "6bc44e83-1cdd-4af1-96d5-ac355bee2267",
        "colab": {
          "base_uri": "https://localhost:8080/",
          "height": 449
        }
      },
      "execution_count": 85,
      "outputs": [
        {
          "output_type": "display_data",
          "data": {
            "text/plain": [
              "<Figure size 576x144 with 2 Axes>"
            ],
            "image/png": "[encoded data removed]"
          },
          "metadata": {
            "needs_background": "light"
          }
        },
        {
          "output_type": "display_data",
          "data": {
            "text/plain": [
              "<Figure size 576x144 with 2 Axes>"
            ],
            "image/png": "[encoded data removed]"
          },
          "metadata": {
            "needs_background": "light"
          }
        },
        {
          "output_type": "display_data",
          "data": {
            "text/plain": [
              "<Figure size 576x144 with 2 Axes>"
            ],
            "image/png": "[encoded data removed]"
          },
          "metadata": {
            "needs_background": "light"
          }
        }
      ]
    },
    {
      "cell_type": "markdown",
      "source": [
        "\n",
        "\n",
        "**ELU 및 ReLU 소개**\n",
        "\n",
        "```\n",
        "- # 나오게 된 배경\n",
        "- # 장단점\n",
        "- # 특징 정리 (출력 범위, 미분 값 등 )\n",
        "- # 알파 값은 보통 어떻게 정해지는가?\n",
        "```\n",
        "\n"
      ],
      "metadata": {
        "id": "lScBXtP4MGXO"
      }
    },
    {
      "cell_type": "markdown",
      "source": [
        "## 그래디언트 소실 (Vaniching Gradient)\n",
        "---\n",
        "다음 질문에 답할 수 있도록 내용을 정리하세요.\n",
        "\n",
        "1. 그래디언트 소실 개념\n",
        "2. 딥러닝에서 그래디언트 값이 중요한 이유\n",
        "3. 그래디언트 소실을 방지하기 위한 딥러닝 기법\n",
        "\n",
        "```\n",
        "\n",
        "\n",
        "```"
      ],
      "metadata": {
        "id": "jmJI0rPcK0Lg"
      }
    },
    {
      "cell_type": "code",
      "source": [
        ""
      ],
      "metadata": {
        "id": "UwJdVUnqkL7i"
      },
      "execution_count": null,
      "outputs": []
    }
  ]
}
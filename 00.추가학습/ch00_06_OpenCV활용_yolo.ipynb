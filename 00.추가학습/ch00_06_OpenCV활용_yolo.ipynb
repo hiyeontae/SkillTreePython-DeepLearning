{
  "nbformat": 4,
  "nbformat_minor": 0,
  "metadata": {
    "colab": {
      "name": "ch00_06_OpenCV활용-yolo.ipynb",
      "provenance": [],
      "collapsed_sections": [],
      "machine_shape": "hm",
      "mount_file_id": "1bG3wSKE1OSJYEQoxPcBMh4BYGkiKTTBm",
      "authorship_tag": "ABX9TyMHqqGmtWY0Oyu1G5QDohs4",
      "include_colab_link": true
    },
    "kernelspec": {
      "name": "python3",
      "display_name": "Python 3"
    },
    "language_info": {
      "name": "python"
    },
    "accelerator": "GPU",
    "gpuClass": "standard"
  },
  "cells": [
    {
      "cell_type": "markdown",
      "metadata": {
        "id": "view-in-github",
        "colab_type": "text"
      },
      "source": [
        "<a href=\"https://colab.research.google.com/github/yebiny/SkillTreePython-DeepLearning/blob/main/00.%EC%B6%94%EA%B0%80%ED%95%99%EC%8A%B5/ch00_06_OpenCV%ED%99%9C%EC%9A%A9_yolo.ipynb\" target=\"_parent\"><img src=\"https://colab.research.google.com/assets/colab-badge.svg\" alt=\"Open In Colab\"/></a>"
      ]
    },
    {
      "cell_type": "markdown",
      "source": [
        "# ch00.06. OpenCV 활용 - yolo\n",
        "---\n",
        "* 날짜:\n",
        "* 이름:\n",
        "\n",
        "## 학습내용\n",
        "    - yolo 모델에 대해 간단히 이해한다.\n",
        "    - openCV와 yolo 를 이용해 객체 인식을 진행한다.\n",
        "    - 차량판 인식 프로젝트를 진행한다.\n",
        "\n",
        "## 학습자료\n",
        "\n",
        "\n",
        "- [OpenCV 홈페이지](https://opencv.org/)\n",
        "\n",
        "- [YOLO](https://pjreddie.com/darknet/yolo/)\n",
        "\n",
        "\n",
        "<img src=\"https://miro.medium.com/max/1400/1*bSLNlG7crv-p-m4LVYYk3Q.png\" width=\"600\">\n",
        "\n",
        "- 가장 빠른 객체 검출 알고리즘 중 하나\n",
        "- 파이썬, 텐서플로 기반 프레임워크가 아닌 C++로 구현된 코드\n"
      ],
      "metadata": {
        "id": "X6n2nc0b52xn"
      }
    },
    {
      "cell_type": "code",
      "execution_count": null,
      "metadata": {
        "id": "T8vrrQHh5x8k"
      },
      "outputs": [],
      "source": [
        ""
      ]
    },
    {
      "cell_type": "markdown",
      "source": [
        "## 준비\n",
        "---"
      ],
      "metadata": {
        "id": "jtIzCep9LzdV"
      }
    },
    {
      "cell_type": "markdown",
      "source": [
        "### | 모델 불러오기\n",
        "\n",
        "```\n",
        "cv2.dnn.readNet(weight_file, cfg_file)\n",
        "```"
      ],
      "metadata": {
        "id": "vl2FkD7eL1Hb"
      }
    },
    {
      "cell_type": "code",
      "source": [
        ""
      ],
      "metadata": {
        "id": "OlmQKp9K8DD-"
      },
      "execution_count": null,
      "outputs": []
    },
    {
      "cell_type": "code",
      "source": [
        ""
      ],
      "metadata": {
        "id": "wR6IaiS08J1s"
      },
      "execution_count": null,
      "outputs": []
    },
    {
      "cell_type": "markdown",
      "source": [
        "### | 클래스 이름 획득"
      ],
      "metadata": {
        "id": "f4lKsvQIL8PD"
      }
    },
    {
      "cell_type": "code",
      "source": [
        ""
      ],
      "metadata": {
        "id": "GvScyvaw6E4O"
      },
      "execution_count": null,
      "outputs": []
    },
    {
      "cell_type": "markdown",
      "source": [
        "### | 클래스별 색상 획득"
      ],
      "metadata": {
        "id": "hlTN4M-nMAfT"
      }
    },
    {
      "cell_type": "code",
      "source": [
        ""
      ],
      "metadata": {
        "id": "AymtrQaZCVbi"
      },
      "execution_count": null,
      "outputs": []
    },
    {
      "cell_type": "markdown",
      "source": [
        "## 추론\n",
        "---"
      ],
      "metadata": {
        "id": "IIpKB_fYMD6D"
      }
    },
    {
      "cell_type": "markdown",
      "source": [
        "### | 모델에 이미지 넣기\n",
        "\n",
        "\n",
        "  <img src=\"https://www.researchgate.net/publication/335865923/figure/fig1/AS:804106595758082@1568725360777/Structure-detail-of-YOLOv3It-uses-Darknet-53-as-the-backbone-network-and-uses-three.jpg\">\n",
        "\n"
      ],
      "metadata": {
        "id": "s9dySAqrLGsE"
      }
    },
    {
      "cell_type": "code",
      "source": [
        ""
      ],
      "metadata": {
        "id": "KBixusN5LGNs"
      },
      "execution_count": null,
      "outputs": []
    },
    {
      "cell_type": "markdown",
      "source": [
        "### | 추론 결과 해석\n",
        "\n",
        "\n",
        "\n",
        "  <img src=\"https://www.researchgate.net/profile/Thi_Le3/publication/337705605/figure/fig3/AS:831927326089217@1575358339500/Structure-of-one-output-cell-in-YOLO.ppm\">\n"
      ],
      "metadata": {
        "id": "iuBi8uKCLMCU"
      }
    },
    {
      "cell_type": "code",
      "source": [
        ""
      ],
      "metadata": {
        "id": "YtBoByPJKGdd"
      },
      "execution_count": null,
      "outputs": []
    },
    {
      "cell_type": "markdown",
      "source": [
        "### | 결과 시각화"
      ],
      "metadata": {
        "id": "24oPsgBxLSN0"
      }
    },
    {
      "cell_type": "code",
      "source": [
        ""
      ],
      "metadata": {
        "id": "dLIk6WMqLPCU"
      },
      "execution_count": null,
      "outputs": []
    },
    {
      "cell_type": "markdown",
      "source": [
        "## 함수 생성\n",
        "---"
      ],
      "metadata": {
        "id": "SVuuTxRrU0of"
      }
    },
    {
      "cell_type": "code",
      "source": [
        ""
      ],
      "metadata": {
        "id": "r1GKAwFIFGbf"
      },
      "execution_count": null,
      "outputs": []
    },
    {
      "cell_type": "markdown",
      "source": [
        "### | 이미지 적용"
      ],
      "metadata": {
        "id": "LxEaKdx1U4Am"
      }
    },
    {
      "cell_type": "code",
      "source": [
        ""
      ],
      "metadata": {
        "id": "4YsAzO1dNSfn"
      },
      "execution_count": null,
      "outputs": []
    },
    {
      "cell_type": "markdown",
      "source": [
        "### | 동영상 적용"
      ],
      "metadata": {
        "id": "O3WhXBjGU7td"
      }
    },
    {
      "cell_type": "code",
      "source": [
        ""
      ],
      "metadata": {
        "id": "QJk_y_hqNrq6"
      },
      "execution_count": null,
      "outputs": []
    },
    {
      "cell_type": "code",
      "source": [
        ""
      ],
      "metadata": {
        "id": "0OJtUBW7TmtO"
      },
      "execution_count": null,
      "outputs": []
    },
    {
      "cell_type": "markdown",
      "source": [
        "## 과제\n",
        "---\n",
        "\n",
        "**차량 번호판 탐지 프로젝트**\n",
        "\n",
        "![](http://file.carisyou.com/upload/2018/11/20/EDITOR_201811201122494820.jpg)\n",
        "\n",
        "\n",
        "* Step1. 전체 이미지를 '차량' 인식 모델(=yolo)에 넣는다. \n",
        "* Step2. yolo를 통해 '차량' 영역의 좌표를 얻는다. \n",
        "* Step3. 좌표를 이용해 '차량' 영역만 크롭한 이미지를 번호판 인식 모델(=haarcascade)에 넣는다.\n",
        " - `haarcascade_russian_plate_number.xml`\n",
        "\n",
        "* Step4. 번호판 영역의 좌표를 얻고 시각화 한다.\n"
      ],
      "metadata": {
        "id": "tWYSbV9Tde7x"
      }
    },
    {
      "cell_type": "code",
      "source": [
        ""
      ],
      "metadata": {
        "id": "L8AeJ7Tudq9A"
      },
      "execution_count": null,
      "outputs": []
    }
  ]
}
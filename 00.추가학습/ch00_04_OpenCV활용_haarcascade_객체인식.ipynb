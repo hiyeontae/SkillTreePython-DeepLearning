{
  "nbformat": 4,
  "nbformat_minor": 0,
  "metadata": {
    "colab": {
      "name": "ch00_04_OpenCV활용-haarcascade_객체인식.ipynb",
      "provenance": [],
      "collapsed_sections": [],
      "machine_shape": "hm",
      "include_colab_link": true
    },
    "kernelspec": {
      "name": "python3",
      "display_name": "Python 3"
    },
    "accelerator": "GPU"
  },
  "cells": [
    {
      "cell_type": "markdown",
      "metadata": {
        "id": "view-in-github",
        "colab_type": "text"
      },
      "source": [
        "<a href=\"https://colab.research.google.com/github/hiyeontae/SkillTreePython-DeepLearning/blob/main/00.%EC%B6%94%EA%B0%80%ED%95%99%EC%8A%B5/ch00_04_OpenCV%ED%99%9C%EC%9A%A9_haarcascade_%EA%B0%9D%EC%B2%B4%EC%9D%B8%EC%8B%9D.ipynb\" target=\"_parent\"><img src=\"https://colab.research.google.com/assets/colab-badge.svg\" alt=\"Open In Colab\"/></a>"
      ]
    },
    {
      "cell_type": "markdown",
      "metadata": {
        "id": "wWpXZc2fi39U"
      },
      "source": [
        "# ch00.04. OpenCV 활용 - haarcascade 객체인식\n",
        "\n",
        "---\n",
        "* 날짜:\n",
        "* 이름:\n",
        "\n",
        "## 학습내용\n",
        "    - 이미지에서 객체 인식하기\n",
        "    - 동영상에서 객체 인식하기\n",
        "\n",
        "## 학습자료\n",
        "\n",
        "\n",
        "- [OpenCV 홈페이지](https://opencv.org/)\n",
        "\n",
        "- [OpenCV-pythoin Documentation](https://opencv-python.readthedocs.io/en/latest/)\n",
        "\n",
        "- [face-recognition](https://face-recognition.readthedocs.io/en/latest/readme.html#features)\n"
      ]
    },
    {
      "cell_type": "markdown",
      "source": [
        "## 개념정리\n",
        "---\n",
        "\n",
        "![](https://github.com/yebiny/Image-Segmentation-TF2/blob/main/imgs/seg_type.png?raw=true)\n",
        "\n"
      ],
      "metadata": {
        "id": "wklacZalLSfZ"
      }
    },
    {
      "cell_type": "markdown",
      "source": [
        "## face recognition를 이용한 얼굴탐지\n",
        "---\n"
      ],
      "metadata": {
        "id": "4Dr3Kh_JLgkt"
      }
    },
    {
      "cell_type": "markdown",
      "source": [
        "\n",
        "#### **세팅**\n",
        "\n",
        "```\n",
        "! pip install face_recognition\n",
        "```"
      ],
      "metadata": {
        "id": "0oNf0pBpV3C7"
      }
    },
    {
      "cell_type": "code",
      "source": [
        "! pip install face_recognition"
      ],
      "metadata": {
        "id": "Rs1edEXOLuxf",
        "outputId": "19bc673b-fee0-40c2-a6d8-4fde14357029",
        "colab": {
          "base_uri": "https://localhost:8080/"
        }
      },
      "execution_count": 1,
      "outputs": [
        {
          "output_type": "stream",
          "name": "stdout",
          "text": [
            "Looking in indexes: https://pypi.org/simple, https://us-python.pkg.dev/colab-wheels/public/simple/\n",
            "Collecting face_recognition\n",
            "  Downloading face_recognition-1.3.0-py2.py3-none-any.whl (15 kB)\n",
            "Collecting face-recognition-models>=0.3.0\n",
            "  Downloading face_recognition_models-0.3.0.tar.gz (100.1 MB)\n",
            "\u001b[K     |████████████████████████████████| 100.1 MB 25 kB/s \n",
            "\u001b[?25hRequirement already satisfied: Click>=6.0 in /usr/local/lib/python3.7/dist-packages (from face_recognition) (7.1.2)\n",
            "Requirement already satisfied: dlib>=19.7 in /usr/local/lib/python3.7/dist-packages (from face_recognition) (19.18.0+zzzcolab20220513001918)\n",
            "Requirement already satisfied: numpy in /usr/local/lib/python3.7/dist-packages (from face_recognition) (1.21.6)\n",
            "Requirement already satisfied: Pillow in /usr/local/lib/python3.7/dist-packages (from face_recognition) (7.1.2)\n",
            "Building wheels for collected packages: face-recognition-models\n",
            "  Building wheel for face-recognition-models (setup.py) ... \u001b[?25l\u001b[?25hdone\n",
            "  Created wheel for face-recognition-models: filename=face_recognition_models-0.3.0-py2.py3-none-any.whl size=100566186 sha256=1e15443b2c1b9b83e2e1aba5bde39d5e76f09dab6d6165531fd2b907c4593846\n",
            "  Stored in directory: /root/.cache/pip/wheels/d6/81/3c/884bcd5e1c120ff548d57c2ecc9ebf3281c9a6f7c0e7e7947a\n",
            "Successfully built face-recognition-models\n",
            "Installing collected packages: face-recognition-models, face-recognition\n",
            "Successfully installed face-recognition-1.3.0 face-recognition-models-0.3.0\n"
          ]
        }
      ]
    },
    {
      "cell_type": "code",
      "source": [
        "import numpy as np\n",
        "import matplotlib.pyplot as plt\n",
        "import cv2\n",
        "import face_recognition as fr"
      ],
      "metadata": {
        "id": "YwWoD98wvCMH"
      },
      "execution_count": 2,
      "outputs": []
    },
    {
      "cell_type": "markdown",
      "source": [
        "#### **예측**"
      ],
      "metadata": {
        "id": "rdvDrNJtva8h"
      }
    },
    {
      "cell_type": "code",
      "source": [
        "# 쉬운거 : (학습된) 모델을 가져다 쓰는거 \n",
        "# 어려운거 : 1. 모델을 만드는 거\n",
        "# 2. 모델을 내가 가진 데이터로 학습하는거\n",
        "\n",
        "f_path = 'p1.jpg'\n",
        "img =fr.load_image_file(f_path)\n",
        "faces = fr.face_locations(img) #이미지를 넣으면, 얼굴의 위치를 반환\n",
        "\n",
        "print(len(faces))\n",
        "faces\n",
        "\n",
        "\n"
      ],
      "metadata": {
        "id": "oUSTSxIM7JUI",
        "outputId": "6347b45f-3fec-46c7-b565-4f791f39a786",
        "colab": {
          "base_uri": "https://localhost:8080/"
        }
      },
      "execution_count": 13,
      "outputs": [
        {
          "output_type": "stream",
          "name": "stdout",
          "text": [
            "1\n"
          ]
        },
        {
          "output_type": "execute_result",
          "data": {
            "text/plain": [
              "[(20, 106, 72, 55)]"
            ]
          },
          "metadata": {},
          "execution_count": 13
        }
      ]
    },
    {
      "cell_type": "markdown",
      "source": [
        "#### **결과 시각화**\n",
        "\n",
        "* return : (y1, x2, y2, x1)"
      ],
      "metadata": {
        "id": "CHdswAxUvcVw"
      }
    },
    {
      "cell_type": "code",
      "source": [
        "for face in faces:\n",
        " # print(face)\n",
        "  y_start, x_end, y_end, x_start = face\n",
        "  cv2.rectangle(img,(x_start,y_start),(x_end,y_end),(0,255,0),3)\n",
        "plt.imshow(img)\n",
        "plt.axis('off')\n",
        "plt.show()"
      ],
      "metadata": {
        "id": "-x-XB-cFvKOG",
        "outputId": "5ae6cedb-6b78-434e-9ad6-a8762d96ebc3",
        "colab": {
          "base_uri": "https://localhost:8080/",
          "height": 248
        }
      },
      "execution_count": 14,
      "outputs": [
        {
          "output_type": "display_data",
          "data": {
            "text/plain": [
              "<Figure size 432x288 with 1 Axes>"
            ],
            "image/png": "[encoded data removed]"
          },
          "metadata": {
            "needs_background": "light"
          }
        }
      ]
    },
    {
      "cell_type": "markdown",
      "source": [
        "## OpenCV를 이용한 얼굴탐지\n",
        "---\n",
        "\n",
        "### **Harr Feature Selection**\n",
        "\n",
        "![](https://img1.daumcdn.net/thumb/R1280x0/?scode=mtistory2&fname=https%3A%2F%2Fblog.kakaocdn.net%2Fdn%2FCGrST%2FbtqwozewRoL%2F97TeD7AXg37r84HSrpJ7n0%2Fimg.png)\n",
        "\n",
        "[참고블로그](https://webnautes.tistory.com/1352)"
      ],
      "metadata": {
        "id": "Xxsn0LuBLnms"
      }
    },
    {
      "cell_type": "markdown",
      "source": [
        "### | 이미지에 적용하기"
      ],
      "metadata": {
        "id": "hvo1YUYwF-jY"
      }
    },
    {
      "cell_type": "code",
      "metadata": {
        "id": "xmPfYD-zMwU-"
      },
      "source": [
        ""
      ],
      "execution_count": null,
      "outputs": []
    },
    {
      "cell_type": "markdown",
      "source": [
        "#### **세팅**\n",
        "\n",
        "필요 파일\n",
        "```\n",
        "face_cascade_name = 'haarcascade_frontalface_alt.xml'\n",
        "eyes_cascade_name = 'haarcascade_eye_tree_eyeglasses.xml'\n",
        "file_name = 'obama_01.jpeg, obama_02.jpeg, obama_01.jpg'\n",
        "```\n",
        "\n",
        "파일 위치\n",
        "```\n",
        "- opencv\n",
        "  - data\n",
        "    - haarcascades\n",
        "```"
      ],
      "metadata": {
        "id": "0y13Y88g82xG"
      }
    },
    {
      "cell_type": "code",
      "metadata": {
        "id": "XjZbyknIM-BH"
      },
      "source": [
        ""
      ],
      "execution_count": null,
      "outputs": []
    },
    {
      "cell_type": "code",
      "metadata": {
        "id": "HwT2nJVfNOw7"
      },
      "source": [
        ""
      ],
      "execution_count": null,
      "outputs": []
    },
    {
      "cell_type": "code",
      "metadata": {
        "id": "5nV9lJWENcJD"
      },
      "source": [
        ""
      ],
      "execution_count": null,
      "outputs": []
    },
    {
      "cell_type": "markdown",
      "source": [
        "#### **전처리**"
      ],
      "metadata": {
        "id": "Qk2w36eN8Hb8"
      }
    },
    {
      "cell_type": "code",
      "metadata": {
        "id": "1nvxrGQFN4II"
      },
      "source": [
        ""
      ],
      "execution_count": null,
      "outputs": []
    },
    {
      "cell_type": "code",
      "metadata": {
        "id": "xJpsTG3UOKKw"
      },
      "source": [
        ""
      ],
      "execution_count": null,
      "outputs": []
    },
    {
      "cell_type": "code",
      "metadata": {
        "id": "TiM7QoZ7OGfJ"
      },
      "source": [
        ""
      ],
      "execution_count": null,
      "outputs": []
    },
    {
      "cell_type": "code",
      "source": [
        ""
      ],
      "metadata": {
        "id": "1JnLAo0Q5aEx"
      },
      "execution_count": null,
      "outputs": []
    },
    {
      "cell_type": "markdown",
      "source": [
        "#### **예측**\n"
      ],
      "metadata": {
        "id": "dYmgnkDF8LA9"
      }
    },
    {
      "cell_type": "code",
      "source": [
        ""
      ],
      "metadata": {
        "id": "kUP-S_o48OVz"
      },
      "execution_count": null,
      "outputs": []
    },
    {
      "cell_type": "code",
      "source": [
        ""
      ],
      "metadata": {
        "id": "R5pd6jwZ8gqm"
      },
      "execution_count": null,
      "outputs": []
    },
    {
      "cell_type": "code",
      "source": [
        ""
      ],
      "metadata": {
        "id": "KIBL8ABt8RaS"
      },
      "execution_count": null,
      "outputs": []
    },
    {
      "cell_type": "markdown",
      "source": [
        "#### **함수화**"
      ],
      "metadata": {
        "id": "ng3b7lrM8pU_"
      }
    },
    {
      "cell_type": "code",
      "source": [
        ""
      ],
      "metadata": {
        "id": "LeMSsv8W6OL3"
      },
      "execution_count": null,
      "outputs": []
    },
    {
      "cell_type": "markdown",
      "source": [
        "* 함수사용"
      ],
      "metadata": {
        "id": "pWKvWU6T8rm7"
      }
    },
    {
      "cell_type": "code",
      "source": [
        ""
      ],
      "metadata": {
        "id": "0orGXrzw6jlG"
      },
      "execution_count": null,
      "outputs": []
    },
    {
      "cell_type": "markdown",
      "source": [
        "### | 비디오에 적용하기"
      ],
      "metadata": {
        "id": "KOmu5gJJFEZV"
      }
    },
    {
      "cell_type": "markdown",
      "source": [
        "#### **세팅**\n"
      ],
      "metadata": {
        "id": "CkUUeHVvGDEt"
      }
    },
    {
      "cell_type": "code",
      "metadata": {
        "id": "mI7m4BdD-EDt"
      },
      "source": [
        ""
      ],
      "execution_count": null,
      "outputs": []
    },
    {
      "cell_type": "code",
      "metadata": {
        "id": "T0GOD-rC-EDu"
      },
      "source": [
        ""
      ],
      "execution_count": null,
      "outputs": []
    },
    {
      "cell_type": "code",
      "metadata": {
        "id": "mFfsoE7E-EDu"
      },
      "source": [
        ""
      ],
      "execution_count": null,
      "outputs": []
    },
    {
      "cell_type": "code",
      "metadata": {
        "id": "xR4t7dh3-EDu"
      },
      "source": [
        ""
      ],
      "execution_count": null,
      "outputs": []
    },
    {
      "cell_type": "markdown",
      "source": [
        "#### **함수화**"
      ],
      "metadata": {
        "id": "7r3OWpECGGlz"
      }
    },
    {
      "cell_type": "code",
      "metadata": {
        "id": "cG0SuExZNzSn"
      },
      "source": [
        ""
      ],
      "execution_count": null,
      "outputs": []
    },
    {
      "cell_type": "code",
      "source": [
        ""
      ],
      "metadata": {
        "id": "E7FYIPXqW5kR"
      },
      "execution_count": null,
      "outputs": []
    },
    {
      "cell_type": "markdown",
      "source": [
        "## 과제\n",
        "---\n",
        "\n"
      ],
      "metadata": {
        "id": "3KWrnXSuIPqz"
      }
    },
    {
      "cell_type": "markdown",
      "source": [
        "### **과제 01**\n",
        "\n",
        "[히스토그램](https://opencv-python.readthedocs.io/en/latest/doc/19.imageHistograms/imageHistograms.html)\n",
        "\n",
        "[히스토그램 균일화](https://opencv-python.readthedocs.io/en/latest/doc/20.imageHistogramEqualization/imageHistogramEqualization.html)\n"
      ],
      "metadata": {
        "id": "LJpI_xBBaAgY"
      }
    },
    {
      "cell_type": "code",
      "source": [
        ""
      ],
      "metadata": {
        "id": "A44BzhQmIRHh"
      },
      "execution_count": null,
      "outputs": []
    },
    {
      "cell_type": "markdown",
      "source": [
        "### **과제 02**\n",
        "```\n",
        "- haarcascade_smile.xml\n",
        "- haarcascade_upperbody.xml\n",
        "```"
      ],
      "metadata": {
        "id": "RE7x2rczaDrv"
      }
    },
    {
      "cell_type": "code",
      "source": [
        ""
      ],
      "metadata": {
        "id": "h6LQHYYnaDrv"
      },
      "execution_count": null,
      "outputs": []
    }
  ]
}